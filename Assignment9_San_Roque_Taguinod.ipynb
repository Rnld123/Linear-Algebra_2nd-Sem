{
  "nbformat": 4,
  "nbformat_minor": 0,
  "metadata": {
    "colab": {
      "name": "Assignment9_San Roque_Taguinod",
      "provenance": [],
      "authorship_tag": "ABX9TyM7kelfEPmvVfUtEV0I2BPy",
      "include_colab_link": true
    },
    "kernelspec": {
      "name": "python3",
      "display_name": "Python 3"
    },
    "language_info": {
      "name": "python"
    }
  },
  "cells": [
    {
      "cell_type": "markdown",
      "metadata": {
        "id": "view-in-github",
        "colab_type": "text"
      },
      "source": [
        "<a href=\"https://colab.research.google.com/github/arnoldsanroque/Linear-Algebra_2nd-Sem/blob/main/Assignment9_San_Roque_Taguinod.ipynb\" target=\"_parent\"><img src=\"https://colab.research.google.com/assets/colab-badge.svg\" alt=\"Open In Colab\"/></a>"
      ]
    },
    {
      "cell_type": "markdown",
      "source": [
        "#Assignment 9 - Plotting Vector using NumPy and MatPlotLib"
      ],
      "metadata": {
        "id": "qRyUVUjkc-c1"
      }
    },
    {
      "cell_type": "markdown",
      "source": [
        "In this laboratory we will be discussing the basics of numerical and scientific programming by working with Vectors using NumPy and MatPlotLib."
      ],
      "metadata": {
        "id": "Bx-1muErdB2K"
      }
    },
    {
      "cell_type": "markdown",
      "source": [
        "### Objectives\n",
        "At the end of this activity you will be able to:\n",
        "1. Be familiar with the libraries in Python for numerical and scientific programming.\n",
        "2. Visualize vectors through Python programming.\n",
        "3. Perform simple vector operations through code."
      ],
      "metadata": {
        "id": "Swuy5Tz8dBtr"
      }
    },
    {
      "cell_type": "markdown",
      "source": [
        "## Discussion"
      ],
      "metadata": {
        "id": "iJOh1pnidKA_"
      }
    },
    {
      "cell_type": "markdown",
      "source": [
        "### NumPy\n",
        "NumPy stands for Numerical Python and is a Python package for scientific computing. It requires a practical multi-dimensional array of objects and a variety of functions for working with them.\n",
        "\n",
        "Scalars are quantities that can be defined entirely by a single magnitude (or numerical value).\n",
        "\n",
        "Vectors are quantities with a magnitude and a direction that are completely specified."
      ],
      "metadata": {
        "id": "DvRe-qkxdJzC"
      }
    },
    {
      "cell_type": "markdown",
      "source": [
        "#### Representing Vectors\n",
        "\n",
        "$$ A = 7\\hat{x} + 6\\hat{y} \\\\\n",
        "B = 9\\hat{x} - 3\\hat{y}\\\\\n",
        "C = 7\\hat{i} + 8\\hat{j} - 4\\hat{k} \\\\\n",
        "D = 6\\hat{i} - 7\\hat{j} + 5\\hat{k}$$\n",
        "\n",
        "In which it's matrix equivalent is:\n",
        "\n",
        "$$ A = \\begin{bmatrix} 7 \\\\ 6\\end{bmatrix} , B = \\begin{bmatrix} 9 \\\\ -3\\end{bmatrix} , C = \\begin{bmatrix} 7 \\\\ 8 \\\\  -4 \\end{bmatrix}, D = \\begin{bmatrix} 6 \\\\ -7 \\\\ 5\\end{bmatrix}\n",
        "$$\n",
        "$$ A = \\begin{bmatrix} 7 & 6\\end{bmatrix} , B = \\begin{bmatrix} 9 & -3\\end{bmatrix} , C = \\begin{bmatrix} 7 & 8 & -4\\end{bmatrix} , D = \\begin{bmatrix} 6 & -7 & 5\\end{bmatrix} \n",
        "$$\n",
        "\n",
        "We can then start doing numpy code with this by:"
      ],
      "metadata": {
        "id": "jwAiZc7-de8t"
      }
    },
    {
      "cell_type": "code",
      "execution_count": 2,
      "metadata": {
        "id": "cZIr98byc2LK"
      },
      "outputs": [],
      "source": [
        "import numpy as np"
      ]
    },
    {
      "cell_type": "code",
      "source": [
        "A = np.array([7, 6])\n",
        "B = np.array([9, -3])\n",
        "C = np.array([\n",
        "              [7],\n",
        "              [8],\n",
        "              [-4]\n",
        "])\n",
        "D = np.array ([[6],\n",
        "              [-7],\n",
        "              [5]])\n",
        "print('Vector A is ', A)\n",
        "print('Vector B is ', B)\n",
        "print('Vector C is ', C)\n",
        "print('Vector D is ', D)"
      ],
      "metadata": {
        "id": "MhEyx3SNd0MN"
      },
      "execution_count": null,
      "outputs": []
    },
    {
      "cell_type": "markdown",
      "source": [
        "#### Describing vectors in NumPy\n",
        "\n",
        "If we intend to execute basic to complex operations using vectors, we must first define them. Knowing the shape, size, and dimensions of vectors are the most basic ways to describe them."
      ],
      "metadata": {
        "id": "ENTJlE9td7NC"
      }
    },
    {
      "cell_type": "code",
      "source": [
        "### Checking shapes\n",
        "### Shapes tells us how many elements are there on each row and column\n",
        "\n",
        "A.shape\n",
        "L = np.array([4, 9, -8, 6, -2.1, 7])\n",
        "L.shape\n"
      ],
      "metadata": {
        "id": "fsXE_oKAd2mg"
      },
      "execution_count": null,
      "outputs": []
    },
    {
      "cell_type": "code",
      "source": [
        "### Checking size\n",
        "### Array/Vector sizes tells us many total number of elements are there in the vector\n",
        "\n",
        "L.size"
      ],
      "metadata": {
        "id": "xZpEOQkueBUP"
      },
      "execution_count": null,
      "outputs": []
    },
    {
      "cell_type": "code",
      "source": [
        "### Checking dimensions\n",
        "### The dimensions or rank of a vector tells us how many dimensions are there for the vector.\n",
        "W = np.array([[[4, 9, -8, 6, -2.1, 7]]])\n",
        "W.ndim"
      ],
      "metadata": {
        "id": "WhGxv_B2eDgZ"
      },
      "execution_count": null,
      "outputs": []
    },
    {
      "cell_type": "markdown",
      "source": [
        "#### Addition\n",
        "\n",
        "The addition rule is straightforward: we simply add the matrices' elements according to their index. In this situation, combining vectors $C$ and $D$ yields the following vector:\n",
        "\n",
        "$$R = 13\\hat{i}+\\hat{j}+\\hat{k} \\\\ \\\\or \\\\ \\\\ R = \\begin{bmatrix} 13 & 1 & 1\\end{bmatrix} \n",
        "$$"
      ],
      "metadata": {
        "id": "y4EJ_8j8eIkH"
      }
    },
    {
      "cell_type": "code",
      "source": [
        "R = np.add(C, D) \n",
        "P = np.add(A, B)"
      ],
      "metadata": {
        "id": "ccrbSVh1eQ4Y"
      },
      "execution_count": null,
      "outputs": []
    },
    {
      "cell_type": "code",
      "source": [
        "R = C + D\n",
        "\n",
        "R"
      ],
      "metadata": {
        "id": "NGBYu4ceeRxX"
      },
      "execution_count": null,
      "outputs": []
    },
    {
      "cell_type": "code",
      "source": [
        "P = A + B   \n",
        "\n",
        "P"
      ],
      "metadata": {
        "id": "lBjbdVRUeV7Y"
      },
      "execution_count": null,
      "outputs": []
    },
    {
      "cell_type": "code",
      "source": [
        "pos1 = np.array([1,2,3])\n",
        "pos2 = np.array([3,-10,13])\n",
        "pos3 = np.array([2,-5,7])\n",
        "pos4 = np.array([4,-0.3,4])\n",
        "R = pos1 + pos2 + pos3 + pos4\n",
        "#R = np.multiply(pos3, pos4)\n",
        "#R = pos2/ pos4\n",
        "R"
      ],
      "metadata": {
        "id": "bWezd2eNeWif"
      },
      "execution_count": null,
      "outputs": []
    },
    {
      "cell_type": "code",
      "source": [
        "pos1 = np.array([1,2,3])\n",
        "pos2 = np.array([3,-10,13])\n",
        "pos3 = np.array([2,-5,7])\n",
        "pos4 = np.array([4,-0.3,4])\n",
        "#R = pos1 + pos2 + pos3 + pos4\n",
        "R = np.multiply(pos3, pos4)\n",
        "#R = pos2 / pos4\n",
        "R"
      ],
      "metadata": {
        "id": "rGmlcvuieYZC"
      },
      "execution_count": null,
      "outputs": []
    },
    {
      "cell_type": "code",
      "source": [
        "pos1 = np.array([1,2,3])\n",
        "pos2 = np.array([3,-10,13])\n",
        "pos3 = np.array([2,-5,7])\n",
        "pos4 = np.array([4,-0.3,4])\n",
        "#R = pos1 + pos2 + pos3 + pos4\n",
        "#R = np.multiply(pos1, pos4)\n",
        "R = pos2 / pos4\n",
        "R"
      ],
      "metadata": {
        "id": "M3IFtjuEeaOQ"
      },
      "execution_count": null,
      "outputs": []
    },
    {
      "cell_type": "markdown",
      "source": [
        "##### Try for yourself!\n",
        "\n",
        "Try to implement subtraction, multiplication, and division with vectors $A$ and $B$!"
      ],
      "metadata": {
        "id": "4NPafP-Dehse"
      }
    },
    {
      "cell_type": "code",
      "source": [
        "### Subtraction\n",
        "J = np.subtract (A,B)\n",
        "\n",
        "J"
      ],
      "metadata": {
        "id": "TX3xXVzgeb5o"
      },
      "execution_count": null,
      "outputs": []
    },
    {
      "cell_type": "code",
      "source": [
        "### Multiplication\n",
        "O = np.multiply (A,B)\n",
        "\n",
        "O"
      ],
      "metadata": {
        "id": "lCgEpKLqemXT"
      },
      "execution_count": null,
      "outputs": []
    },
    {
      "cell_type": "code",
      "source": [
        "### Division\n",
        "N = np.divide (A,B)\n",
        "\n",
        "N"
      ],
      "metadata": {
        "id": "YyXe1lBxeoyb"
      },
      "execution_count": null,
      "outputs": []
    },
    {
      "cell_type": "markdown",
      "source": [
        "### Scaling\n",
        "\n",
        "Scaling, also known as scalar multiplication, involves multiplying a scalar value by a vector. Consider the following case:\n",
        "\n",
        "$$S = 7 \\cdot B$$\n",
        "\n",
        "We can do this in numpy through:\n"
      ],
      "metadata": {
        "id": "Ehl2GJVketGQ"
      }
    },
    {
      "cell_type": "code",
      "source": [
        "#S = 7 * B\n",
        "S = np.multiply(7,B)\n",
        "S"
      ],
      "metadata": {
        "id": "GrpiwF4XeqoH"
      },
      "execution_count": null,
      "outputs": []
    },
    {
      "cell_type": "markdown",
      "source": [
        "Try to implement scaling with two vectors."
      ],
      "metadata": {
        "id": "P_yOuIhMe2t6"
      }
    },
    {
      "cell_type": "code",
      "source": [
        "###Scaling with two vectors\n",
        "#S = 4 * A\n",
        "#S = 4 * B\n",
        "A = np.array ([7,4])\n",
        "B = np.array ([10,7])\n",
        "S = np.multiply (4,A)\n",
        "S"
      ],
      "metadata": {
        "id": "sNLFQq1te5sU"
      },
      "execution_count": null,
      "outputs": []
    },
    {
      "cell_type": "code",
      "source": [
        "###Scaling with two vectors\n",
        "#S = 4 * A\n",
        "#S = 4 * B\n",
        "A = np.array ([7,4])\n",
        "B = np.array ([10,7])\n",
        "S = np.multiply (4,B)\n",
        "S"
      ],
      "metadata": {
        "id": "NV3ZZdCTe77y"
      },
      "execution_count": null,
      "outputs": []
    },
    {
      "cell_type": "markdown",
      "source": [
        "### MatPlotLib\n",
        "\n",
        "MatPlotLib, also known as the MATLab Plotting Library, is Python's version of MATLab's plotting capability. MatPlotLib has a wide range of applications, from grabbing numbers to showing data in several dimensions."
      ],
      "metadata": {
        "id": "Qs9tk8IyfChv"
      }
    },
    {
      "cell_type": "markdown",
      "source": [
        "#### Visualizing Data"
      ],
      "metadata": {
        "id": "jq6Y_MuPfHKH"
      }
    },
    {
      "cell_type": "code",
      "source": [
        "import matplotlib.pyplot as plt\n",
        "import matplotlib\n",
        "%matplotlib inline"
      ],
      "metadata": {
        "id": "qC3_J9LCfAjr"
      },
      "execution_count": 1,
      "outputs": []
    },
    {
      "cell_type": "code",
      "source": [
        "A = [7, 4]\n",
        "B = [-4, 3]\n",
        "plt.scatter(A[0], A[1], label='A', c='blue')\n",
        "plt.scatter(B[0], B[1], label='B', c='red')\n",
        "plt.grid()\n",
        "plt.legend()\n",
        "plt.show()"
      ],
      "metadata": {
        "id": "bHkhc6CSfL6g"
      },
      "execution_count": null,
      "outputs": []
    },
    {
      "cell_type": "code",
      "source": [
        "A = np.array([2, -3])\n",
        "B = np.array([2, 4])\n",
        "R = A + B\n",
        "Magnitude = np.sqrt(np.sum(R**2))\n",
        "plt.title(\"Resultant Vector\\nMagnitude:{}\" .format(Magnitude))\n",
        "plt.xlim(-4, 4)\n",
        "plt.ylim(-4, 4)\n",
        "plt.quiver(0, 0, A[0], A[1], angles='xy', scale_units='xy', scale=1, color='red')\n",
        "plt.quiver(A[0], A[1], B[0], B[1], angles='xy', scale_units='xy', scale=1, color='green')\n",
        "plt.quiver(0, 0, R[0], R[1], angles='xy', scale_units='xy', scale=1, color='black')\n",
        "plt.grid()\n",
        "plt.show()\n",
        "print(R)\n",
        "print(Magnitude)\n",
        "Slope = R[1]/R[0]\n",
        "print(Slope)\n",
        "Angle = (np.arctan(Slope))*(180/np.pi)\n",
        "print(Angle)"
      ],
      "metadata": {
        "id": "mV0lnoWkfOqv"
      },
      "execution_count": null,
      "outputs": []
    },
    {
      "cell_type": "markdown",
      "source": [
        "Try plotting Three Vectors and show the Resultant Vector as a result. Use Head to Tail Method."
      ],
      "metadata": {
        "id": "YbgbCQzqfUj7"
      }
    },
    {
      "cell_type": "code",
      "source": [
        "### 2x2 vector\n",
        "A = np.array([1.5, -2])\n",
        "B = np.array([1.5, 4])\n",
        "R = A + B\n",
        "Magnitude = np.sqrt(np.sum(R**2))\n",
        "plt.title(\"Resultant Vector\\nMagnitude:{}\" .format(Magnitude))\n",
        "plt.xlim(-4, 4)\n",
        "plt.ylim(-4, 4)\n",
        "plt.quiver(0, 0, A[0], A[1], angles='xy', scale_units='xy', scale=1, color='purple')\n",
        "plt.quiver(A[0], A[1], B[0], B[1], angles='xy', scale_units='xy', scale=1, color='blue')\n",
        "plt.quiver(0, 0, R[0], R[1], angles='xy', scale_units='xy', scale=1, color='grey')\n",
        "plt.grid()\n",
        "plt.show()\n",
        "print(R)\n",
        "print(Magnitude)\n",
        "Slope = R[1]/R[0]\n",
        "print(Slope)\n",
        "Angle = (np.arctan(Slope))*(180/np.pi)\n",
        "print(Angle)"
      ],
      "metadata": {
        "colab": {
          "base_uri": "https://localhost:8080/",
          "height": 365
        },
        "id": "ctLH7KfQnNiG",
        "outputId": "6f0e105d-7ccd-45b1-9468-023822ca2217"
      },
      "execution_count": 69,
      "outputs": [
        {
          "output_type": "display_data",
          "data": {
            "text/plain": [
              "<Figure size 432x288 with 1 Axes>"
            ],
            "image/png": "[encoded data removed]"
          },
          "metadata": {
            "needs_background": "light"
          }
        },
        {
          "output_type": "stream",
          "name": "stdout",
          "text": [
            "[3. 2.]\n",
            "3.605551275463989\n",
            "0.6666666666666666\n",
            "33.690067525979785\n"
          ]
        }
      ]
    },
    {
      "cell_type": "code",
      "source": [
        "sheesh = np.array([8, 12])\n",
        "yikes = np.array([12, 8])\n",
        "meh = sheesh + yikes\n",
        "nah = np.array([-15, 15])\n",
        "shoot = nah + sheesh + yikes\n",
        "magnitude = np.sqrt(np.sum(shoot**2))\n",
        "plt.title(\"Resultant Vector\\nMagnitude: {} \\n Resultant: {}\".format(magnitude, shoot))\n",
        "plt.xlim(-10, 40)\n",
        "plt.ylim(-10, 40)\n",
        "plt.quiver(0, 0, sheesh[0], sheesh[1], angles='xy', scale_units='xy', scale=1, color='green')\n",
        "plt.quiver(sheesh[0], sheesh[1], yikes[0], yikes[1], angles='xy', scale_units='xy', scale=1, color='blue')\n",
        "plt.quiver(meh[0], meh[1], nah[0], nah[1], angles='xy', scale_units='xy', scale=1, color='purple')\n",
        "plt.quiver(0, 0, shoot[0], shoot[1], angles='xy', scale_units='xy', scale=1, color='red')\n",
        "plt.grid()\n",
        "plt.show()\n",
        "Slope = R[1]/R[0]\n",
        "print(Slope)\n",
        "Angle = (np.arctan(Slope))*(180/np.pi)\n",
        "print(Angle)"
      ],
      "metadata": {
        "colab": {
          "base_uri": "https://localhost:8080/",
          "height": 346
        },
        "id": "HqeMbRXjgKbl",
        "outputId": "bc41ff89-0107-42de-c6b7-ce41fcae3d7a"
      },
      "execution_count": 70,
      "outputs": [
        {
          "output_type": "display_data",
          "data": {
            "text/plain": [
              "<Figure size 432x288 with 1 Axes>"
            ],
            "image/png": "[encoded data removed]"
          },
          "metadata": {
            "needs_background": "light"
          }
        },
        {
          "output_type": "stream",
          "name": "stdout",
          "text": [
            "0.6666666666666666\n",
            "33.690067525979785\n"
          ]
        }
      ]
    }
  ]
}