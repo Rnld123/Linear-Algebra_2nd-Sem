{
  "nbformat": 4,
  "nbformat_minor": 0,
  "metadata": {
    "colab": {
      "name": "Activity 1 - Python Fundamentals",
      "provenance": [],
      "collapsed_sections": [],
      "authorship_tag": "ABX9TyOgLtJn9NV7tkvckOg0kKpr",
      "include_colab_link": true
    },
    "kernelspec": {
      "name": "python3",
      "display_name": "Python 3"
    },
    "language_info": {
      "name": "python"
    }
  },
  "cells": [
    {
      "cell_type": "markdown",
      "metadata": {
        "id": "view-in-github",
        "colab_type": "text"
      },
      "source": [
        "<a href=\"https://colab.research.google.com/github/arnoldsanroque/Linear-Algebra_2nd-Sem/blob/main/Activity_1_Python_Fundamentals.ipynb\" target=\"_parent\"><img src=\"https://colab.research.google.com/assets/colab-badge.svg\" alt=\"Open In Colab\"/></a>"
      ]
    },
    {
      "cell_type": "markdown",
      "source": [
        "# Welcome to Python Fundamentals\n",
        "In this module, we are going to establish or review our skills in Python programming. In this notebook we are going to cover:\n",
        "* Variables and Data Types \n",
        "* Operations\n",
        "* Input and Output Operations\n",
        "* Logic Control\n",
        "* Iterables\n",
        "* Functions"
      ],
      "metadata": {
        "id": "Io54VPw9uEYb"
      }
    },
    {
      "cell_type": "markdown",
      "source": [
        "## Variable and Data Types"
      ],
      "metadata": {
        "id": "8SzeJju_tF8p"
      }
    },
    {
      "cell_type": "markdown",
      "source": [
        "Variables are alphabet letters from a-z, words, or underscore where a programmer can\n",
        "store or declare a certain value or a data type to be used for specifications. Every variable is\n",
        "affiliated with data types. Data types define what is the meaning of data, what must be done,\n",
        "and in what way must the declared values be stored [2]. In simpler words, data type\n",
        "determined what type of operation must be performed in the stored data.\n",
        "\n",
        "Number, string, lists, tuple, set, dictionary and tuple are the different data types that\n",
        "can be used in python programming [3]. Each data type has a specific purpose in the\n",
        "declaration of data.\n"
      ],
      "metadata": {
        "id": "B30gHWvLlwT3"
      }
    },
    {
      "cell_type": "code",
      "source": [
        "x = 1\n",
        "a,b = 0, -1\n",
        "x"
      ],
      "metadata": {
        "id": "onvierFHtbEW",
        "colab": {
          "base_uri": "https://localhost:8080/"
        },
        "outputId": "7d938c53-019b-431d-faa0-4ee4d372ac2d"
      },
      "execution_count": null,
      "outputs": [
        {
          "output_type": "execute_result",
          "data": {
            "text/plain": [
              "1"
            ]
          },
          "metadata": {},
          "execution_count": 10
        }
      ]
    },
    {
      "cell_type": "code",
      "source": [
        "type(x)\n"
      ],
      "metadata": {
        "id": "kCBG_txovgZF",
        "colab": {
          "base_uri": "https://localhost:8080/"
        },
        "outputId": "80932c8f-786f-4a4b-a264-41dc897628ff"
      },
      "execution_count": null,
      "outputs": [
        {
          "output_type": "execute_result",
          "data": {
            "text/plain": [
              "int"
            ]
          },
          "metadata": {},
          "execution_count": 11
        }
      ]
    },
    {
      "cell_type": "code",
      "source": [
        "y = 1.0\n",
        "type(y)\n",
        "\n"
      ],
      "metadata": {
        "id": "A3waRZVvwgKw",
        "colab": {
          "base_uri": "https://localhost:8080/"
        },
        "outputId": "44b0e0c9-34d5-4b1c-ff0f-6030d57ee1ee"
      },
      "execution_count": null,
      "outputs": [
        {
          "output_type": "execute_result",
          "data": {
            "text/plain": [
              "float"
            ]
          },
          "metadata": {},
          "execution_count": 61
        }
      ]
    },
    {
      "cell_type": "code",
      "source": [
        "x = float(x)\n",
        "type(x)"
      ],
      "metadata": {
        "id": "4qMQPA-TwlpV",
        "colab": {
          "base_uri": "https://localhost:8080/"
        },
        "outputId": "99a72eae-e394-41d5-bfb7-9658a63cb5c7"
      },
      "execution_count": null,
      "outputs": [
        {
          "output_type": "execute_result",
          "data": {
            "text/plain": [
              "float"
            ]
          },
          "metadata": {},
          "execution_count": 13
        }
      ]
    },
    {
      "cell_type": "code",
      "source": [
        "s,t,u = \"0\", '1', 'one'\n",
        "type(s)\n"
      ],
      "metadata": {
        "id": "nHG4ste8wyMX",
        "colab": {
          "base_uri": "https://localhost:8080/"
        },
        "outputId": "4717f927-5386-41aa-f102-c30e3afd1f30"
      },
      "execution_count": null,
      "outputs": [
        {
          "output_type": "execute_result",
          "data": {
            "text/plain": [
              "str"
            ]
          },
          "metadata": {},
          "execution_count": 14
        }
      ]
    },
    {
      "cell_type": "code",
      "source": [
        "s_int = int(s)\n",
        "s_int"
      ],
      "metadata": {
        "id": "he6sYXgFxNQz",
        "colab": {
          "base_uri": "https://localhost:8080/"
        },
        "outputId": "9746211f-7a0d-4a50-bde8-3191121a686c"
      },
      "execution_count": null,
      "outputs": [
        {
          "output_type": "execute_result",
          "data": {
            "text/plain": [
              "0"
            ]
          },
          "metadata": {},
          "execution_count": 15
        }
      ]
    },
    {
      "cell_type": "markdown",
      "source": [
        "## Operations"
      ],
      "metadata": {
        "id": "rx6K8K9cyF-7"
      }
    },
    {
      "cell_type": "markdown",
      "source": [
        "In the python programming language, there are special symbols called “operators”\n",
        "that implement mathematical and logical computation. Operand stands for the medium\n",
        "operated on by the operator. The python operators are Arithmetic Operators, Comparison\n",
        "Operators, Logical Operators, Bitwise Operators, Assignment Operators, and Special\n",
        "Operators \n",
        "\n"
      ],
      "metadata": {
        "id": "K3L6SQjHmOVA"
      }
    },
    {
      "cell_type": "markdown",
      "source": [
        "### Arithmetic"
      ],
      "metadata": {
        "id": "QYyWT6dLyNMU"
      }
    },
    {
      "cell_type": "markdown",
      "source": [
        "From the word itself, arithmetic operations are used to execute mathematical\n",
        "operations such as multiplication, addition, subtraction, and division. It\n",
        "was made possible by the use of the operation signs, “+, -, /, *”. Floor division using the\n",
        "code, “//”, exponentiation using the code, “**”, and modulo using the code, “%”, are also part\n",
        "of arithmetic operations\n"
      ],
      "metadata": {
        "id": "wn9j-a5DnsUg"
      }
    },
    {
      "cell_type": "code",
      "source": [
        "a,b,c,d = 2.0, -0.5, 0, -32"
      ],
      "metadata": {
        "id": "0rKJDnm2yRaf"
      },
      "execution_count": null,
      "outputs": []
    },
    {
      "cell_type": "code",
      "source": [
        "### Addition\n",
        "S = a + b\n",
        "S"
      ],
      "metadata": {
        "id": "4hNIUYAsyri9",
        "colab": {
          "base_uri": "https://localhost:8080/"
        },
        "outputId": "e779f319-ccd8-4343-c134-5f8ad14f6de3"
      },
      "execution_count": null,
      "outputs": [
        {
          "output_type": "execute_result",
          "data": {
            "text/plain": [
              "1.5"
            ]
          },
          "metadata": {},
          "execution_count": 17
        }
      ]
    },
    {
      "cell_type": "code",
      "source": [
        "### Subtraction\n",
        "D = b - d\n",
        "D"
      ],
      "metadata": {
        "id": "rGcKFVbRzOIU",
        "colab": {
          "base_uri": "https://localhost:8080/"
        },
        "outputId": "546b0c42-3e3f-4ac6-f108-40fe62448dff"
      },
      "execution_count": null,
      "outputs": [
        {
          "output_type": "execute_result",
          "data": {
            "text/plain": [
              "31.5"
            ]
          },
          "metadata": {},
          "execution_count": 18
        }
      ]
    },
    {
      "cell_type": "code",
      "source": [
        "### Multiplication\n",
        "P = a*d\n",
        "P"
      ],
      "metadata": {
        "id": "JWMc_v37zgl6",
        "colab": {
          "base_uri": "https://localhost:8080/"
        },
        "outputId": "060a4e70-ac41-4acb-956b-703ac5c8c747"
      },
      "execution_count": null,
      "outputs": [
        {
          "output_type": "execute_result",
          "data": {
            "text/plain": [
              "-64.0"
            ]
          },
          "metadata": {},
          "execution_count": 19
        }
      ]
    },
    {
      "cell_type": "code",
      "source": [
        "### Division\n",
        "Q = c / a\n",
        "Q"
      ],
      "metadata": {
        "id": "MPzZ2MqezraM",
        "colab": {
          "base_uri": "https://localhost:8080/"
        },
        "outputId": "12341bfe-4a32-4b3c-f328-927af83fe789"
      },
      "execution_count": null,
      "outputs": [
        {
          "output_type": "execute_result",
          "data": {
            "text/plain": [
              "0.0"
            ]
          },
          "metadata": {},
          "execution_count": 20
        }
      ]
    },
    {
      "cell_type": "code",
      "source": [
        "### Floor Division\n",
        "Fq = a//b\n",
        "Fq"
      ],
      "metadata": {
        "id": "MkBJz_4N7cdc",
        "colab": {
          "base_uri": "https://localhost:8080/"
        },
        "outputId": "95f9ee47-634e-4895-c234-e47ac47f719c"
      },
      "execution_count": null,
      "outputs": [
        {
          "output_type": "execute_result",
          "data": {
            "text/plain": [
              "-4.0"
            ]
          },
          "metadata": {},
          "execution_count": 21
        }
      ]
    },
    {
      "cell_type": "code",
      "source": [
        "### Exponentiation\n",
        "E = a**b\n",
        "E"
      ],
      "metadata": {
        "id": "IVoYGtrV7kcA",
        "colab": {
          "base_uri": "https://localhost:8080/"
        },
        "outputId": "c8041e24-d0b9-472a-9f11-806eb8ff4cb4"
      },
      "execution_count": null,
      "outputs": [
        {
          "output_type": "execute_result",
          "data": {
            "text/plain": [
              "0.7071067811865476"
            ]
          },
          "metadata": {},
          "execution_count": 22
        }
      ]
    },
    {
      "cell_type": "code",
      "source": [
        "### Modulo\n",
        "mod = d%a\n",
        "mod"
      ],
      "metadata": {
        "id": "jabQhb4c8S0R",
        "colab": {
          "base_uri": "https://localhost:8080/"
        },
        "outputId": "1ada99ce-1f71-482d-e373-6c45ea8304d7"
      },
      "execution_count": null,
      "outputs": [
        {
          "output_type": "execute_result",
          "data": {
            "text/plain": [
              "0.0"
            ]
          },
          "metadata": {},
          "execution_count": 23
        }
      ]
    },
    {
      "cell_type": "markdown",
      "source": [
        "### Assignment Operations"
      ],
      "metadata": {
        "id": "dIUF7ayl1lG0"
      }
    },
    {
      "cell_type": "markdown",
      "source": [
        "It enables the\n",
        "programmer to assign values in the variables."
      ],
      "metadata": {
        "id": "pWgfIDPioAc3"
      }
    },
    {
      "cell_type": "code",
      "source": [
        "G, H, J, K = 0, 100, 2, 2"
      ],
      "metadata": {
        "id": "ASHa3m4b1oCW"
      },
      "execution_count": null,
      "outputs": []
    },
    {
      "cell_type": "code",
      "source": [
        "G += a\n",
        "G"
      ],
      "metadata": {
        "id": "hJVGqBSF1y8-",
        "colab": {
          "base_uri": "https://localhost:8080/"
        },
        "outputId": "85137708-ece4-4dc7-bd0a-9de90dc2a351"
      },
      "execution_count": null,
      "outputs": [
        {
          "output_type": "execute_result",
          "data": {
            "text/plain": [
              "2.0"
            ]
          },
          "metadata": {},
          "execution_count": 25
        }
      ]
    },
    {
      "cell_type": "code",
      "source": [
        "H -= d\n",
        "H"
      ],
      "metadata": {
        "id": "lcqSVj9w2cSc",
        "colab": {
          "base_uri": "https://localhost:8080/"
        },
        "outputId": "c236d31d-f04c-4bd0-edbf-3db7683ff1d8"
      },
      "execution_count": null,
      "outputs": [
        {
          "output_type": "execute_result",
          "data": {
            "text/plain": [
              "132"
            ]
          },
          "metadata": {},
          "execution_count": 26
        }
      ]
    },
    {
      "cell_type": "code",
      "source": [
        "J *= 2\n",
        "J"
      ],
      "metadata": {
        "id": "4Z0gQj793F8M",
        "colab": {
          "base_uri": "https://localhost:8080/"
        },
        "outputId": "327694b5-3af5-4057-e775-232ba6ddc5ec"
      },
      "execution_count": null,
      "outputs": [
        {
          "output_type": "execute_result",
          "data": {
            "text/plain": [
              "4"
            ]
          },
          "metadata": {},
          "execution_count": 27
        }
      ]
    },
    {
      "cell_type": "code",
      "source": [
        "K **= 2\n",
        "K"
      ],
      "metadata": {
        "id": "SoN_VIs_3Me8",
        "colab": {
          "base_uri": "https://localhost:8080/"
        },
        "outputId": "3cebf002-fba6-41b9-d95c-d7347e916b9e"
      },
      "execution_count": null,
      "outputs": [
        {
          "output_type": "execute_result",
          "data": {
            "text/plain": [
              "4"
            ]
          },
          "metadata": {},
          "execution_count": 28
        }
      ]
    },
    {
      "cell_type": "markdown",
      "source": [
        "### Comparators\n"
      ],
      "metadata": {
        "id": "dfz6uMDu3Yoe"
      }
    },
    {
      "cell_type": "markdown",
      "source": [
        "Comparison operators are used in comparing values as it checks the equality,\n",
        "non-equality, or inequality of two different variables;\n",
        "conforming to the condition, it returns either true or false."
      ],
      "metadata": {
        "id": "_SCrivpdoKlj"
      }
    },
    {
      "cell_type": "code",
      "source": [
        "res_1, res_2, res_3 = 1, 2.0, \"1\"\n",
        "true_val = 1.0"
      ],
      "metadata": {
        "id": "wF9RrQDa-BKZ"
      },
      "execution_count": null,
      "outputs": []
    },
    {
      "cell_type": "code",
      "source": [
        "## Equality\n",
        "res_1 == true_val"
      ],
      "metadata": {
        "id": "s7QsQSvq-PLl",
        "colab": {
          "base_uri": "https://localhost:8080/"
        },
        "outputId": "5a53e97e-de5e-4eef-df2c-8e1da38dd534"
      },
      "execution_count": null,
      "outputs": [
        {
          "output_type": "execute_result",
          "data": {
            "text/plain": [
              "True"
            ]
          },
          "metadata": {},
          "execution_count": 30
        }
      ]
    },
    {
      "cell_type": "code",
      "source": [
        "## Non-equality\n",
        "res_2 != true_val"
      ],
      "metadata": {
        "id": "8BAMpAus-Wke",
        "colab": {
          "base_uri": "https://localhost:8080/"
        },
        "outputId": "fcdb2e71-5a86-48d3-85df-020d5ca18716"
      },
      "execution_count": null,
      "outputs": [
        {
          "output_type": "execute_result",
          "data": {
            "text/plain": [
              "True"
            ]
          },
          "metadata": {},
          "execution_count": 31
        }
      ]
    },
    {
      "cell_type": "code",
      "source": [
        "## Inequality\n",
        "t1 = res_1 > res_2\n",
        "t2 = res_1 < res_2/2\n",
        "t3 = res_1 >= res_2/2\n",
        "t4 = res_1 <= res_2\n",
        "t1"
      ],
      "metadata": {
        "id": "QKmtGoQq-iMt",
        "colab": {
          "base_uri": "https://localhost:8080/"
        },
        "outputId": "22d86eb3-beb0-4392-a407-1e198a0394d9"
      },
      "execution_count": null,
      "outputs": [
        {
          "output_type": "execute_result",
          "data": {
            "text/plain": [
              "False"
            ]
          },
          "metadata": {},
          "execution_count": 32
        }
      ]
    },
    {
      "cell_type": "markdown",
      "source": [
        "### Logical"
      ],
      "metadata": {
        "id": "7MN8HeH3_LQk"
      }
    },
    {
      "cell_type": "markdown",
      "source": [
        "The application of math logic through programming. It\n",
        "uses “and” to denote the logic of conjunction, “or” to denote disjunction, and “not” to denote\n",
        "negation. Math logic has this so-called “Truth Table” and the codes presented are the\n",
        "arguments of that table.\n"
      ],
      "metadata": {
        "id": "e0sC5_KwoOT7"
      }
    },
    {
      "cell_type": "code",
      "source": [
        "res_1 == true_val"
      ],
      "metadata": {
        "id": "uzTKPn7d_NuU",
        "colab": {
          "base_uri": "https://localhost:8080/"
        },
        "outputId": "732976f6-98ba-41ba-8992-5a8d194b67be"
      },
      "execution_count": null,
      "outputs": [
        {
          "output_type": "execute_result",
          "data": {
            "text/plain": [
              "True"
            ]
          },
          "metadata": {},
          "execution_count": 33
        }
      ]
    },
    {
      "cell_type": "code",
      "source": [
        "res_1 is true_val"
      ],
      "metadata": {
        "id": "OSuYnZ-j_XLS",
        "colab": {
          "base_uri": "https://localhost:8080/"
        },
        "outputId": "60393f76-0e28-42ce-abbb-888de2f6dcf6"
      },
      "execution_count": null,
      "outputs": [
        {
          "output_type": "execute_result",
          "data": {
            "text/plain": [
              "False"
            ]
          },
          "metadata": {},
          "execution_count": 34
        }
      ]
    },
    {
      "cell_type": "code",
      "source": [
        "res_1 is not true_val"
      ],
      "metadata": {
        "id": "qbBd2Mrt_bs6",
        "colab": {
          "base_uri": "https://localhost:8080/"
        },
        "outputId": "0ab9fc63-e990-4be9-a8f0-293ebdea2945"
      },
      "execution_count": null,
      "outputs": [
        {
          "output_type": "execute_result",
          "data": {
            "text/plain": [
              "True"
            ]
          },
          "metadata": {},
          "execution_count": 35
        }
      ]
    },
    {
      "cell_type": "code",
      "source": [
        "p, q = True, False\n",
        "conj = p and q\n",
        "conj"
      ],
      "metadata": {
        "id": "GQCTNEeC_izz",
        "colab": {
          "base_uri": "https://localhost:8080/"
        },
        "outputId": "f9a01aa5-2bbf-4e1e-ebf0-6f51ae95383c"
      },
      "execution_count": null,
      "outputs": [
        {
          "output_type": "execute_result",
          "data": {
            "text/plain": [
              "False"
            ]
          },
          "metadata": {},
          "execution_count": 36
        }
      ]
    },
    {
      "cell_type": "code",
      "source": [
        "p, q = True, False\n",
        "disj = p or q\n",
        "disj"
      ],
      "metadata": {
        "id": "l_vLaizT_tLz",
        "colab": {
          "base_uri": "https://localhost:8080/"
        },
        "outputId": "6ab6584c-abf4-40ad-ca37-82f0f26a0da9"
      },
      "execution_count": null,
      "outputs": [
        {
          "output_type": "execute_result",
          "data": {
            "text/plain": [
              "True"
            ]
          },
          "metadata": {},
          "execution_count": 37
        }
      ]
    },
    {
      "cell_type": "code",
      "source": [
        "p, q = True, False\n",
        "nand = not(p and q)\n",
        "nand"
      ],
      "metadata": {
        "id": "GgYzwXqH_6sO",
        "colab": {
          "base_uri": "https://localhost:8080/"
        },
        "outputId": "20993485-1377-4674-a7c2-46e8ab1bcc70"
      },
      "execution_count": null,
      "outputs": [
        {
          "output_type": "execute_result",
          "data": {
            "text/plain": [
              "True"
            ]
          },
          "metadata": {},
          "execution_count": 38
        }
      ]
    },
    {
      "cell_type": "code",
      "source": [
        "p, q = True, False\n",
        "xor = (not p and q) or (p and not q)\n",
        "xor"
      ],
      "metadata": {
        "id": "pNXZCOiaAVFF",
        "colab": {
          "base_uri": "https://localhost:8080/"
        },
        "outputId": "1789e9a3-edac-468e-b0ce-3d596ffa81d2"
      },
      "execution_count": null,
      "outputs": [
        {
          "output_type": "execute_result",
          "data": {
            "text/plain": [
              "True"
            ]
          },
          "metadata": {},
          "execution_count": 39
        }
      ]
    },
    {
      "cell_type": "markdown",
      "source": [
        "# I/O"
      ],
      "metadata": {
        "id": "Ya3hTBH4A_R_"
      }
    },
    {
      "cell_type": "markdown",
      "source": [
        "Input operations’ function, using the code “input()”, is for the programmer or the\n",
        "intended user to input any data that is required in the program. It evaluates the inputted data\n",
        "and convert it later into a string or float depending on the data inputted by the user. Output\n",
        "operations are used to display the inputted data or any message using the code, “print()” by\n",
        "evaluating the data first.\n"
      ],
      "metadata": {
        "id": "hfiqQsdSm0DX"
      }
    },
    {
      "cell_type": "code",
      "source": [
        "print(\"Hello World\")"
      ],
      "metadata": {
        "id": "CVgwNcNyBBPz",
        "colab": {
          "base_uri": "https://localhost:8080/"
        },
        "outputId": "4f69c03c-adde-48f4-f0fd-3ef50f63fb3d"
      },
      "execution_count": null,
      "outputs": [
        {
          "output_type": "stream",
          "name": "stdout",
          "text": [
            "Hello World\n"
          ]
        }
      ]
    },
    {
      "cell_type": "code",
      "source": [
        "cnt = 1"
      ],
      "metadata": {
        "id": "bbPrmM6LBG_L"
      },
      "execution_count": null,
      "outputs": []
    },
    {
      "cell_type": "code",
      "source": [
        "string = \"Hello World\"\n",
        "print(string, \"Current run count is: \", cnt)\n",
        "cnt += 1"
      ],
      "metadata": {
        "id": "RaHvSSZNBMdy",
        "colab": {
          "base_uri": "https://localhost:8080/"
        },
        "outputId": "7d53efd8-300c-4b60-88be-5926655a46ec"
      },
      "execution_count": null,
      "outputs": [
        {
          "output_type": "stream",
          "name": "stdout",
          "text": [
            "Hello World Current run count is:  1\n"
          ]
        }
      ]
    },
    {
      "cell_type": "code",
      "source": [
        "print(f\"{string}, Current count is: {cnt}\")"
      ],
      "metadata": {
        "id": "hWx8s0itBcAh",
        "colab": {
          "base_uri": "https://localhost:8080/"
        },
        "outputId": "bfa9bbd7-77b3-4e28-8826-33734da67461"
      },
      "execution_count": null,
      "outputs": [
        {
          "output_type": "stream",
          "name": "stdout",
          "text": [
            "Hello World, Current count is: 2\n"
          ]
        }
      ]
    },
    {
      "cell_type": "code",
      "source": [
        "sem_grade = 82.243564657461234\n",
        "name = \"\"\n",
        "print(\"Hello {}, your semestral grade is: {}\".format(name, sem_grade))"
      ],
      "metadata": {
        "id": "8E8Ygj6nCLc_",
        "colab": {
          "base_uri": "https://localhost:8080/"
        },
        "outputId": "60d76cff-487a-4621-d1f7-e13232e5a8bc"
      },
      "execution_count": null,
      "outputs": [
        {
          "output_type": "stream",
          "name": "stdout",
          "text": [
            "Hello , your semestral grade is: 82.24356465746123\n"
          ]
        }
      ]
    },
    {
      "cell_type": "code",
      "source": [
        "w_pg, w_mg, w_fg = 0.3, 0.3, 0.4\n",
        "print(\"The weights of your semestral grade are:\\\n",
        "\\n\\t{:.2%} for Prelims\\\n",
        "\\n\\t{:.2%} for Midterms, and\\\n",
        "\\n\\t{:.2%} for Finals.\".format(w_pg, w_mg, w_fg))"
      ],
      "metadata": {
        "id": "vdIy-82qCwzP",
        "colab": {
          "base_uri": "https://localhost:8080/"
        },
        "outputId": "17cccf3d-2ba0-43af-cd9d-2fd86d361d57"
      },
      "execution_count": null,
      "outputs": [
        {
          "output_type": "stream",
          "name": "stdout",
          "text": [
            "The weights of your semestral grade are:\n",
            "\t30.00% for Prelims\n",
            "\t30.00% for Midterms, and\n",
            "\t40.00% for Finals.\n"
          ]
        }
      ]
    },
    {
      "cell_type": "code",
      "source": [
        "x = input(\"Enter a Number: \")\n",
        "x"
      ],
      "metadata": {
        "id": "nlmhmhlJEBuZ",
        "colab": {
          "base_uri": "https://localhost:8080/",
          "height": 53
        },
        "outputId": "62d8291e-1b9a-4c4a-a91d-e0d272da4607"
      },
      "execution_count": null,
      "outputs": [
        {
          "name": "stdout",
          "output_type": "stream",
          "text": [
            "Enter a Number: 12\n"
          ]
        },
        {
          "output_type": "execute_result",
          "data": {
            "application/vnd.google.colaboratory.intrinsic+json": {
              "type": "string"
            },
            "text/plain": [
              "'12'"
            ]
          },
          "metadata": {},
          "execution_count": 46
        }
      ]
    },
    {
      "cell_type": "code",
      "source": [
        "name = input(\"Kimi no na wa: \")\n",
        "pg = input(\"Enter prelim grade: \")\n",
        "mg = input(\"Enter midterm grade: \")\n",
        "fg = input(\"Enter finals grade: \")\n",
        "sem_grade = None\n",
        "print(\"Hello {}, your semestral grade is: {}\".format(name, sem_grade))"
      ],
      "metadata": {
        "id": "yOqsw-oD6dba",
        "colab": {
          "base_uri": "https://localhost:8080/"
        },
        "outputId": "b1da6df7-31c9-432e-bdda-e788585868dc"
      },
      "execution_count": null,
      "outputs": [
        {
          "output_type": "stream",
          "name": "stdout",
          "text": [
            "Kimi no na wa: Arnold\n",
            "Enter prelim grade: 89\n",
            "Enter midterm grade: 88\n",
            "Enter finals grade: 78\n",
            "Hello Arnold, your semestral grade is: None\n"
          ]
        }
      ]
    },
    {
      "cell_type": "markdown",
      "source": [
        "## Looping Statements"
      ],
      "metadata": {
        "id": "e6QkgcK1FIwr"
      }
    },
    {
      "cell_type": "markdown",
      "source": [
        "In general, statements are performed in the following order: the first statement in a\n",
        "function is executed first, then the second, and so on [6]. There may be occasions when you\n",
        "need to execute a block of code numerous times. A loop in python programming enables the\n",
        "user to execute a statement or group of statements multiple times depending on the declared\n",
        "condition [6]."
      ],
      "metadata": {
        "id": "KZfLpblZm9ps"
      }
    },
    {
      "cell_type": "markdown",
      "source": [
        "### While"
      ],
      "metadata": {
        "id": "DKmfQ5XzFOBA"
      }
    },
    {
      "cell_type": "markdown",
      "source": [
        "In the Python programming language, a while loop statement runs a target statement\n",
        "repeatedly as long as a specific condition is true. Statements can be either a single statement\n",
        "or a group of statements. Any phrase can be used as the condition, and any non-zero value is\n",
        "considered true. While the condition is true, the loop iterates [6]. When the condition is met,\n",
        "program control is transferred to the line immediately after the loop. "
      ],
      "metadata": {
        "id": "KU9NNKDOol-N"
      }
    },
    {
      "cell_type": "code",
      "source": [
        "## while loops\n",
        "i, j = 0, 10\n",
        "while (i<=j) :\n",
        "  print(f\"{i}\\t|\\t{j}\")\n",
        "  i+=1"
      ],
      "metadata": {
        "id": "Va6qKLPN3dxM",
        "colab": {
          "base_uri": "https://localhost:8080/"
        },
        "outputId": "9c42d651-15c9-499d-bfd8-62822cab885e"
      },
      "execution_count": null,
      "outputs": [
        {
          "output_type": "stream",
          "name": "stdout",
          "text": [
            "0\t|\t10\n",
            "1\t|\t10\n",
            "2\t|\t10\n",
            "3\t|\t10\n",
            "4\t|\t10\n",
            "5\t|\t10\n",
            "6\t|\t10\n",
            "7\t|\t10\n",
            "8\t|\t10\n",
            "9\t|\t10\n",
            "10\t|\t10\n"
          ]
        }
      ]
    },
    {
      "cell_type": "markdown",
      "source": [
        "### For"
      ],
      "metadata": {
        "id": "_kxkSejpFRVZ"
      }
    },
    {
      "cell_type": "markdown",
      "source": [
        "A for\n",
        "loop statement is a control flow statement that is used to execute a series of instructions\n",
        "repeatedly as long as the condition is met. An iterative statement is another name for this sort\n",
        "of statement [6]. The code, “range()”, is used to set the limitation of the loop "
      ],
      "metadata": {
        "id": "ZkYECESsop2V"
      }
    },
    {
      "cell_type": "code",
      "source": [
        "# for(int i=0; i<10; i++){\n",
        "# printf(i)\n",
        "# }\n",
        "\n",
        "i = 0\n",
        "for i in range(10):\n",
        "  print(i)"
      ],
      "metadata": {
        "id": "UVUT9f1nFatp",
        "colab": {
          "base_uri": "https://localhost:8080/"
        },
        "outputId": "698c6011-de9f-45ad-f9d7-bc7ecaa29344"
      },
      "execution_count": null,
      "outputs": [
        {
          "output_type": "stream",
          "name": "stdout",
          "text": [
            "0\n",
            "1\n",
            "2\n",
            "3\n",
            "4\n",
            "5\n",
            "6\n",
            "7\n",
            "8\n",
            "9\n"
          ]
        }
      ]
    },
    {
      "cell_type": "code",
      "source": [
        "playlist = [\"We don't talk about Bruno\"]\n",
        "print('Now Playing: \\n')\n",
        "for song in playlist:\n",
        "  print(song)"
      ],
      "metadata": {
        "id": "PlzSQi0DGIp9",
        "colab": {
          "base_uri": "https://localhost:8080/"
        },
        "outputId": "38987cf6-7ede-41b5-c764-2de3125f118d"
      },
      "execution_count": null,
      "outputs": [
        {
          "output_type": "stream",
          "name": "stdout",
          "text": [
            "Now Playing: \n",
            "\n",
            "We don't talk about Bruno\n"
          ]
        }
      ]
    },
    {
      "cell_type": "markdown",
      "source": [
        "## Flow Control"
      ],
      "metadata": {
        "id": "6tUPNVwVGqZ4"
      }
    },
    {
      "cell_type": "markdown",
      "source": [
        "The control flow of a program is the sequence in which the program's code runs.\n",
        "Conditional statements, loops, and function calls govern the control flow of a Python\n",
        "program [7]."
      ],
      "metadata": {
        "id": "TkUrq91vnI2z"
      }
    },
    {
      "cell_type": "markdown",
      "source": [
        "### Conditional Statements"
      ],
      "metadata": {
        "id": "pQU_5nExGvjS"
      }
    },
    {
      "cell_type": "markdown",
      "source": [
        "The if statement in Python programming provides for conditional execution of a\n",
        "statement or collection of statements depending on the value of an expression [8]. Elif is an\n",
        "abbreviation for else if. It enables the programmer to check for many expressions at the same\n",
        "time. If the condition for 'if' is false, the condition of the following 'elif' block is checked, and\n",
        "so on. If all of the criteria are false, the else body is performed [9].\n"
      ],
      "metadata": {
        "id": "qT2tWgZHo2Jd"
      }
    },
    {
      "cell_type": "code",
      "source": [
        "numeral1, numeral2, = 12, 13\n",
        "if(numeral1 == numeral2):\n",
        "  print(\"Yey\")\n",
        "elif(numeral1 > numeral2):\n",
        "  print(\"Hoho\")\n",
        "else:\n",
        "  print(\"Aww\")"
      ],
      "metadata": {
        "id": "Btrs-4H8GtED",
        "colab": {
          "base_uri": "https://localhost:8080/"
        },
        "outputId": "6a33ca8c-2ec1-41df-a1ca-b31223f87501"
      },
      "execution_count": null,
      "outputs": [
        {
          "output_type": "stream",
          "name": "stdout",
          "text": [
            "Aww\n"
          ]
        }
      ]
    },
    {
      "cell_type": "markdown",
      "source": [
        "# Functions"
      ],
      "metadata": {
        "id": "PY57URRBHf_N"
      }
    },
    {
      "cell_type": "markdown",
      "source": [
        "Functions in python programming aid in the division of our software into smaller,\n",
        "modular portions. As our software develops in size, functions help to keep it structured and\n",
        "manageable. It also reduces repetition and makes the code reusable [10]."
      ],
      "metadata": {
        "id": "-M5CsQ12nNZ0"
      }
    },
    {
      "cell_type": "code",
      "source": [
        "# void DeleteUser(int userid){\n",
        "#     delete(userid);    \n",
        "# }\n",
        "\n",
        "def delete_user (userid):\n",
        "  print(\"Successfully deleted user: {}\".format(userid))\n",
        "\n",
        "def delete_all_users ():\n",
        "  print(\"Successfully deleted all users\")"
      ],
      "metadata": {
        "id": "ei9A4dEI55hv"
      },
      "execution_count": null,
      "outputs": []
    },
    {
      "cell_type": "code",
      "source": [
        "userid = \"Eugene\"\n",
        "delete_user(\"Eugene\")\n",
        "delete_all_users()"
      ],
      "metadata": {
        "id": "hDwqHVr_4Lbc",
        "colab": {
          "base_uri": "https://localhost:8080/"
        },
        "outputId": "2e836a3a-97ec-457a-80a6-fbe54ff367f6"
      },
      "execution_count": null,
      "outputs": [
        {
          "output_type": "stream",
          "name": "stdout",
          "text": [
            "Successfully deleted user: Eugene\n",
            "Successfully deleted all users\n"
          ]
        }
      ]
    },
    {
      "cell_type": "code",
      "source": [
        "def add(addend1, addend2) :\n",
        "  return addend1 + addend2\n",
        "  \n",
        "def power_of_base2(exponent) :\n",
        "  return 2**exponent"
      ],
      "metadata": {
        "id": "Yi0q13p34jhu"
      },
      "execution_count": null,
      "outputs": []
    },
    {
      "cell_type": "code",
      "source": [
        "#addend1, addend2 = 24, 25\n",
        "#add(addend1, addend2)\n",
        "\n",
        "exponent = 8\n",
        "power_of_base2(exponent)"
      ],
      "metadata": {
        "id": "jokECkVdLPib",
        "colab": {
          "base_uri": "https://localhost:8080/"
        },
        "outputId": "226e43f9-5a0c-4a3f-ee93-faa210339daf"
      },
      "execution_count": null,
      "outputs": [
        {
          "output_type": "execute_result",
          "data": {
            "text/plain": [
              "256"
            ]
          },
          "metadata": {},
          "execution_count": 59
        }
      ]
    },
    {
      "cell_type": "markdown",
      "source": [
        "# Activity 1\n",
        "### Semestral Grade Calculator"
      ],
      "metadata": {
        "id": "8HiGgXx5q0Z0"
      }
    },
    {
      "cell_type": "markdown",
      "source": [
        "The “Semestral Grade Calculator” is the application of all the\n",
        "lessons that the instructor discussed regarding the fundamentals of python programming. "
      ],
      "metadata": {
        "id": "Cn7eSSIYnaJd"
      }
    },
    {
      "cell_type": "code",
      "source": [
        "print(\"Good day! Please input the necessary information below.\")\n",
        "\n",
        "print()\n",
        "\n",
        "name = input(\"Full Name: \")\n",
        "course = input(\"Course: \")\n",
        "\n",
        "print()\n",
        "\n",
        "p = float(input(\"\\tEnter Prelim Grade: \"))\n",
        "m = float(input(\"\\tEnter Midterm Grade: \"))\n",
        "f = float(input(\"\\tEnter Final Grade: \"))\n",
        "\n",
        "sem_grade = (p*0.30 + m*0.30 + f*0.40) \n",
        "\n",
        "if (float(sem_grade) == 70.00):\n",
        "  print(\"\\nHello, {} of {}! Your Semestral Grade is {:.2f}% \\U0001F606 That was close!\".format(name, course, sem_grade))\n",
        "elif (float(sem_grade) > 70.00):\n",
        "  print(\"\\nHello, {} of {}! Your Semestral Grade is {:.2f}% \\U0001F600 Keep it up and good work!\".format(name, course, sem_grade))\n",
        "else :\n",
        "  print(\"\\nHello, {} of {}! Your Semestral Grade is {:.2f}% \\U0001F62d Study more and try harder!\".format(name, course, sem_grade))"
      ],
      "metadata": {
        "id": "q2_XevHy0l4w",
        "colab": {
          "base_uri": "https://localhost:8080/"
        },
        "outputId": "b56ce9d1-b2e4-4ac7-e9b3-50906f0a95e7"
      },
      "execution_count": null,
      "outputs": [
        {
          "output_type": "stream",
          "name": "stdout",
          "text": [
            "Good day! Please input the necessary information below.\n",
            "\n",
            "Full Name: Arnold P. San Roque\n",
            "Course: Chemical Engineering\n",
            "\n",
            "\tEnter Prelim Grade: 70\n",
            "\tEnter Midterm Grade: 70\n",
            "\tEnter Final Grade: 70\n",
            "\n",
            "Hello, Arnold P. San Roque of Chemical Engineering! Your Semestral Grade is 70.00% 😆 That was close!\n"
          ]
        }
      ]
    }
  ]
}