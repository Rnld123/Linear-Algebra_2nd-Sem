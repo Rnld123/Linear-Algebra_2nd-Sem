{
  "nbformat": 4,
  "nbformat_minor": 0,
  "metadata": {
    "colab": {
      "name": "Laboratory 2_Matrices.ipynb",
      "provenance": [],
      "collapsed_sections": [],
      "authorship_tag": "ABX9TyOr+mD6HFHwIy9AtwL+4NHG",
      "include_colab_link": true
    },
    "kernelspec": {
      "name": "python3",
      "display_name": "Python 3"
    },
    "language_info": {
      "name": "python"
    }
  },
  "cells": [
    {
      "cell_type": "markdown",
      "metadata": {
        "id": "view-in-github",
        "colab_type": "text"
      },
      "source": [
        "<a href=\"https://colab.research.google.com/github/arnoldsanroque/Linear-Algebra_2nd-Sem/blob/main/Laboratory_2_Matrices.ipynb\" target=\"_parent\"><img src=\"https://colab.research.google.com/assets/colab-badge.svg\" alt=\"Open In Colab\"/></a>"
      ]
    },
    {
      "cell_type": "markdown",
      "source": [
        "# Linear Algebra for CHE\n",
        "## Laboratory 2: Matrices"
      ],
      "metadata": {
        "id": "ocQtJwbqgFsM"
      }
    },
    {
      "cell_type": "markdown",
      "source": [
        "### Objectives\n",
        "At the end of this activity you will be able to\n",
        "1.   Be familiar with matrices and their relation to linear equations.\n",
        "2.   Perform basic matrix operations.\n",
        "3.   Program and translate matrix equations and \n",
        "operations using Python.\n",
        "\n",
        "\n",
        "\n"
      ],
      "metadata": {
        "id": "oEBud7f1gSN1"
      }
    },
    {
      "cell_type": "markdown",
      "source": [
        "# Discussion\n"
      ],
      "metadata": {
        "id": "7btdosWAgV-n"
      }
    },
    {
      "cell_type": "code",
      "execution_count": null,
      "metadata": {
        "id": "bHeGrpF3vo3m"
      },
      "outputs": [],
      "source": [
        "import numpy as np\n",
        "import matplotlib.pyplot as plt\n",
        "import scipy.linalg as la\n",
        "%matplotlib inline "
      ]
    },
    {
      "cell_type": "markdown",
      "source": [
        "## Matrices"
      ],
      "metadata": {
        "id": "sI4REkSFznSp"
      }
    },
    {
      "cell_type": "markdown",
      "source": [
        "The notation and use of matrices is probably one of the fundamentals of modern computing. Matrices are also handy representations of complex equations or multiple inter-related equations from 2-dimensional equations to even hundreds and thousands of them. "
      ],
      "metadata": {
        "id": "mBJWD3lEzqUS"
      }
    },
    {
      "cell_type": "markdown",
      "source": [
        "***A***, ***B***, and ***C*** as systems of equation."
      ],
      "metadata": {
        "id": "qmzO45uvgs4k"
      }
    },
    {
      "cell_type": "markdown",
      "source": [
        "$$\n",
        "A = \\left\\{\n",
        "    \\begin{array}\\\n",
        "        x + y \\\\ \n",
        "        4x - 10y\n",
        "    \\end{array}\n",
        "\\right. \\\\\n",
        "B = \\left\\{\n",
        "    \\begin{array}\\\n",
        "        x +y + z \\\\ \n",
        "        3x -2y -z \\\\\n",
        "        -x + 4y +2z\n",
        "    \\end{array}\n",
        "\\right. \\\\\n",
        "C = \\left\\{\n",
        "    \\begin{array}\\\n",
        "        12x + 21y+ 18z \\\\ \n",
        "        10x - 10y -18z \\\\\n",
        "        -6x + 27y +7z\n",
        "    \\end{array}\n",
        "\\right. \n",
        "$$\n"
      ],
      "metadata": {
        "id": "pUcONYuKz4RL"
      }
    },
    {
      "cell_type": "markdown",
      "source": [
        "We could see that ***A*** is a system of 2 equations with 2 parameters. ***B*** is a system of 3 equations with 3 parameters. And ***C*** is a system of 4 equations with 4 parameters. We can represent them as matrices:"
      ],
      "metadata": {
        "id": "VyKeFlkghY8e"
      }
    },
    {
      "cell_type": "markdown",
      "source": [
        ":$$\n",
        "A=\\begin{bmatrix} 1 & 1 \\\\ 4 & {-10}\\end{bmatrix} \\\\\n",
        "B=\\begin{bmatrix} 1 & 1 & 1 \\\\ 3 & -2 & -1 \\\\ -1 & 4 & 2\\end{bmatrix}\\\\\n",
        "C=\\begin{bmatrix} 12 & 7 & 6 \\\\ 1 & 4 & -3 \\\\ -10 & 6 & -5\\end{bmatrix}\n",
        "$$\n"
      ],
      "metadata": {
        "id": "u1tUyPgS1fbu"
      }
    },
    {
      "cell_type": "markdown",
      "source": [
        "### Declaring Matrices"
      ],
      "metadata": {
        "id": "DXNEGZ-5he1t"
      }
    },
    {
      "cell_type": "markdown",
      "source": [
        "The entities or numbers in matrices are called the elements of a matrix. These elements are arranged and ordered in rows and columns which form the list/array-like structure of matrices. And just just like arrays, these elements are indexed according to their position with respect to their rows and columns. This can be represented just like the equation below. Whereas ***A*** is a matrix consisting of elements denoted by **a**i,j*. Denoted by *i* is the number of rows in the matrix while *j* stands for the number of columns.\n",
        "Do note that the size of a matrix is *i x j*."
      ],
      "metadata": {
        "id": "mougLUSghh0c"
      }
    },
    {
      "cell_type": "markdown",
      "source": [
        "$$A=\\begin{bmatrix}\n",
        "a_{(0,0)}&a_{(0,1)}&\\dots&a_{(0,j-1)}\\\\\n",
        "a_{(1,0)}&a_{(1,1)}&\\dots&a_{(1,j-1)}\\\\\n",
        "\\vdots&\\vdots&\\ddots&\\vdots&\\\\\n",
        "a_{(i-1,0)}&a_{(i-1,1)}&\\dots&a_{(i-1,j-1)}\n",
        "\\end{bmatrix}\n",
        "$$\n"
      ],
      "metadata": {
        "id": "-n_r4c3a3vOy"
      }
    },
    {
      "cell_type": "code",
      "source": [
        "def describe_mat(matrix) :\n",
        "  print(f'Matrix:\\n{matrix}\\n\\nShape:\\t{matrix.shape}\\nRank:\\t{matrix.ndim}\\n')"
      ],
      "metadata": {
        "id": "DyqQrVaY4gRB"
      },
      "execution_count": 50,
      "outputs": []
    },
    {
      "cell_type": "code",
      "source": [
        "## Declaring a 2 x 2 matrix\n",
        "A = np.array ([\n",
        "    [1,2],\n",
        "    [3,1]\n",
        "])\n",
        "describe_mat(A)\n"
      ],
      "metadata": {
        "id": "yjhZXEKH7Bdz",
        "colab": {
          "base_uri": "https://localhost:8080/"
        },
        "outputId": "07ee2af8-726c-4252-a07d-7ad4a4689d9c"
      },
      "execution_count": 51,
      "outputs": [
        {
          "output_type": "stream",
          "name": "stdout",
          "text": [
            "Matrix:\n",
            "[[1 2]\n",
            " [3 1]]\n",
            "\n",
            "Shape:\t(2, 2)\n",
            "Rank:\t2\n",
            "\n"
          ]
        }
      ]
    },
    {
      "cell_type": "code",
      "source": [
        "## Declaring a 2 x 3 matrix\n",
        "G = np.array([\n",
        "    [65, 44, 97],\n",
        "    [83, 41, 74]\n",
        "])\n",
        "describe_mat(G)"
      ],
      "metadata": {
        "id": "_7oJkXuqh45H",
        "colab": {
          "base_uri": "https://localhost:8080/"
        },
        "outputId": "e195c4ef-940e-4a8e-b672-3cf3a009e7e3"
      },
      "execution_count": 52,
      "outputs": [
        {
          "output_type": "stream",
          "name": "stdout",
          "text": [
            "Matrix:\n",
            "[[65 44 97]\n",
            " [83 41 74]]\n",
            "\n",
            "Shape:\t(2, 3)\n",
            "Rank:\t2\n",
            "\n"
          ]
        }
      ]
    },
    {
      "cell_type": "code",
      "source": [
        "## Declaring a 3 x 2 matrix\n",
        "G = np.array([\n",
        "    [65, 44],\n",
        "    [83, 41],\n",
        "    [97, 74]\n",
        "])\n",
        "describe_mat(G)"
      ],
      "metadata": {
        "id": "YxreRivfiCaW",
        "colab": {
          "base_uri": "https://localhost:8080/"
        },
        "outputId": "19c66ab4-1fc7-4091-eeab-590024ea75d7"
      },
      "execution_count": 53,
      "outputs": [
        {
          "output_type": "stream",
          "name": "stdout",
          "text": [
            "Matrix:\n",
            "[[65 44]\n",
            " [83 41]\n",
            " [97 74]]\n",
            "\n",
            "Shape:\t(3, 2)\n",
            "Rank:\t2\n",
            "\n"
          ]
        }
      ]
    },
    {
      "cell_type": "code",
      "source": [
        "L = np.array([12, 3, 34, 54, 7, 432, 32, 56])\n",
        "describe_mat(L)"
      ],
      "metadata": {
        "id": "zhA8rinWidLr",
        "colab": {
          "base_uri": "https://localhost:8080/"
        },
        "outputId": "8d971eb6-54ab-4789-bb5d-9760c7711132"
      },
      "execution_count": 54,
      "outputs": [
        {
          "output_type": "stream",
          "name": "stdout",
          "text": [
            "Matrix:\n",
            "[ 12   3  34  54   7 432  32  56]\n",
            "\n",
            "Shape:\t(8,)\n",
            "Rank:\t1\n",
            "\n"
          ]
        }
      ]
    },
    {
      "cell_type": "markdown",
      "source": [
        "## Categorizing Matrices "
      ],
      "metadata": {
        "id": "7Oc2WaPpiojf"
      }
    },
    {
      "cell_type": "markdown",
      "source": [
        "There are several ways of classifying matrices. One could be \n",
        "according to their **shape** and another is according to their element values. We'll try to go through them."
      ],
      "metadata": {
        "id": "M40t79IZjkCM"
      }
    },
    {
      "cell_type": "markdown",
      "source": [
        "### According to Shape "
      ],
      "metadata": {
        "id": "_dqcf8cJjupL"
      }
    },
    {
      "cell_type": "markdown",
      "source": [
        "According to shape - it defines the number of rows and columns of the specific matrix"
      ],
      "metadata": {
        "id": "kTKTJB43jj5z"
      }
    },
    {
      "cell_type": "code",
      "source": [
        "A = np.array ([\n",
        "    [1,2],\n",
        "    [3,1]\n",
        "])\n",
        "describe_mat(A)"
      ],
      "metadata": {
        "colab": {
          "base_uri": "https://localhost:8080/"
        },
        "id": "TkuEc-Ehj1g0",
        "outputId": "9083c1c0-4256-47f1-af3f-c55254591ca1"
      },
      "execution_count": 63,
      "outputs": [
        {
          "output_type": "stream",
          "name": "stdout",
          "text": [
            "Matrix:\n",
            "[[1 2]\n",
            " [3 1]]\n",
            "\n",
            "Shape:\t(2, 2)\n",
            "Rank:\t2\n",
            "Is Square: True\n",
            "\n"
          ]
        }
      ]
    },
    {
      "cell_type": "markdown",
      "source": [
        "### Row and Column Matrices"
      ],
      "metadata": {
        "id": "jks8scf_jjw1"
      }
    },
    {
      "cell_type": "markdown",
      "source": [
        "A 1-by-n matrix (a single row) is a row matrix, while an n-by-1 matrix is a column matrix (a single column). The terms \"row and column matrices\" and \"row and column vectors\" are interchangeable."
      ],
      "metadata": {
        "id": "JenedJZDjccs"
      }
    },
    {
      "cell_type": "code",
      "source": [
        "## Declaring a Row Matrix\n",
        "\n",
        "row_mat_1D = np.array([\n",
        "     [1, 2, 3, 4, 5]                  \n",
        "]) \n",
        "row_mat_2D = np.array([\n",
        "     [6, 7, 8, 9, 10]                  \n",
        "]) \n",
        "describe_mat(row_mat_1D)\n",
        "describe_mat(row_mat_2D)"
      ],
      "metadata": {
        "colab": {
          "base_uri": "https://localhost:8080/"
        },
        "id": "nAJgbHL4kN50",
        "outputId": "06cf9061-1732-414e-b681-d8ad1fba14d8"
      },
      "execution_count": 65,
      "outputs": [
        {
          "output_type": "stream",
          "name": "stdout",
          "text": [
            "Matrix:\n",
            "[[1 2 3 4 5]]\n",
            "\n",
            "Shape:\t(1, 5)\n",
            "Rank:\t2\n",
            "Is Square: False\n",
            "\n",
            "Matrix:\n",
            "[[ 6  7  8  9 10]]\n",
            "\n",
            "Shape:\t(1, 5)\n",
            "Rank:\t2\n",
            "Is Square: False\n",
            "\n"
          ]
        }
      ]
    },
    {
      "cell_type": "code",
      "source": [
        "## Declaring a Column Matrix\n",
        "\n",
        "col_mat =np.array([\n",
        "     [2], \n",
        "     [12],\n",
        "     [18],\n",
        "     [10],\n",
        "     [7],\n",
        "     [21]             \n",
        "])\n",
        "describe_mat(col_mat)"
      ],
      "metadata": {
        "colab": {
          "base_uri": "https://localhost:8080/"
        },
        "id": "ECifoL6_kib_",
        "outputId": "97e8797d-5c5a-474d-a4d2-13022f838838"
      },
      "execution_count": 66,
      "outputs": [
        {
          "output_type": "stream",
          "name": "stdout",
          "text": [
            "Matrix:\n",
            "[[ 2]\n",
            " [12]\n",
            " [18]\n",
            " [10]\n",
            " [ 7]\n",
            " [21]]\n",
            "\n",
            "Shape:\t(6, 1)\n",
            "Rank:\t2\n",
            "Is Square: False\n",
            "\n"
          ]
        }
      ]
    },
    {
      "cell_type": "markdown",
      "source": [
        "### Square Matrices"
      ],
      "metadata": {
        "id": "kd35SQ8qk0Fl"
      }
    },
    {
      "cell_type": "markdown",
      "source": [
        "A square matrix is a matrix with the exact number of components as its name suggests. Its order is of the form n x n since it contains an equal number of rows and columns. All matrix operations such as transpose, determinant, adjoint, and inverse and matrices' mathematical operations apply to a square matrix."
      ],
      "metadata": {
        "id": "mwCn9cCDk3dJ"
      }
    },
    {
      "cell_type": "code",
      "source": [
        "def describe_mat(matrix):\n",
        "    is_square = True if matrix.shape[0] == matrix.shape[1] else False\n",
        "    print(f'Matrix:\\n{matrix}\\n\\nshape:\\t{matrix.shape}\\nRank:\\t{matrix.ndim}\\nIs Square: {is_square}\\n')"
      ],
      "metadata": {
        "id": "Z2238_Ao_Bo3"
      },
      "execution_count": 72,
      "outputs": []
    },
    {
      "cell_type": "code",
      "source": [
        "square_mat = np.array([\n",
        "   [2,4,6],\n",
        "   [5,7,8],  \n",
        "   [4,2,9]            \n",
        "])\n",
        "\n",
        "non_square_mat = np.array([\n",
        "   [2,4,6],    \n",
        "   [5,7,8]                    \n",
        "])\n",
        "describe_mat(square_mat)\n",
        "describe_mat(non_square_mat)"
      ],
      "metadata": {
        "id": "hNlKE3CK_sDo",
        "colab": {
          "base_uri": "https://localhost:8080/"
        },
        "outputId": "b9d88920-ed95-4a50-edf0-a61acc930599"
      },
      "execution_count": 74,
      "outputs": [
        {
          "output_type": "stream",
          "name": "stdout",
          "text": [
            "Matrix:\n",
            "[[2 4 6]\n",
            " [5 7 8]\n",
            " [4 2 9]]\n",
            "\n",
            "shape:\t(3, 3)\n",
            "Rank:\t2\n",
            "Is Square: True\n",
            "\n",
            "Matrix:\n",
            "[[2 4 6]\n",
            " [5 7 8]]\n",
            "\n",
            "shape:\t(2, 3)\n",
            "Rank:\t2\n",
            "Is Square: False\n",
            "\n"
          ]
        }
      ]
    },
    {
      "cell_type": "markdown",
      "source": [
        "# According to Element Values"
      ],
      "metadata": {
        "id": "tuBb2aKQlBkv"
      }
    },
    {
      "cell_type": "markdown",
      "source": [
        "According to element values - it defines what kind of matrix it will be, it can be square, null, zero, ones, diagonal, identity, upper triangular, and lower triangular matrix."
      ],
      "metadata": {
        "id": "_n-zW4sylGz-"
      }
    },
    {
      "cell_type": "markdown",
      "source": [
        "## Null Matrix"
      ],
      "metadata": {
        "id": "rgYkuRj9l3_g"
      }
    },
    {
      "cell_type": "markdown",
      "source": [
        "A Null Matrix is a matrix in which each element is none. The null matrix, often known as a zero matrix, has a variable number of rows and columns. Because adding a null matrix to any other matrix produces the same outcome, a null matrix is also known as the additive identity of the provided matrix."
      ],
      "metadata": {
        "id": "R_27mQuql8lm"
      }
    },
    {
      "cell_type": "code",
      "source": [
        "def describe_mat(matrix) :\n",
        "  if matrix.size > 0 :\n",
        "    is_square = True if matrix.shape[0] == matrix.shape[1] else False\n",
        "    print(f'Matrix:\\n{matrix}\\n\\nShape:\\t{matrix.shape}\\nRank:\\t{matrix.ndim}\\nIs Square: {is_square}\\n')\n",
        "  else :\n",
        "    print('Matrix is Null')\n"
      ],
      "metadata": {
        "id": "uNpHg5xLCHWW"
      },
      "execution_count": 75,
      "outputs": []
    },
    {
      "cell_type": "code",
      "source": [
        "null_mat = np.array([])\n",
        "describe_mat(null_mat)"
      ],
      "metadata": {
        "colab": {
          "base_uri": "https://localhost:8080/"
        },
        "id": "lYN-ll6hla0V",
        "outputId": "b8fee531-1b49-4c6c-8476-1818009ad1c7"
      },
      "execution_count": 76,
      "outputs": [
        {
          "output_type": "stream",
          "name": "stdout",
          "text": [
            "Matrix is Null\n"
          ]
        }
      ]
    },
    {
      "cell_type": "markdown",
      "source": [
        "## Zero Matrix"
      ],
      "metadata": {
        "id": "korHS7LUmDN0"
      }
    },
    {
      "cell_type": "markdown",
      "source": [
        "A zero matrix is one in which most elements are equal to zero. A zero matrix is represented by 0, and if necessary, a subscript can be applied to specify the matrix's dimensions. Zero matrices play a similar role in matrices operations as zero does in real-number operations."
      ],
      "metadata": {
        "id": "cbKwg78lmDBp"
      }
    },
    {
      "cell_type": "code",
      "source": [
        "zero_mat_row = np.zeros((1,2))\n",
        "zero_mat_sqr = np.zeros((2,2))\n",
        "zero_mat_rct = np.zeros((3,2))\n",
        "\n",
        "print(f'Zero Row Matrix: \\n{zero_mat_row}')\n",
        "print(f'Zero Square Matrix: \\n{zero_mat_sqr}')\n",
        "print(f'Zero Rectangular Matrix: \\n{zero_mat_rct}')"
      ],
      "metadata": {
        "colab": {
          "base_uri": "https://localhost:8080/"
        },
        "id": "z6z8KWSGCque",
        "outputId": "3ffc9553-f73e-4b8a-f1a4-eba38d23e3ee"
      },
      "execution_count": 77,
      "outputs": [
        {
          "output_type": "stream",
          "name": "stdout",
          "text": [
            "Zero Row Matrix: \n",
            "[[0. 0.]]\n",
            "Zero Square Matrix: \n",
            "[[0. 0.]\n",
            " [0. 0.]]\n",
            "Zero Rectangular Matrix: \n",
            "[[0. 0.]\n",
            " [0. 0.]\n",
            " [0. 0.]]\n"
          ]
        }
      ]
    },
    {
      "cell_type": "markdown",
      "source": [
        "## Ones Matrix"
      ],
      "metadata": {
        "id": "bVE4O0U7mXF6"
      }
    },
    {
      "cell_type": "markdown",
      "source": [
        "A matrix of ones, also known as an all-ones matrix, is a matrix in which all of the elements are equal to one."
      ],
      "metadata": {
        "id": "mrBjeAqlmW2y"
      }
    },
    {
      "cell_type": "code",
      "source": [
        "ones_mat_row = np.ones((1,2))\n",
        "ones_mat_sqr = np.ones((2,2))\n",
        "ones_mat_rct = np.ones((3,2))\n",
        "\n",
        "print(f'Ones Row Matrix: \\n{ones_mat_row}')\n",
        "print(f'Ones Square Matrix: \\n{ones_mat_sqr}')\n",
        "print(f'Ones Rectangular Matrix: \\n{ones_mat_rct}')"
      ],
      "metadata": {
        "colab": {
          "base_uri": "https://localhost:8080/"
        },
        "id": "LdBQ23KgDvrP",
        "outputId": "7e1c928a-85b8-4347-f2df-9ebffcf29828"
      },
      "execution_count": 78,
      "outputs": [
        {
          "output_type": "stream",
          "name": "stdout",
          "text": [
            "Ones Row Matrix: \n",
            "[[1. 1.]]\n",
            "Ones Square Matrix: \n",
            "[[1. 1.]\n",
            " [1. 1.]]\n",
            "Ones Rectangular Matrix: \n",
            "[[1. 1.]\n",
            " [1. 1.]\n",
            " [1. 1.]]\n"
          ]
        }
      ]
    },
    {
      "cell_type": "markdown",
      "source": [
        "## Diagonal Matrix"
      ],
      "metadata": {
        "id": "E64BzdNkmpMg"
      }
    },
    {
      "cell_type": "markdown",
      "source": [
        "A diagonal matrix has both upper and bottom triangle elements. The name \"diagonal matrix\" comes from all the entries above and below the principal diagonal are zeros."
      ],
      "metadata": {
        "id": "EK1nOeiTmpGF"
      }
    },
    {
      "cell_type": "code",
      "source": [
        "np.array([\n",
        "   [4,0,0,0],\n",
        "   [0,6,0,0],\n",
        "   [0,0,7,0],\n",
        "   [0,0,0,2]       \n",
        "])"
      ],
      "metadata": {
        "colab": {
          "base_uri": "https://localhost:8080/"
        },
        "id": "R31SKkypm6Cl",
        "outputId": "f9028d1c-f86a-4aff-dc25-1e05edb5c4d6"
      },
      "execution_count": 79,
      "outputs": [
        {
          "output_type": "execute_result",
          "data": {
            "text/plain": [
              "array([[4, 0, 0, 0],\n",
              "       [0, 6, 0, 0],\n",
              "       [0, 0, 7, 0],\n",
              "       [0, 0, 0, 2]])"
            ]
          },
          "metadata": {},
          "execution_count": 79
        }
      ]
    },
    {
      "cell_type": "code",
      "source": [
        "d = np.diag([2, 3, 5, 7])\n",
        "d.shape[0] == d.shape[1]\n",
        "d"
      ],
      "metadata": {
        "colab": {
          "base_uri": "https://localhost:8080/"
        },
        "id": "y205d01DE9M3",
        "outputId": "25855b87-7305-4f9a-b33c-9ded7708df6a"
      },
      "execution_count": 80,
      "outputs": [
        {
          "output_type": "execute_result",
          "data": {
            "text/plain": [
              "array([[2, 0, 0, 0],\n",
              "       [0, 3, 0, 0],\n",
              "       [0, 0, 5, 0],\n",
              "       [0, 0, 0, 7]])"
            ]
          },
          "metadata": {},
          "execution_count": 80
        }
      ]
    },
    {
      "cell_type": "code",
      "source": [
        "a = np.diag([2, 3, 5, 7])\n",
        "np.diag(a).shape == a.shape[1] == a.shape[4]"
      ],
      "metadata": {
        "colab": {
          "base_uri": "https://localhost:8080/"
        },
        "id": "UtjV0BUenLbz",
        "outputId": "9f35a74a-de04-45ed-a695-182d5adfb27b"
      },
      "execution_count": 81,
      "outputs": [
        {
          "output_type": "execute_result",
          "data": {
            "text/plain": [
              "False"
            ]
          },
          "metadata": {},
          "execution_count": 81
        }
      ]
    },
    {
      "cell_type": "markdown",
      "source": [
        "## Identity Matrix"
      ],
      "metadata": {
        "id": "PTz96xS7nGO6"
      }
    },
    {
      "cell_type": "markdown",
      "source": [
        "An identity matrix is a square matrix for all primary diagonal elements and zeros for all other elements. The letter \"In\" or simply \"I\" is used to indicate it. The result of multiplying any matrix by the identity matrix is the provided matrix."
      ],
      "metadata": {
        "id": "VNTz4bTWnGFh"
      }
    },
    {
      "cell_type": "code",
      "source": [
        "np.eye(3)"
      ],
      "metadata": {
        "colab": {
          "base_uri": "https://localhost:8080/"
        },
        "id": "kSu-VaBEGFpS",
        "outputId": "f87e1969-3a63-4ced-bfd4-a88e88e07eb0"
      },
      "execution_count": 82,
      "outputs": [
        {
          "output_type": "execute_result",
          "data": {
            "text/plain": [
              "array([[1., 0., 0.],\n",
              "       [0., 1., 0.],\n",
              "       [0., 0., 1.]])"
            ]
          },
          "metadata": {},
          "execution_count": 82
        }
      ]
    },
    {
      "cell_type": "code",
      "source": [
        "np.identity(4)"
      ],
      "metadata": {
        "colab": {
          "base_uri": "https://localhost:8080/"
        },
        "id": "XvoqTOT6GH1l",
        "outputId": "d94b569f-b136-451d-be42-1704ecff5e72"
      },
      "execution_count": 83,
      "outputs": [
        {
          "output_type": "execute_result",
          "data": {
            "text/plain": [
              "array([[1., 0., 0., 0.],\n",
              "       [0., 1., 0., 0.],\n",
              "       [0., 0., 1., 0.],\n",
              "       [0., 0., 0., 1.]])"
            ]
          },
          "metadata": {},
          "execution_count": 83
        }
      ]
    },
    {
      "cell_type": "markdown",
      "source": [
        "## Upper Triangular Matrix"
      ],
      "metadata": {
        "id": "JwVdb5XPnh1w"
      }
    },
    {
      "cell_type": "markdown",
      "source": [
        "All of the entries below the main diagonal are zero in the upper triangular matrix."
      ],
      "metadata": {
        "id": "rvuiB1efnhpJ"
      }
    },
    {
      "cell_type": "code",
      "source": [
        "np.array([\n",
        "   [1, 2, 3, 4],\n",
        "   [0, 5, 6, 7],\n",
        "   [0, 0, 8, 9],\n",
        "   [0, 0, 0, 10]      \n",
        "])"
      ],
      "metadata": {
        "colab": {
          "base_uri": "https://localhost:8080/"
        },
        "id": "_IPVXNzInsLI",
        "outputId": "a0ee044a-ff1f-4c68-c1fd-391394e298d6"
      },
      "execution_count": 84,
      "outputs": [
        {
          "output_type": "execute_result",
          "data": {
            "text/plain": [
              "array([[ 1,  2,  3,  4],\n",
              "       [ 0,  5,  6,  7],\n",
              "       [ 0,  0,  8,  9],\n",
              "       [ 0,  0,  0, 10]])"
            ]
          },
          "metadata": {},
          "execution_count": 84
        }
      ]
    },
    {
      "cell_type": "markdown",
      "source": [
        "## Lower Triangular Matrix"
      ],
      "metadata": {
        "id": "tY_uVZnUn-pG"
      }
    },
    {
      "cell_type": "markdown",
      "source": [
        "All of the entries above the main diagonal are zero in the lower triangular matrix."
      ],
      "metadata": {
        "id": "L1ILoVnrn-bx"
      }
    },
    {
      "cell_type": "code",
      "source": [
        "np.array([\n",
        "   [10, 0, 0, 0],       \n",
        "   [8, 9, 0, 0],\n",
        "   [5, 6, 7, 0],\n",
        "   [1, 2, 3, 4],     \n",
        "])"
      ],
      "metadata": {
        "colab": {
          "base_uri": "https://localhost:8080/"
        },
        "id": "NjO_cI4ZoIkH",
        "outputId": "502946be-8c31-4e28-a6e7-7c8c539be44b"
      },
      "execution_count": 85,
      "outputs": [
        {
          "output_type": "execute_result",
          "data": {
            "text/plain": [
              "array([[10,  0,  0,  0],\n",
              "       [ 8,  9,  0,  0],\n",
              "       [ 5,  6,  7,  0],\n",
              "       [ 1,  2,  3,  4]])"
            ]
          },
          "metadata": {},
          "execution_count": 85
        }
      ]
    },
    {
      "cell_type": "markdown",
      "source": [
        "# Practice Problems"
      ],
      "metadata": {
        "id": "E6K9eCd4p2_Z"
      }
    },
    {
      "cell_type": "markdown",
      "source": [
        "1. Given the linear combination below, try to create a corresponding matrix representing it.\n"
      ],
      "metadata": {
        "id": "51ahNziTItxB"
      }
    },
    {
      "cell_type": "markdown",
      "source": [
        "$$\\theta = 5x + 3y - z$$\n"
      ],
      "metadata": {
        "id": "JEuYPcNbHqCv"
      }
    },
    {
      "cell_type": "markdown",
      "source": [
        "**Answer:**\n",
        "\n",
        "$$\n",
        "\\theta = \\begin{bmatrix} 5 & 3 & -1 \\end{bmatrix} \\\\\n",
        "$$"
      ],
      "metadata": {
        "id": "648ti3vdo2HS"
      }
    },
    {
      "cell_type": "markdown",
      "source": [
        "2. Given the system of linear combinations below, try to encode it as a matrix. Also describe the matrix.\n"
      ],
      "metadata": {
        "id": "EM0q4c2rIupO"
      }
    },
    {
      "cell_type": "markdown",
      "source": [
        "$$\n",
        "A = \\left\\{\\begin{array}\n",
        "5x_1 + 2x_2 +x_3\\\\\n",
        "4x_2 - x_3\\\\\n",
        "10x_3\n",
        "\\end{array}\\right.\n",
        "$$\n"
      ],
      "metadata": {
        "id": "ilGcbM2kH1eB"
      }
    },
    {
      "cell_type": "markdown",
      "source": [
        "**Answer:**\n",
        "$$\n",
        "A=\\begin{bmatrix} 1 & 2 & 1 \\\\ 0 & 4 & -1 \\\\ 0 & 0 & 10\\end{bmatrix} \\\\\n",
        "$$"
      ],
      "metadata": {
        "id": "zJddjxe5ppH9"
      }
    },
    {
      "cell_type": "markdown",
      "source": [
        "3. Given the matrix below, express it as a linear combination in a markdown and a LaTeX markdown\n"
      ],
      "metadata": {
        "id": "CCrZw_CgIxXN"
      }
    },
    {
      "cell_type": "code",
      "source": [
        "G = np.array([ \n",
        "        [1,7,8], \n",
        "        [2,2,2], \n",
        "        [4,6,7] \n",
        "])"
      ],
      "metadata": {
        "id": "MMAPFgL7I-rf"
      },
      "execution_count": 86,
      "outputs": []
    },
    {
      "cell_type": "markdown",
      "source": [
        "**Answer:**\n",
        "$$\n",
        "G = \\left\\{\\begin{array}\n",
        "5x + 7y + 8z\\\\\n",
        "2x + 2y + 2z\\\\\n",
        "4x + 6y + 7z\n",
        "\\end{array}\\right.\n",
        "$$\n",
        "\n",
        "\n",
        "$$\n",
        "G=\\begin{bmatrix} 1 & 7 & 8 \\\\ 2 & 2 & 2 \\\\ 4 & 6 & 7\\end{bmatrix} \\\\\n",
        "$$"
      ],
      "metadata": {
        "id": "qo12WWOmpREf"
      }
    },
    {
      "cell_type": "markdown",
      "source": [
        "4. Given the matrix below, display the output as a LaTeX markdown also express it as a system of linear combinations.\n"
      ],
      "metadata": {
        "id": "Y5AbVMJ9I6mg"
      }
    },
    {
      "cell_type": "code",
      "source": [
        "H = np.tril(G)\n",
        "H\n"
      ],
      "metadata": {
        "id": "rRAJfFqTJOxc",
        "colab": {
          "base_uri": "https://localhost:8080/"
        },
        "outputId": "d3cf8c1d-dcb6-433a-9726-c12bd4a24a45"
      },
      "execution_count": 87,
      "outputs": [
        {
          "output_type": "execute_result",
          "data": {
            "text/plain": [
              "array([[1, 0, 0],\n",
              "       [2, 2, 0],\n",
              "       [4, 6, 7]])"
            ]
          },
          "metadata": {},
          "execution_count": 87
        }
      ]
    },
    {
      "cell_type": "markdown",
      "source": [
        "**Answer:**\n",
        "$$\n",
        "H = \\left\\{\\begin{array}\n",
        "1x\\\\\n",
        "2x + 2y\\\\\n",
        "4x + 6y + 7z\n",
        "\\end{array}\\right.\n",
        "$$\n",
        "\n",
        "\n",
        "$$\n",
        "H=\\begin{bmatrix} 1 & 0 & 0 \\\\ 2 & 2 & 0 \\\\ 4 & 6 & 7\\end{bmatrix} \\\\\n",
        "$$"
      ],
      "metadata": {
        "id": "sUaRWpczqS_u"
      }
    },
    {
      "cell_type": "markdown",
      "source": [
        "## Matrix Algebra"
      ],
      "metadata": {
        "id": "t4X28AU1qgP4"
      }
    },
    {
      "cell_type": "markdown",
      "source": [
        "Matrix algebra is used to display graphs, calculate statistics, and conduct scientific investigations and research in various domains. Matrices may also be used to represent real-world information such as population, infant mortality rate, etc. For charting surveys, these are the finest representation approaches."
      ],
      "metadata": {
        "id": "UtvseJdRqgDn"
      }
    },
    {
      "cell_type": "markdown",
      "source": [
        "## Addition"
      ],
      "metadata": {
        "id": "iX83UbN2qqSR"
      }
    },
    {
      "cell_type": "markdown",
      "source": [
        "The operation of combining the entries of two matrices is known as matrix addition."
      ],
      "metadata": {
        "id": "Ey10joVQqsTS"
      }
    },
    {
      "cell_type": "code",
      "source": [
        "A = np.array([\n",
        "    [12, 3],     \n",
        "    [4, 65],\n",
        "    [74, 28]\n",
        "])\n",
        "B = np.array([\n",
        "    [89, 90],     \n",
        "    [4, 5],\n",
        "    [6, 7]      \n",
        "])\n",
        "A+B"
      ],
      "metadata": {
        "colab": {
          "base_uri": "https://localhost:8080/"
        },
        "id": "ItzVGT-EqwCX",
        "outputId": "fc78d0c1-2243-473e-e6f4-469a03cb6c00"
      },
      "execution_count": 88,
      "outputs": [
        {
          "output_type": "execute_result",
          "data": {
            "text/plain": [
              "array([[101,  93],\n",
              "       [  8,  70],\n",
              "       [ 80,  35]])"
            ]
          },
          "metadata": {},
          "execution_count": 88
        }
      ]
    },
    {
      "cell_type": "code",
      "source": [
        "## Broadcasting\n",
        "# 2*np.ones(A.shape)+A\n",
        "6 + A"
      ],
      "metadata": {
        "colab": {
          "base_uri": "https://localhost:8080/"
        },
        "id": "l6mLHGT2rFLe",
        "outputId": "8a4d991d-e695-4069-9a59-c47180906dc3"
      },
      "execution_count": 89,
      "outputs": [
        {
          "output_type": "execute_result",
          "data": {
            "text/plain": [
              "array([[18,  9],\n",
              "       [10, 71],\n",
              "       [80, 34]])"
            ]
          },
          "metadata": {},
          "execution_count": 89
        }
      ]
    },
    {
      "cell_type": "markdown",
      "source": [
        "## Subtraction"
      ],
      "metadata": {
        "id": "econRuOgqvTM"
      }
    },
    {
      "cell_type": "markdown",
      "source": [
        "Subtraction between two matrices is achievable if their order or dimensions are the same. To subtract two or more matrices, they must have the same number of rows and columns."
      ],
      "metadata": {
        "id": "3PCi99LVrTms"
      }
    },
    {
      "cell_type": "code",
      "source": [
        "A - B"
      ],
      "metadata": {
        "colab": {
          "base_uri": "https://localhost:8080/"
        },
        "id": "3xg3yYKxraRb",
        "outputId": "4d42ad2d-09cd-4b5d-eb9f-f6b3bcf4e385"
      },
      "execution_count": 90,
      "outputs": [
        {
          "output_type": "execute_result",
          "data": {
            "text/plain": [
              "array([[-77, -87],\n",
              "       [  0,  60],\n",
              "       [ 68,  21]])"
            ]
          },
          "metadata": {},
          "execution_count": 90
        }
      ]
    },
    {
      "cell_type": "code",
      "source": [
        "7 - A"
      ],
      "metadata": {
        "colab": {
          "base_uri": "https://localhost:8080/"
        },
        "id": "rl6CwulkrcJc",
        "outputId": "7cd875b4-45e3-4eef-bd09-daf6b4ee7e7a"
      },
      "execution_count": 91,
      "outputs": [
        {
          "output_type": "execute_result",
          "data": {
            "text/plain": [
              "array([[ -5,   4],\n",
              "       [  3, -58],\n",
              "       [-67, -21]])"
            ]
          },
          "metadata": {},
          "execution_count": 91
        }
      ]
    },
    {
      "cell_type": "code",
      "source": [
        "5-B == 5*np.ones(B.shape)-B"
      ],
      "metadata": {
        "colab": {
          "base_uri": "https://localhost:8080/"
        },
        "id": "LtIPc-6krfGN",
        "outputId": "64abd0dc-f70f-412a-85f6-988963608963"
      },
      "execution_count": 92,
      "outputs": [
        {
          "output_type": "execute_result",
          "data": {
            "text/plain": [
              "array([[ True,  True],\n",
              "       [ True,  True],\n",
              "       [ True,  True]])"
            ]
          },
          "metadata": {},
          "execution_count": 92
        }
      ]
    },
    {
      "cell_type": "markdown",
      "source": [
        "## Element-Wise Multiplication"
      ],
      "metadata": {
        "id": "jmyYNq4BrnOO"
      }
    },
    {
      "cell_type": "markdown",
      "source": [
        "Element-Wise Multiplication is an operation of multiplying two numbers but only for its corresponding element."
      ],
      "metadata": {
        "id": "y3J3y9H_rqwg"
      }
    },
    {
      "cell_type": "code",
      "source": [
        "A*B\n",
        "np.multiply(A,B)"
      ],
      "metadata": {
        "colab": {
          "base_uri": "https://localhost:8080/"
        },
        "id": "6ywvMhkhrunK",
        "outputId": "abc054bb-fa93-4d55-edb7-f1af01285329"
      },
      "execution_count": 93,
      "outputs": [
        {
          "output_type": "execute_result",
          "data": {
            "text/plain": [
              "array([[1068,  270],\n",
              "       [  16,  325],\n",
              "       [ 444,  196]])"
            ]
          },
          "metadata": {},
          "execution_count": 93
        }
      ]
    },
    {
      "cell_type": "code",
      "source": [
        "2*A"
      ],
      "metadata": {
        "colab": {
          "base_uri": "https://localhost:8080/"
        },
        "id": "VKXd7Q8Vr108",
        "outputId": "cc3130bd-026b-42e8-ba52-5c2af0985f07"
      },
      "execution_count": 94,
      "outputs": [
        {
          "output_type": "execute_result",
          "data": {
            "text/plain": [
              "array([[ 24,   6],\n",
              "       [  8, 130],\n",
              "       [148,  56]])"
            ]
          },
          "metadata": {},
          "execution_count": 94
        }
      ]
    },
    {
      "cell_type": "markdown",
      "source": [
        "# Activity"
      ],
      "metadata": {
        "id": "DwDtSDqqr4Y8"
      }
    },
    {
      "cell_type": "markdown",
      "source": [
        "## Task #1\n",
        "\n",
        "Create a function named mat_desc() that througouhly describes a matrix, it should:\n",
        "Displays the shape, size, and rank of the matrix. Displays whether the matrix is square or non-square. Displays whether the matrix is an empty matrix. Displays if the matrix is an identity, ones, or zeros matrix Use 5 sample matrices in which their shapes are not lower than . In your methodology, create a flowchart discuss the functions and methods you have done. Present your results in the results section showing the description of each matrix you have declared."
      ],
      "metadata": {
        "id": "hcQYfS_Mr7j2"
      }
    },
    {
      "cell_type": "code",
      "source": [
        "def mat_desc (matrix):\n",
        "  if matrix.size > 0:\n",
        "    if matrix.shape [0] == matrix.shape[1]:\n",
        "      m = \"Square.\"\n",
        "    else:\n",
        "      m = \"Non-square.\"\n",
        "    if np.all(matrix == np.identity(matrix.shape[0])):\n",
        "      mp = \"Identity Matrix.\"\n",
        "    elif np.all(matrix == np.zeros(matrix.shape)):\n",
        "      mp = \"Zero Matrix.\"\n",
        "    elif np.all(matrix == np.ones(matrix.shape)):\n",
        "      mp = \"Ones Matrix.\"\n",
        "    else:\n",
        "      mp = \"None.\"\n",
        "    print(f'Matrix:\\n{matrix}\\n\\nShape:\\t{matrix.shape}\\nSize: \\t{matrix.size}\\nRank:\\t{matrix.ndim}\\nSquare?: {m}\\nSpecial Characteristics: {mp}')\n",
        "  else:\n",
        "    print('Matrix is Empty')"
      ],
      "metadata": {
        "id": "zGPRvryrsLQE"
      },
      "execution_count": 95,
      "outputs": []
    },
    {
      "cell_type": "code",
      "source": [
        "square_mat = np.array([\n",
        "   [7,4,9],\n",
        "   [15,6,8],  \n",
        "   [14,22,5]            \n",
        "])\n",
        "\n",
        "non_square_mat = np.array([\n",
        "   [4,7,12],    \n",
        "   [3,4,18],\n",
        "   [33,44,76], \n",
        "   [23,34,55]                  \n",
        "])\n",
        "mat_desc(square_mat)\n",
        "mat_desc(non_square_mat)"
      ],
      "metadata": {
        "colab": {
          "base_uri": "https://localhost:8080/"
        },
        "id": "ztJXo3YxsPWr",
        "outputId": "94b0c993-8861-40e2-bad8-ab16431f039f"
      },
      "execution_count": 96,
      "outputs": [
        {
          "output_type": "stream",
          "name": "stdout",
          "text": [
            "Matrix:\n",
            "[[ 7  4  9]\n",
            " [15  6  8]\n",
            " [14 22  5]]\n",
            "\n",
            "Shape:\t(3, 3)\n",
            "Size: \t9\n",
            "Rank:\t2\n",
            "Square?: Square.\n",
            "Special Characteristics: None.\n",
            "Matrix:\n",
            "[[ 4  7 12]\n",
            " [ 3  4 18]\n",
            " [33 44 76]\n",
            " [23 34 55]]\n",
            "\n",
            "Shape:\t(4, 3)\n",
            "Size: \t12\n",
            "Rank:\t2\n",
            "Square?: Non-square.\n",
            "Special Characteristics: None.\n"
          ]
        },
        {
          "output_type": "stream",
          "name": "stderr",
          "text": [
            "/usr/local/lib/python3.7/dist-packages/ipykernel_launcher.py:7: DeprecationWarning: elementwise comparison failed; this will raise an error in the future.\n",
            "  import sys\n"
          ]
        }
      ]
    },
    {
      "cell_type": "code",
      "source": [
        "square_mat = np.array([\n",
        "   [72,5,29,17],\n",
        "   [11,16,32,45],  \n",
        "   [12,32,16, 24]            \n",
        "])\n",
        "\n",
        "non_square_mat = np.array([\n",
        "   [42,67,25, 23],    \n",
        "   [35,14,19, 29], \n",
        "   [15,17,69, 45],  \n",
        "   [75,77,99, 85],                 \n",
        "])\n",
        "mat_desc(square_mat)\n",
        "mat_desc(non_square_mat)"
      ],
      "metadata": {
        "colab": {
          "base_uri": "https://localhost:8080/"
        },
        "id": "w6qBU1zKsTe_",
        "outputId": "0ad4c80b-8602-4995-b3d9-9a2a41f478df"
      },
      "execution_count": 97,
      "outputs": [
        {
          "output_type": "stream",
          "name": "stdout",
          "text": [
            "Matrix:\n",
            "[[72  5 29 17]\n",
            " [11 16 32 45]\n",
            " [12 32 16 24]]\n",
            "\n",
            "Shape:\t(3, 4)\n",
            "Size: \t12\n",
            "Rank:\t2\n",
            "Square?: Non-square.\n",
            "Special Characteristics: None.\n",
            "Matrix:\n",
            "[[42 67 25 23]\n",
            " [35 14 19 29]\n",
            " [15 17 69 45]\n",
            " [75 77 99 85]]\n",
            "\n",
            "Shape:\t(4, 4)\n",
            "Size: \t16\n",
            "Rank:\t2\n",
            "Square?: Square.\n",
            "Special Characteristics: None.\n"
          ]
        },
        {
          "output_type": "stream",
          "name": "stderr",
          "text": [
            "/usr/local/lib/python3.7/dist-packages/ipykernel_launcher.py:7: DeprecationWarning: elementwise comparison failed; this will raise an error in the future.\n",
            "  import sys\n"
          ]
        }
      ]
    },
    {
      "cell_type": "code",
      "source": [
        "square_mat = np.array([\n",
        "   [44,43,34,77,85],\n",
        "   [21,18,33,44,97],  \n",
        "   [72,42,66,55,82],\n",
        "   [25,27,88,99,75],\n",
        "   [45,37,98,19,15],           \n",
        "])\n",
        "\n",
        "non_square_mat = np.array([\n",
        "   [72,77,25, 63],    \n",
        "   [75,13,10, 89],\n",
        "   [65,23,80, 79]                    \n",
        "])\n",
        "mat_desc(square_mat)\n",
        "mat_desc(non_square_mat)"
      ],
      "metadata": {
        "colab": {
          "base_uri": "https://localhost:8080/"
        },
        "id": "IqQKqBITsXHk",
        "outputId": "c4047bab-a1ac-4bf0-99b1-1aa6dc6ce414"
      },
      "execution_count": 98,
      "outputs": [
        {
          "output_type": "stream",
          "name": "stdout",
          "text": [
            "Matrix:\n",
            "[[44 43 34 77 85]\n",
            " [21 18 33 44 97]\n",
            " [72 42 66 55 82]\n",
            " [25 27 88 99 75]\n",
            " [45 37 98 19 15]]\n",
            "\n",
            "Shape:\t(5, 5)\n",
            "Size: \t25\n",
            "Rank:\t2\n",
            "Square?: Square.\n",
            "Special Characteristics: None.\n",
            "Matrix:\n",
            "[[72 77 25 63]\n",
            " [75 13 10 89]\n",
            " [65 23 80 79]]\n",
            "\n",
            "Shape:\t(3, 4)\n",
            "Size: \t12\n",
            "Rank:\t2\n",
            "Square?: Non-square.\n",
            "Special Characteristics: None.\n"
          ]
        },
        {
          "output_type": "stream",
          "name": "stderr",
          "text": [
            "/usr/local/lib/python3.7/dist-packages/ipykernel_launcher.py:7: DeprecationWarning: elementwise comparison failed; this will raise an error in the future.\n",
            "  import sys\n"
          ]
        }
      ]
    },
    {
      "cell_type": "markdown",
      "source": [
        "## Identity, Ones, Zero Or Empty Matrix"
      ],
      "metadata": {
        "id": "bHQ5RTPnsjJA"
      }
    },
    {
      "cell_type": "markdown",
      "source": [
        "### Null Matrix or Empty Matrix"
      ],
      "metadata": {
        "id": "79Zobt8mtiab"
      }
    },
    {
      "cell_type": "code",
      "source": [
        "null_mat = np.array([])\n",
        "mat_desc(null_mat)\n"
      ],
      "metadata": {
        "colab": {
          "base_uri": "https://localhost:8080/"
        },
        "id": "PN6E69fatYvE",
        "outputId": "0fda6da0-179c-4d5b-f91d-e77a62461805"
      },
      "execution_count": 99,
      "outputs": [
        {
          "output_type": "stream",
          "name": "stdout",
          "text": [
            "Matrix is Empty\n"
          ]
        }
      ]
    },
    {
      "cell_type": "markdown",
      "source": [
        "### Zero Matrix"
      ],
      "metadata": {
        "id": "kSiWX4Q_tYgZ"
      }
    },
    {
      "cell_type": "code",
      "source": [
        "zero_mat = np.array([\n",
        "   [0,0,0,0],\n",
        "   [0,0,0,0],  \n",
        "   [0,0,0,0],\n",
        "   [0,0,0,0]          \n",
        "])\n",
        "mat_desc(zero_mat)"
      ],
      "metadata": {
        "colab": {
          "base_uri": "https://localhost:8080/"
        },
        "id": "JB3u8WHytodM",
        "outputId": "3cbdf8b7-37aa-4052-fad9-049487f47ffe"
      },
      "execution_count": 100,
      "outputs": [
        {
          "output_type": "stream",
          "name": "stdout",
          "text": [
            "Matrix:\n",
            "[[0 0 0 0]\n",
            " [0 0 0 0]\n",
            " [0 0 0 0]\n",
            " [0 0 0 0]]\n",
            "\n",
            "Shape:\t(4, 4)\n",
            "Size: \t16\n",
            "Rank:\t2\n",
            "Square?: Square.\n",
            "Special Characteristics: Zero Matrix.\n"
          ]
        }
      ]
    },
    {
      "cell_type": "markdown",
      "source": [
        "### Ones Matrix"
      ],
      "metadata": {
        "id": "bB-ADFtwtrkO"
      }
    },
    {
      "cell_type": "code",
      "source": [
        "ones_mat = np.array([\n",
        "   [1,1,1,1,1],\n",
        "   [1,1,1,1,1],\n",
        "   [1,1,1,1,1],\n",
        "   [1,1,1,1,1],\n",
        "   [1,1,1,1,1],          \n",
        "])\n",
        "mat_desc(ones_mat)"
      ],
      "metadata": {
        "colab": {
          "base_uri": "https://localhost:8080/"
        },
        "id": "WNhNspictvPB",
        "outputId": "5e36c71e-9dd1-45b6-cda1-15d5890258c4"
      },
      "execution_count": 101,
      "outputs": [
        {
          "output_type": "stream",
          "name": "stdout",
          "text": [
            "Matrix:\n",
            "[[1 1 1 1 1]\n",
            " [1 1 1 1 1]\n",
            " [1 1 1 1 1]\n",
            " [1 1 1 1 1]\n",
            " [1 1 1 1 1]]\n",
            "\n",
            "Shape:\t(5, 5)\n",
            "Size: \t25\n",
            "Rank:\t2\n",
            "Square?: Square.\n",
            "Special Characteristics: Ones Matrix.\n"
          ]
        }
      ]
    },
    {
      "cell_type": "markdown",
      "source": [
        "### Identity Matrix"
      ],
      "metadata": {
        "id": "uYoStCnOtwht"
      }
    },
    {
      "cell_type": "code",
      "source": [
        "identity_mat = np.array([\n",
        "   [1., 0., 0., 0., 0., 0., 0., 0.],\n",
        "   [0., 1., 0., 0., 0., 0., 0., 0.],\n",
        "   [0., 0., 1., 0., 0., 0., 0., 0.],\n",
        "   [0., 0., 0., 1., 0., 0., 0., 0.],\n",
        "   [0., 0., 0., 0., 1., 0., 0., 0.],\n",
        "   [0., 0., 0., 0., 0., 1., 0., 0.],\n",
        "   [0., 0., 0., 0., 0., 0., 1., 0.],\n",
        "   [0., 0., 0., 0., 0., 0., 0., 1.]        \n",
        "])\n",
        "mat_desc(identity_mat)"
      ],
      "metadata": {
        "colab": {
          "base_uri": "https://localhost:8080/"
        },
        "id": "XiowmFkEt3WS",
        "outputId": "56945017-31f6-4c00-8bc4-1c9469403678"
      },
      "execution_count": 102,
      "outputs": [
        {
          "output_type": "stream",
          "name": "stdout",
          "text": [
            "Matrix:\n",
            "[[1. 0. 0. 0. 0. 0. 0. 0.]\n",
            " [0. 1. 0. 0. 0. 0. 0. 0.]\n",
            " [0. 0. 1. 0. 0. 0. 0. 0.]\n",
            " [0. 0. 0. 1. 0. 0. 0. 0.]\n",
            " [0. 0. 0. 0. 1. 0. 0. 0.]\n",
            " [0. 0. 0. 0. 0. 1. 0. 0.]\n",
            " [0. 0. 0. 0. 0. 0. 1. 0.]\n",
            " [0. 0. 0. 0. 0. 0. 0. 1.]]\n",
            "\n",
            "Shape:\t(8, 8)\n",
            "Size: \t64\n",
            "Rank:\t2\n",
            "Square?: Square.\n",
            "Special Characteristics: Identity Matrix.\n"
          ]
        }
      ]
    },
    {
      "cell_type": "markdown",
      "source": [
        "## Task 2\n",
        "\n",
        "Create a function named mat_operations() that takes in two matrices a input parameters it should:\n",
        "\n",
        "1. Determines if the matrices are viable for operation and returns your \n",
        " own error message if they are not viable.\n",
        "2. Returns the sum of the matrices.\n",
        "3. Returns the different of the matrices.\n",
        "4. Returns the element-wise multiplication of the matrices.\n",
        "5. Returns the element-wise division of the matrices.\n",
        "Use 5 sample matrices in which their shapes are not lower than . In your methodology, create a flowchart discuss the functions and methods you have done. Present your results in the results section showing the description of each matrix you have declared."
      ],
      "metadata": {
        "id": "QLqwSwS6t9bl"
      }
    },
    {
      "cell_type": "code",
      "source": [
        "def mat_operations(mat1, mat2):\n",
        "    mat1 = np.array(mat1)\n",
        "    mat2 = np.array(mat2)\n",
        "    print('Matrix 1:\\n', mat1)\n",
        "    print()\n",
        "    print('Matrix 2:\\n', mat2)\n",
        "    print()\n",
        "    if(mat1.shape != mat2.shape):\n",
        "        print('Since the shape of both matrices are not the same, we could not perform the operations.')\n",
        "        return\n",
        "    print('Sum of the given matrices:')\n",
        "    print()\n",
        "    Addition = mat1 + mat2\n",
        "    print(Addition)\n",
        "    print()\n",
        "    print('Difference of the given matrices:')\n",
        "    print()\n",
        "    Subtraction = mat1 - mat2\n",
        "    print(Subtraction)\n",
        "    print()\n",
        "    print('Element-wise multiplication product of the given matrices:')\n",
        "    print()\n",
        "    EW_Multiplication = np.multiply(mat1, mat2)\n",
        "    print(EW_Multiplication)\n",
        "    print()\n",
        "    print('Element-wise division quotient of the given matrices:')\n",
        "    print()\n",
        "    EW_Division = np.divide(mat1, mat2)\n",
        "    print(EW_Division)"
      ],
      "metadata": {
        "id": "Rs0eOXd-UTNZ"
      },
      "execution_count": 103,
      "outputs": []
    },
    {
      "cell_type": "code",
      "source": [
        "print('Sample 1:\\n')\n",
        "mat_operations([[7,4,6], [5,4,7], [1,3,9]], [[6,2,6],[8,4,1],[7,2,1]])\n",
        "\n",
        "print()\n",
        "print()\n",
        "\n",
        "print('Sample 2:\\n')\n",
        "mat_operations([[4, 6, 6,1], [8,3,8,5], [2,1,3,9]], [[7,3,2,8],[4,7,4,2],[9,7,0,5]])\n",
        "\n",
        "print()\n",
        "print()\n",
        "\n",
        "print('Sample 3:\\n')\n",
        "mat_operations([[3,8,0], [5,8,4], [8,1,4]], [[2,4,5],[3,5,9],[1,2,8]])\n",
        "\n",
        "print()\n",
        "print()\n",
        "\n",
        "print('Sample 4:\\n')\n",
        "mat_operations([[4,2,1,6], [3,5,0,9]], [[8,4,3,7,0],[1,2,3,4,5],[6,7,8,9,10]])\n",
        "\n",
        "print()\n",
        "print()\n",
        "\n",
        "print('Sample 5:\\n')\n",
        "mat_operations([[4,7,5,3,2,1], [8,3,6,5,9,7], [5,1,4,7,3,1]], [[9,3,6,8,3,2],[8,9,3,5,4,3],[4,6,9,2,1,1]])"
      ],
      "metadata": {
        "colab": {
          "base_uri": "https://localhost:8080/"
        },
        "id": "tE1dvHiDUYOo",
        "outputId": "9e164137-d997-47d4-c9f3-cedf57731be2"
      },
      "execution_count": 104,
      "outputs": [
        {
          "output_type": "stream",
          "name": "stdout",
          "text": [
            "Sample 1:\n",
            "\n",
            "Matrix 1:\n",
            " [[7 4 6]\n",
            " [5 4 7]\n",
            " [1 3 9]]\n",
            "\n",
            "Matrix 2:\n",
            " [[6 2 6]\n",
            " [8 4 1]\n",
            " [7 2 1]]\n",
            "\n",
            "Sum of the given matrices:\n",
            "\n",
            "[[13  6 12]\n",
            " [13  8  8]\n",
            " [ 8  5 10]]\n",
            "\n",
            "Difference of the given matrices:\n",
            "\n",
            "[[ 1  2  0]\n",
            " [-3  0  6]\n",
            " [-6  1  8]]\n",
            "\n",
            "Element-wise multiplication product of the given matrices:\n",
            "\n",
            "[[42  8 36]\n",
            " [40 16  7]\n",
            " [ 7  6  9]]\n",
            "\n",
            "Element-wise division quotient of the given matrices:\n",
            "\n",
            "[[1.16666667 2.         1.        ]\n",
            " [0.625      1.         7.        ]\n",
            " [0.14285714 1.5        9.        ]]\n",
            "\n",
            "\n",
            "Sample 2:\n",
            "\n",
            "Matrix 1:\n",
            " [[4 6 6 1]\n",
            " [8 3 8 5]\n",
            " [2 1 3 9]]\n",
            "\n",
            "Matrix 2:\n",
            " [[7 3 2 8]\n",
            " [4 7 4 2]\n",
            " [9 7 0 5]]\n",
            "\n",
            "Sum of the given matrices:\n",
            "\n",
            "[[11  9  8  9]\n",
            " [12 10 12  7]\n",
            " [11  8  3 14]]\n",
            "\n",
            "Difference of the given matrices:\n",
            "\n",
            "[[-3  3  4 -7]\n",
            " [ 4 -4  4  3]\n",
            " [-7 -6  3  4]]\n",
            "\n",
            "Element-wise multiplication product of the given matrices:\n",
            "\n",
            "[[28 18 12  8]\n",
            " [32 21 32 10]\n",
            " [18  7  0 45]]\n",
            "\n",
            "Element-wise division quotient of the given matrices:\n",
            "\n",
            "[[0.57142857 2.         3.         0.125     ]\n",
            " [2.         0.42857143 2.         2.5       ]\n",
            " [0.22222222 0.14285714        inf 1.8       ]]\n",
            "\n",
            "\n",
            "Sample 3:\n",
            "\n",
            "Matrix 1:\n",
            " [[3 8 0]\n",
            " [5 8 4]\n",
            " [8 1 4]]\n",
            "\n",
            "Matrix 2:\n",
            " [[2 4 5]\n",
            " [3 5 9]\n",
            " [1 2 8]]\n",
            "\n",
            "Sum of the given matrices:\n",
            "\n",
            "[[ 5 12  5]\n",
            " [ 8 13 13]\n",
            " [ 9  3 12]]\n",
            "\n",
            "Difference of the given matrices:\n",
            "\n",
            "[[ 1  4 -5]\n",
            " [ 2  3 -5]\n",
            " [ 7 -1 -4]]\n",
            "\n",
            "Element-wise multiplication product of the given matrices:\n",
            "\n",
            "[[ 6 32  0]\n",
            " [15 40 36]\n",
            " [ 8  2 32]]\n",
            "\n",
            "Element-wise division quotient of the given matrices:\n",
            "\n",
            "[[1.5        2.         0.        ]\n",
            " [1.66666667 1.6        0.44444444]\n",
            " [8.         0.5        0.5       ]]\n",
            "\n",
            "\n",
            "Sample 4:\n",
            "\n",
            "Matrix 1:\n",
            " [[4 2 1 6]\n",
            " [3 5 0 9]]\n",
            "\n",
            "Matrix 2:\n",
            " [[ 8  4  3  7  0]\n",
            " [ 1  2  3  4  5]\n",
            " [ 6  7  8  9 10]]\n",
            "\n",
            "Since the shape of both matrices are not the same, we could not perform the operations.\n",
            "\n",
            "\n",
            "Sample 5:\n",
            "\n",
            "Matrix 1:\n",
            " [[4 7 5 3 2 1]\n",
            " [8 3 6 5 9 7]\n",
            " [5 1 4 7 3 1]]\n",
            "\n",
            "Matrix 2:\n",
            " [[9 3 6 8 3 2]\n",
            " [8 9 3 5 4 3]\n",
            " [4 6 9 2 1 1]]\n",
            "\n",
            "Sum of the given matrices:\n",
            "\n",
            "[[13 10 11 11  5  3]\n",
            " [16 12  9 10 13 10]\n",
            " [ 9  7 13  9  4  2]]\n",
            "\n",
            "Difference of the given matrices:\n",
            "\n",
            "[[-5  4 -1 -5 -1 -1]\n",
            " [ 0 -6  3  0  5  4]\n",
            " [ 1 -5 -5  5  2  0]]\n",
            "\n",
            "Element-wise multiplication product of the given matrices:\n",
            "\n",
            "[[36 21 30 24  6  2]\n",
            " [64 27 18 25 36 21]\n",
            " [20  6 36 14  3  1]]\n",
            "\n",
            "Element-wise division quotient of the given matrices:\n",
            "\n",
            "[[0.44444444 2.33333333 0.83333333 0.375      0.66666667 0.5       ]\n",
            " [1.         0.33333333 2.         1.         2.25       2.33333333]\n",
            " [1.25       0.16666667 0.44444444 3.5        3.         1.        ]]\n"
          ]
        },
        {
          "output_type": "stream",
          "name": "stderr",
          "text": [
            "/usr/local/lib/python3.7/dist-packages/ipykernel_launcher.py:28: RuntimeWarning: divide by zero encountered in true_divide\n"
          ]
        }
      ]
    }
  ]
}