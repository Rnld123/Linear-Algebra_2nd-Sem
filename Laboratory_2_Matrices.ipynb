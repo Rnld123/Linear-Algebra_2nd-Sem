{
  "nbformat": 4,
  "nbformat_minor": 0,
  "metadata": {
    "colab": {
      "name": "Laboratory 2_Matrices.ipynb",
      "provenance": [],
      "collapsed_sections": [],
      "authorship_tag": "ABX9TyNgqAFmVE2HReavk1Nei0Yd",
      "include_colab_link": true
    },
    "kernelspec": {
      "name": "python3",
      "display_name": "Python 3"
    },
    "language_info": {
      "name": "python"
    }
  },
  "cells": [
    {
      "cell_type": "markdown",
      "metadata": {
        "id": "view-in-github",
        "colab_type": "text"
      },
      "source": [
        "<a href=\"https://colab.research.google.com/github/arnoldsanroque/Linear-Algebra_2nd-Sem/blob/main/Laboratory_2_Matrices.ipynb\" target=\"_parent\"><img src=\"https://colab.research.google.com/assets/colab-badge.svg\" alt=\"Open In Colab\"/></a>"
      ]
    },
    {
      "cell_type": "markdown",
      "source": [
        "# Linear Algebra for CHE\n",
        "## Laboratory 2: Matrices"
      ],
      "metadata": {
        "id": "ocQtJwbqgFsM"
      }
    },
    {
      "cell_type": "markdown",
      "source": [
        "### Objectives\n",
        "At the end of this activity you will be able to\n",
        "1.   Be familiar with matrices and their relation to linear equations.\n",
        "2.   Perform basic matrix operations.\n",
        "3.   Program and translate matrix equations and \n",
        "operations using Python.\n",
        "\n",
        "\n",
        "\n"
      ],
      "metadata": {
        "id": "oEBud7f1gSN1"
      }
    },
    {
      "cell_type": "markdown",
      "source": [
        "# Discussion\n"
      ],
      "metadata": {
        "id": "7btdosWAgV-n"
      }
    },
    {
      "cell_type": "code",
      "execution_count": null,
      "metadata": {
        "id": "bHeGrpF3vo3m"
      },
      "outputs": [],
      "source": [
        "import numpy as np\n",
        "import matplotlib.pyplot as plt\n",
        "import scipy.linalg as la\n",
        "%matplotlib inline "
      ]
    },
    {
      "cell_type": "markdown",
      "source": [
        "## Matrices"
      ],
      "metadata": {
        "id": "sI4REkSFznSp"
      }
    },
    {
      "cell_type": "markdown",
      "source": [
        "The notation and use of matrices is probably one of the fundamentals of modern computing. Matrices are also handy representations of complex equations or multiple inter-related equations from 2-dimensional equations to even hundreds and thousands of them. "
      ],
      "metadata": {
        "id": "mBJWD3lEzqUS"
      }
    },
    {
      "cell_type": "markdown",
      "source": [
        "***A***, ***B***, and ***C*** as systems of equation."
      ],
      "metadata": {
        "id": "qmzO45uvgs4k"
      }
    },
    {
      "cell_type": "markdown",
      "source": [
        "$$\n",
        "A = \\left\\{\n",
        "    \\begin{array}\\\n",
        "        x + y \\\\ \n",
        "        4x - 10y\n",
        "    \\end{array}\n",
        "\\right. \\\\\n",
        "B = \\left\\{\n",
        "    \\begin{array}\\\n",
        "        x +y + z \\\\ \n",
        "        3x -2y -z \\\\\n",
        "        -x + 4y +2z\n",
        "    \\end{array}\n",
        "\\right. \\\\\n",
        "C = \\left\\{\n",
        "    \\begin{array}\\\n",
        "        12x + 21y+ 18z \\\\ \n",
        "        10x - 10y -18z \\\\\n",
        "        -6x + 27y +7z\n",
        "    \\end{array}\n",
        "\\right. \n",
        "$$\n"
      ],
      "metadata": {
        "id": "pUcONYuKz4RL"
      }
    },
    {
      "cell_type": "markdown",
      "source": [
        "We could see that ***A*** is a system of 2 equations with 2 parameters. ***B*** is a system of 3 equations with 3 parameters. And ***C*** is a system of 4 equations with 4 parameters. We can represent them as matrices:"
      ],
      "metadata": {
        "id": "VyKeFlkghY8e"
      }
    },
    {
      "cell_type": "markdown",
      "source": [
        ":$$\n",
        "A=\\begin{bmatrix} 1 & 1 \\\\ 4 & {-10}\\end{bmatrix} \\\\\n",
        "B=\\begin{bmatrix} 1 & 1 & 1 \\\\ 3 & -2 & -1 \\\\ -1 & 4 & 2\\end{bmatrix}\\\\\n",
        "C=\\begin{bmatrix} 12 & 7 & 6 \\\\ 1 & 4 & -3 \\\\ -10 & 6 & -5\\end{bmatrix}\n",
        "$$\n"
      ],
      "metadata": {
        "id": "u1tUyPgS1fbu"
      }
    },
    {
      "cell_type": "markdown",
      "source": [
        "### Declaring Matrices"
      ],
      "metadata": {
        "id": "DXNEGZ-5he1t"
      }
    },
    {
      "cell_type": "markdown",
      "source": [
        "The entities or numbers in matrices are called the elements of a matrix. These elements are arranged and ordered in rows and columns which form the list/array-like structure of matrices. And just just like arrays, these elements are indexed according to their position with respect to their rows and columns. This can be represented just like the equation below. Whereas ***A*** is a matrix consisting of elements denoted by **a**i,j*. Denoted by *i* is the number of rows in the matrix while *j* stands for the number of columns.\n",
        "Do note that the size of a matrix is *i x j*."
      ],
      "metadata": {
        "id": "mougLUSghh0c"
      }
    },
    {
      "cell_type": "markdown",
      "source": [
        "$$A=\\begin{bmatrix}\n",
        "a_{(0,0)}&a_{(0,1)}&\\dots&a_{(0,j-1)}\\\\\n",
        "a_{(1,0)}&a_{(1,1)}&\\dots&a_{(1,j-1)}\\\\\n",
        "\\vdots&\\vdots&\\ddots&\\vdots&\\\\\n",
        "a_{(i-1,0)}&a_{(i-1,1)}&\\dots&a_{(i-1,j-1)}\n",
        "\\end{bmatrix}\n",
        "$$\n"
      ],
      "metadata": {
        "id": "-n_r4c3a3vOy"
      }
    },
    {
      "cell_type": "code",
      "source": [
        "def describe_mat(matrix) :\n",
        "  print(f'Matrix:\\n{matrix}\\n\\nShape:\\t{matrix.shape}\\nRank:\\t{matrix.ndim}\\n')"
      ],
      "metadata": {
        "id": "DyqQrVaY4gRB"
      },
      "execution_count": null,
      "outputs": []
    },
    {
      "cell_type": "code",
      "source": [
        "## Declaring a 2 x 2 matrix\n",
        "A = np.array ([\n",
        "    [1,2],\n",
        "    [3,1]\n",
        "])\n",
        "describe_mat(A)\n"
      ],
      "metadata": {
        "id": "yjhZXEKH7Bdz"
      },
      "execution_count": null,
      "outputs": []
    },
    {
      "cell_type": "code",
      "source": [
        "## Declaring a 2 x 3 matrix\n",
        "G = np.array([\n",
        "    [65, 44, 97],\n",
        "    [83, 41, 74]\n",
        "])\n",
        "describe_mat(G)"
      ],
      "metadata": {
        "id": "_7oJkXuqh45H"
      },
      "execution_count": null,
      "outputs": []
    },
    {
      "cell_type": "code",
      "source": [
        "## Declaring a 3 x 2 matrix\n",
        "G = np.array([\n",
        "    [65, 44],\n",
        "    [83, 41],\n",
        "    [97, 74]\n",
        "])\n",
        "describe_mat(G)"
      ],
      "metadata": {
        "id": "YxreRivfiCaW"
      },
      "execution_count": null,
      "outputs": []
    },
    {
      "cell_type": "code",
      "source": [
        "L = np.array([12, 3, 34, 54, 7, 432, 32, 56])\n",
        "describe_mat(L)"
      ],
      "metadata": {
        "id": "zhA8rinWidLr"
      },
      "execution_count": null,
      "outputs": []
    },
    {
      "cell_type": "markdown",
      "source": [
        "## Categorizing Matrices "
      ],
      "metadata": {
        "id": "7Oc2WaPpiojf"
      }
    },
    {
      "cell_type": "markdown",
      "source": [
        "There are several ways of classifying matrices. One could be \n",
        "according to their **shape** and another is according to their element values. We'll try to go through them."
      ],
      "metadata": {
        "id": "M40t79IZjkCM"
      }
    },
    {
      "cell_type": "markdown",
      "source": [
        "### According to Shape "
      ],
      "metadata": {
        "id": "_dqcf8cJjupL"
      }
    },
    {
      "cell_type": "markdown",
      "source": [
        "According to shape - it defines the number of rows and columns of the specific matrix"
      ],
      "metadata": {
        "id": "kTKTJB43jj5z"
      }
    },
    {
      "cell_type": "code",
      "source": [
        "A = np.array ([\n",
        "    [1,2],\n",
        "    [3,1]\n",
        "])\n",
        "describe_mat(A)"
      ],
      "metadata": {
        "id": "TkuEc-Ehj1g0"
      },
      "execution_count": null,
      "outputs": []
    },
    {
      "cell_type": "markdown",
      "source": [
        "### Row and Column Matrices"
      ],
      "metadata": {
        "id": "jks8scf_jjw1"
      }
    },
    {
      "cell_type": "markdown",
      "source": [
        "A 1-by-n matrix (a single row) is a row matrix, while an n-by-1 matrix is a column matrix (a single column). The terms \"row and column matrices\" and \"row and column vectors\" are interchangeable."
      ],
      "metadata": {
        "id": "JenedJZDjccs"
      }
    },
    {
      "cell_type": "code",
      "source": [
        "## Declaring a Row Matrix\n",
        "\n",
        "row_mat_1D = np.array([\n",
        "     1, 2, 3, 4, 5                  \n",
        "]) \n",
        "row_mat_2D = np.array([\n",
        "     [6, 7, 8, 9, 10]                  \n",
        "]) \n",
        "describe_mat(row_mat_1D)\n",
        "describe_mat(row_mat_2D)"
      ],
      "metadata": {
        "id": "nAJgbHL4kN50"
      },
      "execution_count": null,
      "outputs": []
    },
    {
      "cell_type": "code",
      "source": [
        "## Declaring a Column Matrix\n",
        "\n",
        "col_mat =np.array([\n",
        "     [2], \n",
        "     [12],\n",
        "     [18],\n",
        "     [10],\n",
        "     [7],\n",
        "     [21]             \n",
        "])\n",
        "describe_mat(col_mat)"
      ],
      "metadata": {
        "id": "ECifoL6_kib_"
      },
      "execution_count": null,
      "outputs": []
    },
    {
      "cell_type": "markdown",
      "source": [
        "### Square Matrices"
      ],
      "metadata": {
        "id": "kd35SQ8qk0Fl"
      }
    },
    {
      "cell_type": "markdown",
      "source": [
        "A square matrix is a matrix with the exact number of components as its name suggests. Its order is of the form n x n since it contains an equal number of rows and columns. All matrix operations such as transpose, determinant, adjoint, and inverse and matrices' mathematical operations apply to a square matrix."
      ],
      "metadata": {
        "id": "mwCn9cCDk3dJ"
      }
    },
    {
      "cell_type": "code",
      "source": [
        "def describe_mat(matrix) :\n",
        "  is_square = True if matrix.shape[0] == matrix.shape[1] else False\n",
        "  print(f'Matrix:\\n{matrix}\\n\\nShape:\\t{matrix.shape}\\nRank:\\t{matrix.ndim}\\nIs Square: {is_square}\\n')"
      ],
      "metadata": {
        "id": "Z2238_Ao_Bo3"
      },
      "execution_count": null,
      "outputs": []
    },
    {
      "cell_type": "code",
      "source": [
        "square_mat = np.array[(\n",
        "    [1,2,5],\n",
        "    [3,3,8],\n",
        "    [2,1,2]\n",
        ")]\n",
        "\n",
        "non_square_mat=np.array[(\n",
        "    [5,2,1],\n",
        "    [8,3,3],\n",
        "    [2,1,2]\n",
        ")]\n",
        "describe_mat(square_mat)\n",
        "describe_mat(non_square_mat)"
      ],
      "metadata": {
        "id": "hNlKE3CK_sDo"
      },
      "execution_count": null,
      "outputs": []
    },
    {
      "cell_type": "markdown",
      "source": [
        "# According to Element Values"
      ],
      "metadata": {
        "id": "tuBb2aKQlBkv"
      }
    },
    {
      "cell_type": "markdown",
      "source": [
        "According to element values - it defines what kind of matrix it will be, it can be square, null, zero, ones, diagonal, identity, upper triangular, and lower triangular matrix."
      ],
      "metadata": {
        "id": "_n-zW4sylGz-"
      }
    },
    {
      "cell_type": "markdown",
      "source": [
        "## Null Matrix"
      ],
      "metadata": {
        "id": "rgYkuRj9l3_g"
      }
    },
    {
      "cell_type": "markdown",
      "source": [
        "A Null Matrix is a matrix in which each element is none. The null matrix, often known as a zero matrix, has a variable number of rows and columns. Because adding a null matrix to any other matrix produces the same outcome, a null matrix is also known as the additive identity of the provided matrix."
      ],
      "metadata": {
        "id": "R_27mQuql8lm"
      }
    },
    {
      "cell_type": "code",
      "source": [
        "def describe_mat(matrix) :\n",
        "  if matrix.size > 0 :\n",
        "    is_square = True if matrix.shape[0] == matrix.shape[1] else False\n",
        "    print(f'Matrix:\\n{matrix}\\n\\nShape:\\t{matrix.shape}\\nRank:\\t{matrix.ndim}\\nIs Square: {is_square}\\n')\n",
        "  else :\n",
        "    print('Matrix is Null')\n"
      ],
      "metadata": {
        "id": "uNpHg5xLCHWW"
      },
      "execution_count": 13,
      "outputs": []
    },
    {
      "cell_type": "code",
      "source": [
        "null_mat = np.array([])\n",
        "describe_mat(null_mat)"
      ],
      "metadata": {
        "id": "lYN-ll6hla0V"
      },
      "execution_count": null,
      "outputs": []
    },
    {
      "cell_type": "markdown",
      "source": [
        "## Zero Matrix"
      ],
      "metadata": {
        "id": "korHS7LUmDN0"
      }
    },
    {
      "cell_type": "markdown",
      "source": [
        "A zero matrix is one in which most elements are equal to zero. A zero matrix is represented by 0, and if necessary, a subscript can be applied to specify the matrix's dimensions. Zero matrices play a similar role in matrices operations as zero does in real-number operations."
      ],
      "metadata": {
        "id": "cbKwg78lmDBp"
      }
    },
    {
      "cell_type": "code",
      "source": [
        "zero_mat_row = np.zeros((1,2))\n",
        "zero_mat_sqr = np.zeros((2,2))\n",
        "zero_mat_rct = np.zeros((3,2))\n",
        "\n",
        "print(f'Zero Row Matrix: \\n{zero_mat_row}')\n",
        "print(f'Zero Square Matrix: \\n{zero_mat_sqr}')\n",
        "print(f'Zero Rectangular Matrix: \\n{zero_mat_rct}')"
      ],
      "metadata": {
        "id": "z6z8KWSGCque"
      },
      "execution_count": null,
      "outputs": []
    },
    {
      "cell_type": "markdown",
      "source": [
        "## Ones Matrix"
      ],
      "metadata": {
        "id": "bVE4O0U7mXF6"
      }
    },
    {
      "cell_type": "markdown",
      "source": [
        "A matrix of ones, also known as an all-ones matrix, is a matrix in which all of the elements are equal to one."
      ],
      "metadata": {
        "id": "mrBjeAqlmW2y"
      }
    },
    {
      "cell_type": "code",
      "source": [
        "ones_mat_row = np.ones((1,2))\n",
        "ones_mat_sqr = np.ones((2,2))\n",
        "ones_mat_rct = np.ones((3,2))\n",
        "\n",
        "print(f'Ones Row Matrix: \\n{ones_mat_row}')\n",
        "print(f'Ones Square Matrix: \\n{ones_mat_sqr}')\n",
        "print(f'Ones Rectangular Matrix: \\n{ones_mat_rct}')"
      ],
      "metadata": {
        "id": "LdBQ23KgDvrP"
      },
      "execution_count": null,
      "outputs": []
    },
    {
      "cell_type": "markdown",
      "source": [
        "## Diagonal Matrix"
      ],
      "metadata": {
        "id": "E64BzdNkmpMg"
      }
    },
    {
      "cell_type": "markdown",
      "source": [
        "A diagonal matrix has both upper and bottom triangle elements. The name \"diagonal matrix\" comes from all the entries above and below the principal diagonal are zeros."
      ],
      "metadata": {
        "id": "EK1nOeiTmpGF"
      }
    },
    {
      "cell_type": "code",
      "source": [
        "np.array([\n",
        "   [4,0,0,0],\n",
        "   [0,6,0,0],\n",
        "   [0,0,7,0],\n",
        "   [0,0,0,2]       \n",
        "])"
      ],
      "metadata": {
        "id": "R31SKkypm6Cl"
      },
      "execution_count": null,
      "outputs": []
    },
    {
      "cell_type": "code",
      "source": [
        "d = np.diag([2, 3, 5, 7])\n",
        "d.shape[0] == d.shape[1]\n",
        "d"
      ],
      "metadata": {
        "id": "y205d01DE9M3"
      },
      "execution_count": null,
      "outputs": []
    },
    {
      "cell_type": "code",
      "source": [
        "a = np.diag([2, 3, 5, 7])\n",
        "np.diag(a).shape == a.shape[1] == a.shape[4]"
      ],
      "metadata": {
        "id": "UtjV0BUenLbz"
      },
      "execution_count": null,
      "outputs": []
    },
    {
      "cell_type": "markdown",
      "source": [
        "## Identity Matrix"
      ],
      "metadata": {
        "id": "PTz96xS7nGO6"
      }
    },
    {
      "cell_type": "markdown",
      "source": [
        "An identity matrix is a square matrix for all primary diagonal elements and zeros for all other elements. The letter \"In\" or simply \"I\" is used to indicate it. The result of multiplying any matrix by the identity matrix is the provided matrix."
      ],
      "metadata": {
        "id": "VNTz4bTWnGFh"
      }
    },
    {
      "cell_type": "code",
      "source": [
        "np.eye(3)"
      ],
      "metadata": {
        "id": "kSu-VaBEGFpS"
      },
      "execution_count": null,
      "outputs": []
    },
    {
      "cell_type": "code",
      "source": [
        "np.identity(4)"
      ],
      "metadata": {
        "id": "XvoqTOT6GH1l"
      },
      "execution_count": null,
      "outputs": []
    },
    {
      "cell_type": "markdown",
      "source": [
        "## Upper Triangular Matrix"
      ],
      "metadata": {
        "id": "JwVdb5XPnh1w"
      }
    },
    {
      "cell_type": "markdown",
      "source": [
        "All of the entries below the main diagonal are zero in the upper triangular matrix."
      ],
      "metadata": {
        "id": "rvuiB1efnhpJ"
      }
    },
    {
      "cell_type": "code",
      "source": [
        "np.array([\n",
        "   [1, 2, 3, 4],\n",
        "   [0, 5, 6, 7],\n",
        "   [0, 0, 8, 9],\n",
        "   [0, 0, 0, 10]      \n",
        "])"
      ],
      "metadata": {
        "id": "_IPVXNzInsLI"
      },
      "execution_count": null,
      "outputs": []
    },
    {
      "cell_type": "markdown",
      "source": [
        "## Lower Triangular Matrix"
      ],
      "metadata": {
        "id": "tY_uVZnUn-pG"
      }
    },
    {
      "cell_type": "markdown",
      "source": [
        "All of the entries above the main diagonal are zero in the lower triangular matrix."
      ],
      "metadata": {
        "id": "L1ILoVnrn-bx"
      }
    },
    {
      "cell_type": "code",
      "source": [
        "np.array([\n",
        "   [10, 0, 0, 0],       \n",
        "   [8, 9, 0, 0],\n",
        "   [5, 6, 7, 0],\n",
        "   [1, 2, 3, 4],     \n",
        "])"
      ],
      "metadata": {
        "id": "NjO_cI4ZoIkH"
      },
      "execution_count": null,
      "outputs": []
    },
    {
      "cell_type": "markdown",
      "source": [
        "# Practice Problems"
      ],
      "metadata": {
        "id": "E6K9eCd4p2_Z"
      }
    },
    {
      "cell_type": "markdown",
      "source": [
        "1. Given the linear combination below, try to create a corresponding matrix representing it.\n"
      ],
      "metadata": {
        "id": "51ahNziTItxB"
      }
    },
    {
      "cell_type": "markdown",
      "source": [
        "$$\\theta = 5x + 3y - z$$\n"
      ],
      "metadata": {
        "id": "JEuYPcNbHqCv"
      }
    },
    {
      "cell_type": "markdown",
      "source": [
        "**Answer:**\n",
        "\n",
        "$$\n",
        "\\theta = \\begin{bmatrix} 5 & 3 & -1 \\end{bmatrix} \\\\\n",
        "$$"
      ],
      "metadata": {
        "id": "648ti3vdo2HS"
      }
    },
    {
      "cell_type": "markdown",
      "source": [
        "2. Given the system of linear combinations below, try to encode it as a matrix. Also describe the matrix.\n"
      ],
      "metadata": {
        "id": "EM0q4c2rIupO"
      }
    },
    {
      "cell_type": "markdown",
      "source": [
        "$$\n",
        "A = \\left\\{\\begin{array}\n",
        "5x_1 + 2x_2 +x_3\\\\\n",
        "4x_2 - x_3\\\\\n",
        "10x_3\n",
        "\\end{array}\\right.\n",
        "$$\n"
      ],
      "metadata": {
        "id": "ilGcbM2kH1eB"
      }
    },
    {
      "cell_type": "markdown",
      "source": [
        "**Answer:**\n",
        "$$\n",
        "A=\\begin{bmatrix} 1 & 2 & 1 \\\\ 0 & 4 & -1 \\\\ 0 & 0 & 10\\end{bmatrix} \\\\\n",
        "$$"
      ],
      "metadata": {
        "id": "zJddjxe5ppH9"
      }
    },
    {
      "cell_type": "markdown",
      "source": [
        "3. Given the matrix below, express it as a linear combination in a markdown and a LaTeX markdown\n"
      ],
      "metadata": {
        "id": "CCrZw_CgIxXN"
      }
    },
    {
      "cell_type": "code",
      "source": [
        "G = np.array([ \n",
        "        [1,7,8], \n",
        "        [2,2,2], \n",
        "        [4,6,7] \n",
        "])"
      ],
      "metadata": {
        "id": "MMAPFgL7I-rf"
      },
      "execution_count": 20,
      "outputs": []
    },
    {
      "cell_type": "markdown",
      "source": [
        "**Answer:**\n",
        "$$\n",
        "G = \\left\\{\\begin{array}\n",
        "5x + 7y + 8z\\\\\n",
        "2x + 2y + 2z\\\\\n",
        "4x + 6y + 7z\n",
        "\\end{array}\\right.\n",
        "$$\n",
        "\n",
        "\n",
        "$$\n",
        "G=\\begin{bmatrix} 1 & 7 & 8 \\\\ 2 & 2 & 2 \\\\ 4 & 6 & 7\\end{bmatrix} \\\\\n",
        "$$"
      ],
      "metadata": {
        "id": "qo12WWOmpREf"
      }
    },
    {
      "cell_type": "markdown",
      "source": [
        "4. Given the matrix below, display the output as a LaTeX markdown also express it as a system of linear combinations.\n"
      ],
      "metadata": {
        "id": "Y5AbVMJ9I6mg"
      }
    },
    {
      "cell_type": "code",
      "source": [
        "H = np.tril(G)\n",
        "H\n"
      ],
      "metadata": {
        "id": "rRAJfFqTJOxc"
      },
      "execution_count": null,
      "outputs": []
    },
    {
      "cell_type": "markdown",
      "source": [
        "**Answer:**\n",
        "$$\n",
        "H = \\left\\{\\begin{array}\n",
        "1x\\\\\n",
        "2x + 2y\\\\\n",
        "4x + 6y + 7z\n",
        "\\end{array}\\right.\n",
        "$$\n",
        "\n",
        "\n",
        "$$\n",
        "H=\\begin{bmatrix} 1 & 0 & 0 \\\\ 2 & 2 & 0 \\\\ 4 & 6 & 7\\end{bmatrix} \\\\\n",
        "$$"
      ],
      "metadata": {
        "id": "sUaRWpczqS_u"
      }
    },
    {
      "cell_type": "markdown",
      "source": [
        "## Matrix Algebra"
      ],
      "metadata": {
        "id": "t4X28AU1qgP4"
      }
    },
    {
      "cell_type": "markdown",
      "source": [
        "Matrix algebra is used to display graphs, calculate statistics, and conduct scientific investigations and research in various domains. Matrices may also be used to represent real-world information such as population, infant mortality rate, etc. For charting surveys, these are the finest representation approaches."
      ],
      "metadata": {
        "id": "UtvseJdRqgDn"
      }
    },
    {
      "cell_type": "markdown",
      "source": [
        "## Addition"
      ],
      "metadata": {
        "id": "iX83UbN2qqSR"
      }
    },
    {
      "cell_type": "markdown",
      "source": [
        "The operation of combining the entries of two matrices is known as matrix addition."
      ],
      "metadata": {
        "id": "Ey10joVQqsTS"
      }
    },
    {
      "cell_type": "code",
      "source": [
        "A = np.array([\n",
        "    [12, 3],     \n",
        "    [4, 65],\n",
        "    [74, 28]\n",
        "])\n",
        "B = np.array([\n",
        "    [89, 90],     \n",
        "    [4, 5],\n",
        "    [6, 7]      \n",
        "])\n",
        "A+B"
      ],
      "metadata": {
        "id": "ItzVGT-EqwCX"
      },
      "execution_count": null,
      "outputs": []
    },
    {
      "cell_type": "code",
      "source": [
        "## Broadcasting\n",
        "# 2*np.ones(A.shape)+A\n",
        "6 + A"
      ],
      "metadata": {
        "id": "l6mLHGT2rFLe"
      },
      "execution_count": null,
      "outputs": []
    },
    {
      "cell_type": "markdown",
      "source": [
        "## Subtraction"
      ],
      "metadata": {
        "id": "econRuOgqvTM"
      }
    },
    {
      "cell_type": "markdown",
      "source": [
        "Subtraction between two matrices is achievable if their order or dimensions are the same. To subtract two or more matrices, they must have the same number of rows and columns."
      ],
      "metadata": {
        "id": "3PCi99LVrTms"
      }
    },
    {
      "cell_type": "code",
      "source": [
        "A - B"
      ],
      "metadata": {
        "id": "3xg3yYKxraRb"
      },
      "execution_count": null,
      "outputs": []
    },
    {
      "cell_type": "code",
      "source": [
        "7 - A"
      ],
      "metadata": {
        "id": "rl6CwulkrcJc"
      },
      "execution_count": null,
      "outputs": []
    },
    {
      "cell_type": "code",
      "source": [
        "5-B == 5*np.ones(B.shape)-B"
      ],
      "metadata": {
        "id": "LtIPc-6krfGN"
      },
      "execution_count": null,
      "outputs": []
    },
    {
      "cell_type": "markdown",
      "source": [
        "## Element-Wise Multiplication"
      ],
      "metadata": {
        "id": "jmyYNq4BrnOO"
      }
    },
    {
      "cell_type": "markdown",
      "source": [
        "Element-Wise Multiplication is an operation of multiplying two numbers but only for its corresponding element."
      ],
      "metadata": {
        "id": "y3J3y9H_rqwg"
      }
    },
    {
      "cell_type": "code",
      "source": [
        "A*B\n",
        "np.multiply(A,B)"
      ],
      "metadata": {
        "id": "6ywvMhkhrunK"
      },
      "execution_count": null,
      "outputs": []
    },
    {
      "cell_type": "code",
      "source": [
        "2*A"
      ],
      "metadata": {
        "id": "VKXd7Q8Vr108"
      },
      "execution_count": null,
      "outputs": []
    },
    {
      "cell_type": "markdown",
      "source": [
        "# Activity"
      ],
      "metadata": {
        "id": "DwDtSDqqr4Y8"
      }
    },
    {
      "cell_type": "markdown",
      "source": [
        "## Task #1\n",
        "\n",
        "Create a function named mat_desc() that througouhly describes a matrix, it should:\n",
        "Displays the shape, size, and rank of the matrix. Displays whether the matrix is square or non-square. Displays whether the matrix is an empty matrix. Displays if the matrix is an identity, ones, or zeros matrix Use 5 sample matrices in which their shapes are not lower than . In your methodology, create a flowchart discuss the functions and methods you have done. Present your results in the results section showing the description of each matrix you have declared."
      ],
      "metadata": {
        "id": "hcQYfS_Mr7j2"
      }
    },
    {
      "cell_type": "code",
      "source": [
        "def mat_desc (matrix):\n",
        "  if matrix.size > 0:\n",
        "    if matrix.shape [0] == matrix.shape[1]:\n",
        "      m = \"Square.\"\n",
        "    else:\n",
        "      m = \"Non-square.\"\n",
        "    if np.all(matrix == np.identity(matrix.shape[0])):\n",
        "      mp = \"Identity Matrix.\"\n",
        "    elif np.all(matrix == np.zeros(matrix.shape)):\n",
        "      mp = \"Zero Matrix.\"\n",
        "    elif np.all(matrix == np.ones(matrix.shape)):\n",
        "      mp = \"Ones Matrix.\"\n",
        "    else:\n",
        "      mp = \"None.\"\n",
        "    print(f'Matrix:\\n{matrix}\\n\\nShape:\\t{matrix.shape}\\nSize: \\t{matrix.size}\\nRank:\\t{matrix.ndim}\\nSquare?: {m}\\nSpecial Characteristics: {mp}')\n",
        "  else:\n",
        "    print('Matrix is Empty')"
      ],
      "metadata": {
        "id": "zGPRvryrsLQE"
      },
      "execution_count": null,
      "outputs": []
    },
    {
      "cell_type": "code",
      "source": [
        "square_mat = np.array([\n",
        "   [7,4,9],\n",
        "   [15,6,8],  \n",
        "   [14,22,5]            \n",
        "])\n",
        "\n",
        "non_square_mat = np.array([\n",
        "   [4,7,12],    \n",
        "   [3,4,18],\n",
        "   [33,44,76], \n",
        "   [23,34,55]                  \n",
        "])\n",
        "mat_desc(square_mat)\n",
        "mat_desc(non_square_mat)"
      ],
      "metadata": {
        "id": "ztJXo3YxsPWr"
      },
      "execution_count": null,
      "outputs": []
    },
    {
      "cell_type": "code",
      "source": [
        "square_mat = np.array([\n",
        "   [72,5,29,17],\n",
        "   [11,16,32,45],  \n",
        "   [12,32,16, 24]            \n",
        "])\n",
        "\n",
        "non_square_mat = np.array([\n",
        "   [42,67,25, 23],    \n",
        "   [35,14,19, 29], \n",
        "   [15,17,69, 45],  \n",
        "   [75,77,99, 85],                 \n",
        "])\n",
        "mat_desc(square_mat)\n",
        "mat_desc(non_square_mat)"
      ],
      "metadata": {
        "id": "w6qBU1zKsTe_"
      },
      "execution_count": null,
      "outputs": []
    },
    {
      "cell_type": "code",
      "source": [
        "square_mat = np.array([\n",
        "   [44,43,34,77,85],\n",
        "   [21,18,33,44,97],  \n",
        "   [72,42,66,55,82],\n",
        "   [25,27,88,99,75],\n",
        "   [45,37,98,19,15],           \n",
        "])\n",
        "\n",
        "non_square_mat = np.array([\n",
        "   [72,77,25, 63],    \n",
        "   [75,13,10, 89],\n",
        "   [65,23,80, 79]                    \n",
        "])\n",
        "mat_desc(square_mat)\n",
        "mat_desc(non_square_mat)"
      ],
      "metadata": {
        "id": "IqQKqBITsXHk"
      },
      "execution_count": null,
      "outputs": []
    },
    {
      "cell_type": "markdown",
      "source": [
        "## Identity, Ones, Zero Or Empty Matrix"
      ],
      "metadata": {
        "id": "bHQ5RTPnsjJA"
      }
    },
    {
      "cell_type": "markdown",
      "source": [
        "### Null Matrix or Empty Matrix"
      ],
      "metadata": {
        "id": "79Zobt8mtiab"
      }
    },
    {
      "cell_type": "code",
      "source": [
        "null_mat = np.array([])\n",
        "mat_desc(null_mat)\n"
      ],
      "metadata": {
        "id": "PN6E69fatYvE"
      },
      "execution_count": null,
      "outputs": []
    },
    {
      "cell_type": "markdown",
      "source": [
        "### Zero Matrix"
      ],
      "metadata": {
        "id": "kSiWX4Q_tYgZ"
      }
    },
    {
      "cell_type": "code",
      "source": [
        "zero_mat = np.array([\n",
        "   [0,0,0,0],\n",
        "   [0,0,0,0],  \n",
        "   [0,0,0,0],\n",
        "   [0,0,0,0]          \n",
        "])\n",
        "mat_desc(zero_mat)"
      ],
      "metadata": {
        "id": "JB3u8WHytodM"
      },
      "execution_count": null,
      "outputs": []
    },
    {
      "cell_type": "markdown",
      "source": [
        "### Ones Matrix"
      ],
      "metadata": {
        "id": "bB-ADFtwtrkO"
      }
    },
    {
      "cell_type": "code",
      "source": [
        "ones_mat = np.array([\n",
        "   [1,1,1,1,1],\n",
        "   [1,1,1,1,1],\n",
        "   [1,1,1,1,1],\n",
        "   [1,1,1,1,1],\n",
        "   [1,1,1,1,1],          \n",
        "])\n",
        "mat_desc(ones_mat)"
      ],
      "metadata": {
        "id": "WNhNspictvPB"
      },
      "execution_count": null,
      "outputs": []
    },
    {
      "cell_type": "markdown",
      "source": [
        "### Identity Matrix"
      ],
      "metadata": {
        "id": "uYoStCnOtwht"
      }
    },
    {
      "cell_type": "code",
      "source": [
        "identity_mat = np.array([\n",
        "   [1., 0., 0., 0., 0., 0., 0., 0.],\n",
        "   [0., 1., 0., 0., 0., 0., 0., 0.],\n",
        "   [0., 0., 1., 0., 0., 0., 0., 0.],\n",
        "   [0., 0., 0., 1., 0., 0., 0., 0.],\n",
        "   [0., 0., 0., 0., 1., 0., 0., 0.],\n",
        "   [0., 0., 0., 0., 0., 1., 0., 0.],\n",
        "   [0., 0., 0., 0., 0., 0., 1., 0.],\n",
        "   [0., 0., 0., 0., 0., 0., 0., 1.]        \n",
        "])\n",
        "mat_desc(identity_mat)"
      ],
      "metadata": {
        "id": "XiowmFkEt3WS"
      },
      "execution_count": null,
      "outputs": []
    },
    {
      "cell_type": "markdown",
      "source": [
        "## Task 2\n",
        "\n",
        "Create a function named mat_operations() that takes in two matrices a input parameters it should:\n",
        "\n",
        "1. Determines if the matrices are viable for operation and returns your \n",
        " own error message if they are not viable.\n",
        "2. Returns the sum of the matrices.\n",
        "3. Returns the different of the matrices.\n",
        "4. Returns the element-wise multiplication of the matrices.\n",
        "5. Returns the element-wise division of the matrices.\n",
        "Use 5 sample matrices in which their shapes are not lower than . In your methodology, create a flowchart discuss the functions and methods you have done. Present your results in the results section showing the description of each matrix you have declared."
      ],
      "metadata": {
        "id": "QLqwSwS6t9bl"
      }
    },
    {
      "cell_type": "code",
      "source": [
        "def mat_operations(mat1, mat2):\n",
        "    mat1 = np.array(mat1)\n",
        "    mat2 = np.array(mat2)\n",
        "    print('Matrix 1:\\n', mat1)\n",
        "    print()\n",
        "    print('Matrix 2:\\n', mat2)\n",
        "    print()\n",
        "    if(mat1.shape != mat2.shape):\n",
        "        print('Since the shape of both matrices are not the same, we could not perform the operations.')\n",
        "        return\n",
        "    print('Sum of the given matrices:')\n",
        "    print()\n",
        "    Addition = mat1 + mat2\n",
        "    print(Addition)\n",
        "    print()\n",
        "    print('Difference of the given matrices:')\n",
        "    print()\n",
        "    Subtraction = mat1 - mat2\n",
        "    print(Subtraction)\n",
        "    print()\n",
        "    print('Element-wise multiplication product of the given matrices:')\n",
        "    print()\n",
        "    EW_Multiplication = np.multiply(mat1, mat2)\n",
        "    print(EW_Multiplication)\n",
        "    print()\n",
        "    print('Element-wise division quotient of the given matrices:')\n",
        "    print()\n",
        "    EW_Division = np.divide(mat1, mat2)\n",
        "    print(EW_Division)"
      ],
      "metadata": {
        "id": "Rs0eOXd-UTNZ"
      },
      "execution_count": 48,
      "outputs": []
    },
    {
      "cell_type": "code",
      "source": [
        "print('Sample 1:\\n')\n",
        "mat_operations([[7,4,6], [5,4,7], [1,3,9]], [[6,2,6],[8,4,1],[7,2,1]])\n",
        "\n",
        "print()\n",
        "print()\n",
        "\n",
        "print('Sample 2:\\n')\n",
        "mat_operations([[4, 6, 6,1], [8,3,8,5], [2,1,3,9]], [[7,3,2,8],[4,7,4,2],[9,7,0,5]])\n",
        "\n",
        "print()\n",
        "print()\n",
        "\n",
        "print('Sample 3:\\n')\n",
        "mat_operations([[3,8,0], [5,8,4], [8,1,4]], [[2,4,5],[3,5,9],[1,2,8]])\n",
        "\n",
        "print()\n",
        "print()\n",
        "\n",
        "print('Sample 4:\\n')\n",
        "mat_operations([[4,2,1,6], [3,5,0,9]], [[8,4,3,7,0],[1,2,3,4,5],[6,7,8,9,10]])\n",
        "\n",
        "print()\n",
        "print()\n",
        "\n",
        "print('Sample 5:\\n')\n",
        "mat_operations([[4,7,5,3,2,1], [8,3,6,5,9,7], [5,1,4,7,3,1]], [[9,3,6,8,3,2],[8,9,3,5,4,3],[4,6,9,2,1,1]])"
      ],
      "metadata": {
        "id": "tE1dvHiDUYOo"
      },
      "execution_count": null,
      "outputs": []
    }
  ]
}