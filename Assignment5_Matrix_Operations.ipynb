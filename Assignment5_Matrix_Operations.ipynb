{
  "nbformat": 4,
  "nbformat_minor": 0,
  "metadata": {
    "colab": {
      "name": "Assignment5_Matrix Operations.ipynb",
      "provenance": [],
      "collapsed_sections": [
        "LoVrcsf6VtdZ"
      ],
      "authorship_tag": "ABX9TyM9N/iMoNmS8FMSGIGMf0iy",
      "include_colab_link": true
    },
    "kernelspec": {
      "name": "python3",
      "display_name": "Python 3"
    },
    "language_info": {
      "name": "python"
    }
  },
  "cells": [
    {
      "cell_type": "markdown",
      "metadata": {
        "id": "view-in-github",
        "colab_type": "text"
      },
      "source": [
        "<a href=\"https://colab.research.google.com/github/arnoldsanroque/Linear-Algebra_2nd-Sem/blob/main/Assignment5_Matrix_Operations.ipynb\" target=\"_parent\"><img src=\"https://colab.research.google.com/assets/colab-badge.svg\" alt=\"Open In Colab\"/></a>"
      ]
    },
    {
      "cell_type": "markdown",
      "source": [
        "# Linear Algebra\n",
        "\n",
        "## Laboratory 3: Matrix Operations"
      ],
      "metadata": {
        "id": "bxVcEDM5Qdsu"
      }
    },
    {
      "cell_type": "markdown",
      "source": [
        "Now that you have a fundamental knowledge about representing and operating with vectors as well as the fundamentals of\n",
        "matrices, we'll try to the same operations with matrices and even more."
      ],
      "metadata": {
        "id": "WafRWtkhQwRx"
      }
    },
    {
      "cell_type": "markdown",
      "source": [
        "# Objectives\n",
        "At the end of this activity you will be able to:\n",
        "1. Be familiar with the fundamental matrix operations.\n",
        "2. Apply the operations to solve intermediate equations\n",
        "3. Apply matrix algebra in engineering solutions."
      ],
      "metadata": {
        "id": "Fsmnx3pZRZL3"
      }
    },
    {
      "cell_type": "markdown",
      "source": [
        "# Discussion"
      ],
      "metadata": {
        "id": "yIfvm1zURhRA"
      }
    },
    {
      "cell_type": "markdown",
      "source": [
        "Before working on matrices using Python programming language, we need to import first a python library called, NumPy or Numerical Python. NumPy is used when working with arrays, in other words, it has functions when working with matrices [1]. Importing matplotlib.pyplot is also needed since it will enable the researchers to make matplotlib work like MATLAB where its functions make some changes to a certain figure or a plotting area [2]. The %matplotlib inline is also declared first because this is responsible for the line plots when the codes are run [3]. "
      ],
      "metadata": {
        "id": "t1go_xIWhHXc"
      }
    },
    {
      "cell_type": "code",
      "source": [
        "import numpy as np\n",
        "import matplotlib.pyplot as plt\n",
        "%matplotlib inline"
      ],
      "metadata": {
        "id": "DgdpLL2BRoVO"
      },
      "execution_count": 187,
      "outputs": []
    },
    {
      "cell_type": "markdown",
      "source": [
        "## Transposition"
      ],
      "metadata": {
        "id": "3ICqDIrvR_xQ"
      }
    },
    {
      "cell_type": "markdown",
      "source": [
        "According to Cuemath [4], the transposition of the matrix in linear algebra is obtained by changing the rows into columns and columns into rows. This method is crucial, especially in solving systems of equations regarding the inverse of a matrix and also in estimating variances in regression. So for a matrix A its\n",
        "transpose is denoted as $A^T$. So for example: \n",
        "\n",
        "$$ \n",
        "A=\\begin{bmatrix} 1 & 2 & 5 \\\\ 5 & -1 & 0 \\\\ 0 & -3 & 3\\end{bmatrix}\n",
        "$$"
      ],
      "metadata": {
        "id": "NybCSqxaS3Ht"
      }
    },
    {
      "cell_type": "markdown",
      "source": [
        "$$ \n",
        "A^T = \\begin{bmatrix} 1 & 5 & 0\\\\2 & -1 &-3 \\\\ 5 & 0 & 3\\end{bmatrix}\n",
        "$$"
      ],
      "metadata": {
        "id": "fVaTNgPnUqHh"
      }
    },
    {
      "cell_type": "markdown",
      "source": [
        "This can now be achieved programmatically by using `np.transpose()` or using the `T` method."
      ],
      "metadata": {
        "id": "zQousmjOU29Y"
      }
    },
    {
      "cell_type": "code",
      "source": [
        "A = np.array([\n",
        "    [1 ,2, 5],\n",
        "    [5, -1, 0],\n",
        "    [0, -3, 3]\n",
        "])\n",
        "A"
      ],
      "metadata": {
        "id": "meFecYTuU96g",
        "colab": {
          "base_uri": "https://localhost:8080/"
        },
        "outputId": "7d118e07-34bd-442c-ecc3-b96b610c2e1e"
      },
      "execution_count": 184,
      "outputs": [
        {
          "output_type": "execute_result",
          "data": {
            "text/plain": [
              "array([[ 1,  2,  5],\n",
              "       [ 5, -1,  0],\n",
              "       [ 0, -3,  3]])"
            ]
          },
          "metadata": {},
          "execution_count": 184
        }
      ]
    },
    {
      "cell_type": "code",
      "source": [
        "AT1 = np.transpose(A)\n",
        "AT1"
      ],
      "metadata": {
        "id": "Tjqqunc3VAKA",
        "colab": {
          "base_uri": "https://localhost:8080/"
        },
        "outputId": "7816a2b4-7d7a-43a3-94a2-1e1c4f3b266e"
      },
      "execution_count": 185,
      "outputs": [
        {
          "output_type": "execute_result",
          "data": {
            "text/plain": [
              "array([[ 1,  5,  0],\n",
              "       [ 2, -1, -3],\n",
              "       [ 5,  0,  3]])"
            ]
          },
          "metadata": {},
          "execution_count": 185
        }
      ]
    },
    {
      "cell_type": "code",
      "source": [
        "AT2 = A.T\n",
        "AT2"
      ],
      "metadata": {
        "id": "EOebBrtmVBT2",
        "colab": {
          "base_uri": "https://localhost:8080/"
        },
        "outputId": "f894fb32-d71a-4ec2-f602-b5d144b21e5c"
      },
      "execution_count": 189,
      "outputs": [
        {
          "output_type": "execute_result",
          "data": {
            "text/plain": [
              "array([[ 1,  5,  0],\n",
              "       [ 2, -1, -3],\n",
              "       [ 5,  0,  3]])"
            ]
          },
          "metadata": {},
          "execution_count": 189
        }
      ]
    },
    {
      "cell_type": "code",
      "source": [
        "np.array_equiv(AT1, AT2)"
      ],
      "metadata": {
        "id": "obTlokCtVDjK",
        "colab": {
          "base_uri": "https://localhost:8080/"
        },
        "outputId": "f7ce1c67-b2f9-48d0-bc22-2dd5c939c760"
      },
      "execution_count": 190,
      "outputs": [
        {
          "output_type": "execute_result",
          "data": {
            "text/plain": [
              "True"
            ]
          },
          "metadata": {},
          "execution_count": 190
        }
      ]
    },
    {
      "cell_type": "code",
      "source": [
        "B = np.array([\n",
        "    [1,2,3,4],\n",
        "    [1,0,2,1],\n",
        "])\n",
        "B.shape"
      ],
      "metadata": {
        "id": "8lxhDR4UVF2r",
        "colab": {
          "base_uri": "https://localhost:8080/"
        },
        "outputId": "ba87376c-5540-42da-a8a4-74918cd77748"
      },
      "execution_count": 191,
      "outputs": [
        {
          "output_type": "execute_result",
          "data": {
            "text/plain": [
              "(2, 4)"
            ]
          },
          "metadata": {},
          "execution_count": 191
        }
      ]
    },
    {
      "cell_type": "code",
      "source": [
        "np.transpose(B).shape"
      ],
      "metadata": {
        "id": "k0NH2Ee3VKmr",
        "colab": {
          "base_uri": "https://localhost:8080/"
        },
        "outputId": "61a91d08-256f-4d98-8f36-5269e75af896"
      },
      "execution_count": 192,
      "outputs": [
        {
          "output_type": "execute_result",
          "data": {
            "text/plain": [
              "(4, 2)"
            ]
          },
          "metadata": {},
          "execution_count": 192
        }
      ]
    },
    {
      "cell_type": "code",
      "source": [
        "B.T.shape"
      ],
      "metadata": {
        "id": "Xe0OykMhVNDV",
        "colab": {
          "base_uri": "https://localhost:8080/"
        },
        "outputId": "9f8aeb7c-5d5c-496c-84d6-193a7782e4f3"
      },
      "execution_count": 193,
      "outputs": [
        {
          "output_type": "execute_result",
          "data": {
            "text/plain": [
              "(4, 2)"
            ]
          },
          "metadata": {},
          "execution_count": 193
        }
      ]
    },
    {
      "cell_type": "markdown",
      "source": [
        "## Dot Product / Inner Product"
      ],
      "metadata": {
        "id": "8EpCYpRKVT-p"
      }
    },
    {
      "cell_type": "markdown",
      "source": [
        "A dot product is an algebraic operation that is computed using two equal-sized vectors resulting in one scalar value [5]. Just like its definition, the dot product or inner product in the Python programming language is an algebraic operation between two arrays or matrices. However, the dot product of vectors is one-dimensional meaning there are fewer restrictions than the dot product of matrices. So if we have two matrices $X$ and $Y$:\n",
        "\n",
        "$$X = \\begin{bmatrix}x_{(0,0)}&x_{(0,1)}\\\\ x_{(1,0)}&x_{(1,1)}\\end{bmatrix}, Y = \\begin{bmatrix}y_{(0,0)}&y_{(0,1)}\\\\ y_{(1,0)}&y_{(1,1)}\\end{bmatrix}$$\n",
        "\n",
        "The dot product will then be computed as:\n",
        "$$X \\cdot Y= \\begin{bmatrix} x_{(0,0)}*y_{(0,0)} + x_{(0,1)}*y_{(1,0)} & x_{(0,0)}*y_{(0,1)} + x_{(0,1)}*y_{(1,1)} \\\\  x_{(1,0)}*y_{(0,0)} + x_{(1,1)}*y_{(1,0)} & x_{(1,0)}*y_{(0,1)} + x_{(1,1)}*y_{(1,1)}\n",
        "\\end{bmatrix}$$\n",
        "\n",
        "So if we assign values to $X$ and $Y$:\n",
        "$$X = \\begin{bmatrix}1&2\\\\ 0&1\\end{bmatrix}, Y = \\begin{bmatrix}-1&0\\\\ 2&2\\end{bmatrix}$$"
      ],
      "metadata": {
        "id": "YTOrs2UmVaNU"
      }
    },
    {
      "cell_type": "markdown",
      "source": [
        "$$X \\cdot Y= \\begin{bmatrix} 1*-1 + 2*2 & 1*0 + 2*2 \\\\  0*-1 + 1*2 & 0*0 + 1*2 \\end{bmatrix} = \\begin{bmatrix} 3 & 4 \\\\2 & 2 \\end{bmatrix}$$\n",
        "This could be achieved programmatically using `np.dot()`, `np.matmul()` or the `@` operator."
      ],
      "metadata": {
        "id": "YIZHL9UjVfaZ"
      }
    },
    {
      "cell_type": "code",
      "source": [
        "X = np.array([\n",
        "    [1,2],\n",
        "    [0,1]\n",
        "])\n",
        "Y = np.array([\n",
        "    [-1,0],\n",
        "    [2,2]\n",
        "])"
      ],
      "metadata": {
        "id": "NMrDtzBDVi3T"
      },
      "execution_count": 194,
      "outputs": []
    },
    {
      "cell_type": "code",
      "source": [
        "np.dot(X,Y)"
      ],
      "metadata": {
        "id": "skh-rW3lVk8p",
        "colab": {
          "base_uri": "https://localhost:8080/"
        },
        "outputId": "ca4fc745-f02c-481f-90f3-8398fcc98a59"
      },
      "execution_count": 195,
      "outputs": [
        {
          "output_type": "execute_result",
          "data": {
            "text/plain": [
              "array([[3, 4],\n",
              "       [2, 2]])"
            ]
          },
          "metadata": {},
          "execution_count": 195
        }
      ]
    },
    {
      "cell_type": "code",
      "source": [
        "X.dot(Y)"
      ],
      "metadata": {
        "id": "05xCqkzIVnPB",
        "colab": {
          "base_uri": "https://localhost:8080/"
        },
        "outputId": "fec8f78b-15a0-4116-e6ad-d79ccb0ba135"
      },
      "execution_count": 196,
      "outputs": [
        {
          "output_type": "execute_result",
          "data": {
            "text/plain": [
              "array([[3, 4],\n",
              "       [2, 2]])"
            ]
          },
          "metadata": {},
          "execution_count": 196
        }
      ]
    },
    {
      "cell_type": "code",
      "source": [
        "X @ Y"
      ],
      "metadata": {
        "id": "MmtDsY_AVqM5",
        "colab": {
          "base_uri": "https://localhost:8080/"
        },
        "outputId": "008e6382-0fc2-48de-922c-9c2bd9cf0920"
      },
      "execution_count": 197,
      "outputs": [
        {
          "output_type": "execute_result",
          "data": {
            "text/plain": [
              "array([[3, 4],\n",
              "       [2, 2]])"
            ]
          },
          "metadata": {},
          "execution_count": 197
        }
      ]
    },
    {
      "cell_type": "code",
      "source": [
        "np.matmul(X,Y)"
      ],
      "metadata": {
        "id": "uGfUsEyFVsgD",
        "colab": {
          "base_uri": "https://localhost:8080/"
        },
        "outputId": "4e23ea72-c824-49e3-e16d-1e923fe81b14"
      },
      "execution_count": 198,
      "outputs": [
        {
          "output_type": "execute_result",
          "data": {
            "text/plain": [
              "array([[3, 4],\n",
              "       [2, 2]])"
            ]
          },
          "metadata": {},
          "execution_count": 198
        }
      ]
    },
    {
      "cell_type": "markdown",
      "source": [
        "In matrix dot products there are additional rules compared with vector dot products. Since vector dot products were just in one dimension there are less restrictions. Since now we are dealing with Rank 2 vectors we need to consider some rules:\n",
        "\n",
        "### Rule 1: The inner dimensions of the two matrices in question must be the same. \n",
        "\n",
        "Given a matrix A with a shape of $(a,b)$ where $a$ and $b$ are any integers. If we want to do a dot product between $A$ and another matrix $B$, then matrix $B$ should have a shape of $(b,c)$ where $b$ and $c$ are any integers. So given the following matrices:\n",
        "\n",
        "$$A = \\begin{bmatrix}2&4\\\\5&-2\\\\0&1\\end{bmatrix}, B = \\begin{bmatrix}1&1\\\\3&3\\\\-1&-2\\end{bmatrix}, C = \\begin{bmatrix}0&1&1\\\\1&1&2\\end{bmatrix}$$\n",
        "\n",
        "In this case, $A$ has a shape of $(3,2)$, $B$ has a shape of $(3,2)$ and $C$ has a shape of $(2,3)$. So the only matrix pairs that are eligible to perform dot product is matrices $A$ and $C$ or $B$ and $C$.\n"
      ],
      "metadata": {
        "id": "LoVrcsf6VtdZ"
      }
    },
    {
      "cell_type": "code",
      "source": [
        "A = np.array([\n",
        "    [2, 4],\n",
        "    [5, -2],\n",
        "    [0, 1]\n",
        "])\n",
        "B = np.array([\n",
        "    [1,1],\n",
        "    [3,3],\n",
        "    [-1,-2]\n",
        "])\n",
        "C = np.array([\n",
        "    [0,1,1],\n",
        "    [1,1,2]\n",
        "])\n",
        "print(A.shape)\n",
        "print(B.shape)\n",
        "print(C.shape)"
      ],
      "metadata": {
        "id": "TsLbE_3HV1Ca",
        "colab": {
          "base_uri": "https://localhost:8080/"
        },
        "outputId": "58eb38bd-0a97-4cba-daca-a8473603f53f"
      },
      "execution_count": 199,
      "outputs": [
        {
          "output_type": "stream",
          "name": "stdout",
          "text": [
            "(3, 2)\n",
            "(3, 2)\n",
            "(2, 3)\n"
          ]
        }
      ]
    },
    {
      "cell_type": "code",
      "source": [
        "A @ C"
      ],
      "metadata": {
        "id": "S1RJ4sHTV2J9",
        "colab": {
          "base_uri": "https://localhost:8080/"
        },
        "outputId": "d40dff97-3c27-4500-f50d-316fc1eab5fb"
      },
      "execution_count": 227,
      "outputs": [
        {
          "output_type": "execute_result",
          "data": {
            "text/plain": [
              "array([[106,  82,  92],\n",
              "       [173, 130, 153],\n",
              "       [116, 113, 118]])"
            ]
          },
          "metadata": {},
          "execution_count": 227
        }
      ]
    },
    {
      "cell_type": "code",
      "source": [
        "B @ C"
      ],
      "metadata": {
        "id": "Sy5NpTXqV5aW",
        "colab": {
          "base_uri": "https://localhost:8080/"
        },
        "outputId": "d158c4d9-fa88-4fd6-bef7-b2b3760d27e0"
      },
      "execution_count": 201,
      "outputs": [
        {
          "output_type": "execute_result",
          "data": {
            "text/plain": [
              "array([[ 1,  2,  3],\n",
              "       [ 3,  6,  9],\n",
              "       [-2, -3, -5]])"
            ]
          },
          "metadata": {},
          "execution_count": 201
        }
      ]
    },
    {
      "cell_type": "markdown",
      "source": [
        "It is noticeable that the shape of the dot product changed and its shape is not the same as any of the matrices used. The shape of a dot product is derived from the shapes of the matrices used. Recall matrix $A$ with a shape of $(a,b)$ and matrix $B$ with a shape of $(b,c)$, $A$ dot $B$ should have a shape of $(a,c)$.\n"
      ],
      "metadata": {
        "id": "hFMsYf2SV_Fq"
      }
    },
    {
      "cell_type": "code",
      "source": [
        "A @ B.T"
      ],
      "metadata": {
        "id": "SSngYTuYWCtB",
        "colab": {
          "base_uri": "https://localhost:8080/"
        },
        "outputId": "a3fdfdf6-04c4-4ec4-8e41-7252af3754ff"
      },
      "execution_count": 202,
      "outputs": [
        {
          "output_type": "execute_result",
          "data": {
            "text/plain": [
              "array([[  6,  18, -10],\n",
              "       [  3,   9,  -1],\n",
              "       [  1,   3,  -2]])"
            ]
          },
          "metadata": {},
          "execution_count": 202
        }
      ]
    },
    {
      "cell_type": "code",
      "source": [
        "X = np.array([\n",
        "    [1,2,3,0]\n",
        "])\n",
        "Y = np.array([\n",
        "    [1,0,4,-1]\n",
        "])\n",
        "print(X.shape)\n",
        "print(Y.shape)"
      ],
      "metadata": {
        "id": "nJ9sK-rkWDc6",
        "colab": {
          "base_uri": "https://localhost:8080/"
        },
        "outputId": "99e3d9e5-56a8-4a6c-aa32-65acb36ea055"
      },
      "execution_count": 203,
      "outputs": [
        {
          "output_type": "stream",
          "name": "stdout",
          "text": [
            "(1, 4)\n",
            "(1, 4)\n"
          ]
        }
      ]
    },
    {
      "cell_type": "code",
      "source": [
        "Y.T @ X"
      ],
      "metadata": {
        "id": "WELhcox0WFUi",
        "colab": {
          "base_uri": "https://localhost:8080/"
        },
        "outputId": "7a0c498e-c78b-4de2-e212-c8c1ffef287b"
      },
      "execution_count": 204,
      "outputs": [
        {
          "output_type": "execute_result",
          "data": {
            "text/plain": [
              "array([[ 1,  2,  3,  0],\n",
              "       [ 0,  0,  0,  0],\n",
              "       [ 4,  8, 12,  0],\n",
              "       [-1, -2, -3,  0]])"
            ]
          },
          "metadata": {},
          "execution_count": 204
        }
      ]
    },
    {
      "cell_type": "markdown",
      "source": [
        "### Rule 2: Dot Product has special properties\n",
        "Dot products are prevalent in matrix algebra, this implies that it has several unique properties and should be considered when formulating solutions:\n",
        " 1. $A \\cdot B \\neq B \\cdot A$\n",
        " 2. $A \\cdot (B \\cdot C) = (A \\cdot B) \\cdot C$\n",
        " 3. $A\\cdot(B+C) = A\\cdot B + A\\cdot C$\n",
        " 4. $(B+C)\\cdot A = B\\cdot A + C\\cdot A$\n",
        " 5. $A\\cdot I = A$\n",
        " 6. $A\\cdot \\emptyset = \\emptyset$ "
      ],
      "metadata": {
        "id": "bsrbYGrYWXeK"
      }
    },
    {
      "cell_type": "code",
      "source": [
        "A = np.array([\n",
        "    [3,2,1],\n",
        "    [4,5,1],\n",
        "    [1,1,0]\n",
        "])\n",
        "B = np.array([\n",
        "    [4,1,6],\n",
        "    [4,1,9],\n",
        "    [1,4,8]\n",
        "])\n",
        "C = np.array([\n",
        "    [1,1,0],\n",
        "    [0,1,1],\n",
        "    [1,0,1]\n",
        "])"
      ],
      "metadata": {
        "id": "1f5CiohbWVly"
      },
      "execution_count": 206,
      "outputs": []
    },
    {
      "cell_type": "code",
      "source": [
        "A.dot(np.zeros(A.shape))"
      ],
      "metadata": {
        "id": "VgH4wdgbWdiO",
        "colab": {
          "base_uri": "https://localhost:8080/"
        },
        "outputId": "8aa028b1-631a-444f-d17a-aeb57fb165f6"
      },
      "execution_count": 207,
      "outputs": [
        {
          "output_type": "execute_result",
          "data": {
            "text/plain": [
              "array([[0., 0., 0.],\n",
              "       [0., 0., 0.],\n",
              "       [0., 0., 0.]])"
            ]
          },
          "metadata": {},
          "execution_count": 207
        }
      ]
    },
    {
      "cell_type": "code",
      "source": [
        "z_mat = np.zeros(A.shape)\n",
        "z_mat"
      ],
      "metadata": {
        "id": "VMDT5442Wfmj",
        "colab": {
          "base_uri": "https://localhost:8080/"
        },
        "outputId": "d3da7944-7400-45d7-edfb-375d778626ac"
      },
      "execution_count": 208,
      "outputs": [
        {
          "output_type": "execute_result",
          "data": {
            "text/plain": [
              "array([[0., 0., 0.],\n",
              "       [0., 0., 0.],\n",
              "       [0., 0., 0.]])"
            ]
          },
          "metadata": {},
          "execution_count": 208
        }
      ]
    },
    {
      "cell_type": "code",
      "source": [
        "a_dot_z = A.dot(np.zeros(A.shape))\n",
        "a_dot_z"
      ],
      "metadata": {
        "id": "-j0gCnPuWhjw",
        "colab": {
          "base_uri": "https://localhost:8080/"
        },
        "outputId": "a5dccffe-0408-4a7d-f9c7-52d93d567b15"
      },
      "execution_count": 209,
      "outputs": [
        {
          "output_type": "execute_result",
          "data": {
            "text/plain": [
              "array([[0., 0., 0.],\n",
              "       [0., 0., 0.],\n",
              "       [0., 0., 0.]])"
            ]
          },
          "metadata": {},
          "execution_count": 209
        }
      ]
    },
    {
      "cell_type": "code",
      "source": [
        "np.array_equal(a_dot_z,z_mat)"
      ],
      "metadata": {
        "id": "870wq1ZwWjNL",
        "colab": {
          "base_uri": "https://localhost:8080/"
        },
        "outputId": "3255cb25-3f67-48e6-ca49-ad44a8e93ed0"
      },
      "execution_count": 210,
      "outputs": [
        {
          "output_type": "execute_result",
          "data": {
            "text/plain": [
              "True"
            ]
          },
          "metadata": {},
          "execution_count": 210
        }
      ]
    },
    {
      "cell_type": "code",
      "source": [
        "null_mat = np.empty(A.shape, dtype=float)\n",
        "null = np.array(null_mat,dtype=float)\n",
        "print(null)\n",
        "np.allclose(a_dot_z,null)"
      ],
      "metadata": {
        "id": "DkT49CSNWlYQ",
        "colab": {
          "base_uri": "https://localhost:8080/"
        },
        "outputId": "41198f32-771f-4c25-d6a0-0c57f441c3af"
      },
      "execution_count": 211,
      "outputs": [
        {
          "output_type": "stream",
          "name": "stdout",
          "text": [
            "[[0. 0. 0.]\n",
            " [0. 0. 0.]\n",
            " [0. 0. 0.]]\n"
          ]
        },
        {
          "output_type": "execute_result",
          "data": {
            "text/plain": [
              "True"
            ]
          },
          "metadata": {},
          "execution_count": 211
        }
      ]
    },
    {
      "cell_type": "markdown",
      "source": [
        "## Determinant"
      ],
      "metadata": {
        "id": "TUMfpzG9WnKq"
      }
    },
    {
      "cell_type": "markdown",
      "source": [
        "In matrices, determinants scalar values that is calculated from a square matrix. It helps to solve inverses of matrices, systems of linear equations, calculus, etc [6]. \n",
        "\n",
        "The determinant of some matrix $A$ is denoted as $det(A)$ or $|A|$. So let's say $A$ is represented as:\n",
        "$$A = \\begin{bmatrix}a_{(0,0)}&a_{(0,1)}\\\\a_{(1,0)}&a_{(1,1)}\\end{bmatrix}$$\n",
        "We can compute for the determinant as:\n",
        "$$|A| = a_{(0,0)}*a_{(1,1)} - a_{(1,0)}*a_{(0,1)}$$\n",
        "So if we have $A$ as:\n",
        "$$A = \\begin{bmatrix}1&4\\\\0&3\\end{bmatrix}, |A| = 3$$\n",
        "\n",
        "The representation is not limited to 2x2 matrices. This problem can be solved by using several methods such as co-factor expansion and the minors method. To solve this programmatically, the code `np.linalg.det()` is used."
      ],
      "metadata": {
        "id": "yrpRpDSuWzyY"
      }
    },
    {
      "cell_type": "code",
      "source": [
        "A = np.array([\n",
        "    [1,4],\n",
        "    [0,3]\n",
        "])\n",
        "np.linalg.det(A)"
      ],
      "metadata": {
        "id": "2UsIrIdTW3M4",
        "colab": {
          "base_uri": "https://localhost:8080/"
        },
        "outputId": "3cd87b73-e4cd-4f6e-8d89-fe8a34face4b"
      },
      "execution_count": 212,
      "outputs": [
        {
          "output_type": "execute_result",
          "data": {
            "text/plain": [
              "3.0000000000000004"
            ]
          },
          "metadata": {},
          "execution_count": 212
        }
      ]
    },
    {
      "cell_type": "code",
      "source": [
        "B = np.array([\n",
        "    [1,3,5,6],\n",
        "    [0,3,1,3],\n",
        "    [3,1,8,2],\n",
        "    [5,2,6,8]\n",
        "])\n",
        "np.linalg.det(B)"
      ],
      "metadata": {
        "id": "zoNdZQqLW6J5",
        "colab": {
          "base_uri": "https://localhost:8080/"
        },
        "outputId": "e9c17c2b-535f-45af-da58-03047391fc9f"
      },
      "execution_count": 213,
      "outputs": [
        {
          "output_type": "execute_result",
          "data": {
            "text/plain": [
              "-235.0000000000002"
            ]
          },
          "metadata": {},
          "execution_count": 213
        }
      ]
    },
    {
      "cell_type": "markdown",
      "source": [
        "## Inverse"
      ],
      "metadata": {
        "id": "lVLp5vTAXBb4"
      }
    },
    {
      "cell_type": "markdown",
      "source": [
        "The inverse of a matrix is a fundamental operation in matrix algebra wherein the given matrix gives a multiplicative identity of a matrix [7]. The inverse of a matrix determines the matrix’s solvability and characteristics as a system of linear equations.\n",
        "\n",
        "Now to determine the inverse of a matrix we need to perform several steps. \n",
        "\n",
        "So let's say we have a matrix $M$:\n",
        "$$M = \\begin{bmatrix}1&7\\\\-3&5\\end{bmatrix}$$\n",
        "First, we need to get the determinant of $M$.\n",
        "$$|M| = (1)(5)-(-3)(7) = 26$$\n",
        "Next, we need to reform the matrix into the inverse form:\n",
        "$$M^{-1} = \\frac{1}{|M|} \\begin{bmatrix} m_{(1,1)} & -m_{(0,1)} \\\\ -m_{(1,0)} & m_{(0,0)}\\end{bmatrix}$$\n",
        "So that will be:\n",
        "$$M^{-1} = \\frac{1}{26} \\begin{bmatrix} 5 & -7 \\\\ 3 & 1\\end{bmatrix} = \\begin{bmatrix} \\frac{5}{26} & \\frac{-7}{26} \\\\ \\frac{3}{26} & \\frac{1}{26}\\end{bmatrix}$$\n",
        "\n",
        "For higher-dimension matrices, co-factors, minors, adjugates, and other reduction techniques are used. To solve this programmatically, the code `np.linalg.inv()` is used."
      ],
      "metadata": {
        "id": "MCg2pIKXXEBm"
      }
    },
    {
      "cell_type": "code",
      "source": [
        "M = np.array([\n",
        "    [1,7],\n",
        "    [-3, 5]\n",
        "])\n",
        "\n",
        "np.array(M @ np.linalg.inv(M), dtype=int)"
      ],
      "metadata": {
        "id": "s-r1IpQBXKPv",
        "colab": {
          "base_uri": "https://localhost:8080/"
        },
        "outputId": "a0c749d6-6425-4074-be3a-11c4c7b7d1b4"
      },
      "execution_count": 214,
      "outputs": [
        {
          "output_type": "execute_result",
          "data": {
            "text/plain": [
              "array([[1, 0],\n",
              "       [0, 1]])"
            ]
          },
          "metadata": {},
          "execution_count": 214
        }
      ]
    },
    {
      "cell_type": "code",
      "source": [
        "N = np.array([\n",
        "    [18,5,23,1,0,33,5],\n",
        "    [0,45,0,11,2,4,2],\n",
        "    [5,9,20,0,0,0,3],\n",
        "    [1,6,4,4,8,43,1],\n",
        "    [8,6,8,7,1,6,1],\n",
        "    [-5,15,2,0,0,6,-30],\n",
        "    [-2,-5,1,2,1,20,12],\n",
        "])\n",
        "N_inv = np.linalg.inv(N)\n",
        "np.array(N @ N_inv,dtype=int)"
      ],
      "metadata": {
        "id": "-PaHtCp9XLGP",
        "colab": {
          "base_uri": "https://localhost:8080/"
        },
        "outputId": "7d34b8e9-fe72-40cf-c0e7-e6596bd29111"
      },
      "execution_count": 215,
      "outputs": [
        {
          "output_type": "execute_result",
          "data": {
            "text/plain": [
              "array([[0, 0, 0, 0, 0, 0, 0],\n",
              "       [0, 0, 0, 0, 0, 0, 0],\n",
              "       [0, 0, 1, 0, 0, 0, 0],\n",
              "       [0, 0, 0, 1, 0, 0, 0],\n",
              "       [0, 0, 0, 0, 0, 0, 0],\n",
              "       [0, 0, 0, 0, 0, 0, 0],\n",
              "       [0, 0, 0, 0, 0, 0, 0]])"
            ]
          },
          "metadata": {},
          "execution_count": 215
        }
      ]
    },
    {
      "cell_type": "markdown",
      "source": [
        "To validate the wether if the matrix that you have solved is really the inverse, we follow this dot product property for a matrix $M$:\n",
        "$$M\\cdot M^{-1} = I$$"
      ],
      "metadata": {
        "id": "4v7KxPX2XTHv"
      }
    },
    {
      "cell_type": "code",
      "source": [
        "squad = np.array([\n",
        "    [1.0, 1.0, 0.5],\n",
        "    [0.7, 0.7, 0.9],\n",
        "    [0.3, 0.3, 1.0]\n",
        "])\n",
        "weights = np.array([\n",
        "    [0.2, 0.2, 0.6]\n",
        "])\n",
        "p_grade = squad @ weights.T\n",
        "p_grade\n"
      ],
      "metadata": {
        "id": "wB4x_DBSXObr",
        "colab": {
          "base_uri": "https://localhost:8080/"
        },
        "outputId": "c6b5611d-06de-43f8-ff16-2b39499643f3"
      },
      "execution_count": 216,
      "outputs": [
        {
          "output_type": "execute_result",
          "data": {
            "text/plain": [
              "array([[0.7 ],\n",
              "       [0.82],\n",
              "       [0.72]])"
            ]
          },
          "metadata": {},
          "execution_count": 216
        }
      ]
    },
    {
      "cell_type": "markdown",
      "source": [
        "## Activity"
      ],
      "metadata": {
        "id": "6AfwkE5BXYZz"
      }
    },
    {
      "cell_type": "markdown",
      "source": [
        "Prove and implement the remaining 6 matrix multiplication properties. You may create your own matrices in which their shapes should not be lower than $(3,3)$.\n",
        "In your methodology, create individual flowcharts for each property and discuss the property you would then present your proofs or validity of your implementation in the results section by comparing your result to present functions from NumPy."
      ],
      "metadata": {
        "id": "MIa0VstWXa3v"
      }
    },
    {
      "cell_type": "code",
      "source": [
        "A = np.array([\n",
        "    [2,4,6],\n",
        "    [5,7,8],  \n",
        "    [4,2,9]  \n",
        "])\n",
        "\n",
        "B = np.array([\n",
        "   [7,4,9],\n",
        "   [15,6,8],  \n",
        "   [14,22,5]            \n",
        "])\n",
        "\n",
        "C = np.array([\n",
        "    [5,6,8],\n",
        "    [12,4,7], \n",
        "    [8,9,8]\n",
        "])"
      ],
      "metadata": {
        "id": "O87_8LwNXgtL"
      },
      "execution_count": 217,
      "outputs": []
    },
    {
      "cell_type": "code",
      "source": [
        "# Commutative Property (First Property)\n",
        "print(\"The First Property states A*B is Not Equal to B*A\")\n",
        "print()\n",
        "\n",
        "print(\"Matrix A: \\n{}\".format(A))\n",
        "print()\n",
        "print(\"Matrix B: \\n{}\".format(B))\n",
        "print()\n",
        "\n",
        "x = A@B\n",
        "print(\"A@B\\n\\n{}\".format(x))\n",
        "print()\n",
        "y = B@A\n",
        "print(\"B@A\\n\\n{}\".format(y))\n",
        "print()\n",
        "\n",
        "a = np.array_equiv(x,y)\n",
        "print(\"Is A@B equal to B@A? \\n\")\n",
        "print(a)"
      ],
      "metadata": {
        "id": "WXLI_CKCXgj9",
        "colab": {
          "base_uri": "https://localhost:8080/"
        },
        "outputId": "a1ba2c9e-b1f5-490e-b023-832dadffda87"
      },
      "execution_count": 218,
      "outputs": [
        {
          "output_type": "stream",
          "name": "stdout",
          "text": [
            "The First Property states A*B is Not Equal to B*A\n",
            "\n",
            "Matrix A: \n",
            "[[2 4 6]\n",
            " [5 7 8]\n",
            " [4 2 9]]\n",
            "\n",
            "Matrix B: \n",
            "[[ 7  4  9]\n",
            " [15  6  8]\n",
            " [14 22  5]]\n",
            "\n",
            "A@B\n",
            "\n",
            "[[158 164  80]\n",
            " [252 238 141]\n",
            " [184 226  97]]\n",
            "\n",
            "B@A\n",
            "\n",
            "[[ 70  74 155]\n",
            " [ 92 118 210]\n",
            " [158 220 305]]\n",
            "\n",
            "Is A@B equal to B@A? \n",
            "\n",
            "False\n"
          ]
        }
      ]
    },
    {
      "cell_type": "code",
      "source": [
        "# Associative Property (Second Property)\n",
        "print(\"The Second Property states A@(B@C) = (A@B)@C\")\n",
        "print()\n",
        "\n",
        "print(\"Matrix A: \\n{}\".format(A))\n",
        "print()\n",
        "print(\"Matrix B: \\n{}\".format(B))\n",
        "print()\n",
        "print(\"Matrix C: \\n{}\".format(C))\n",
        "print()\n",
        "\n",
        "x = A@(B@C)\n",
        "print(\"A@(B@C)\\n\\n{}\".format(x))\n",
        "print()\n",
        "y = (A@B)@C\n",
        "print(\"(A@B)@C\\n\\n{}\".format(y))\n",
        "print()\n",
        "\n",
        "a = np.array_equiv(x,y)\n",
        "print(\"Is the Associative Property True? \\n\")\n",
        "print(a)\n"
      ],
      "metadata": {
        "id": "B09RyK8TXgaM",
        "colab": {
          "base_uri": "https://localhost:8080/"
        },
        "outputId": "222555eb-4b8d-4839-bd84-b74429f543a1"
      },
      "execution_count": 219,
      "outputs": [
        {
          "output_type": "stream",
          "name": "stdout",
          "text": [
            "The Second Property states A@(B@C) = (A@B)@C\n",
            "\n",
            "Matrix A: \n",
            "[[2 4 6]\n",
            " [5 7 8]\n",
            " [4 2 9]]\n",
            "\n",
            "Matrix B: \n",
            "[[ 7  4  9]\n",
            " [15  6  8]\n",
            " [14 22  5]]\n",
            "\n",
            "Matrix C: \n",
            "[[ 5  6  8]\n",
            " [12  4  7]\n",
            " [ 8  9  8]]\n",
            "\n",
            "A@(B@C)\n",
            "\n",
            "[[3398 2324 3052]\n",
            " [5244 3733 4810]\n",
            " [4408 2881 3830]]\n",
            "\n",
            "(A@B)@C\n",
            "\n",
            "[[3398 2324 3052]\n",
            " [5244 3733 4810]\n",
            " [4408 2881 3830]]\n",
            "\n",
            "Is the Associative Property True? \n",
            "\n",
            "True\n"
          ]
        }
      ]
    },
    {
      "cell_type": "code",
      "source": [
        "# Distributive Property #1 (Third Property)\n",
        "print(\"The Third Property states A@(B+C) = A@B + A@C\")\n",
        "print()\n",
        "\n",
        "print(\"Matrix A: \\n{}\".format(A))\n",
        "print()\n",
        "print(\"Matrix B: \\n{}\".format(B))\n",
        "print()\n",
        "print(\"Matrix C: \\n{}\".format(C))\n",
        "print()\n",
        "\n",
        "x = A@(B+C)\n",
        "print(\"A@(B+C)\\n\\n{}\".format(x))\n",
        "print()\n",
        "y = A@B + A@C\n",
        "print(\"A@B + A@C\\n\\n{}\".format(y))\n",
        "print()\n",
        "\n",
        "a = np.array_equiv(x,y)\n",
        "print(\"Is the First Distributive Property True? \\n\")\n",
        "print(a)"
      ],
      "metadata": {
        "id": "ASJJVQ2AXgPF",
        "colab": {
          "base_uri": "https://localhost:8080/"
        },
        "outputId": "3508fb4d-2e05-4e79-a029-1f4c16d92672"
      },
      "execution_count": 220,
      "outputs": [
        {
          "output_type": "stream",
          "name": "stdout",
          "text": [
            "The Third Property states A@(B+C) = A@B + A@C\n",
            "\n",
            "Matrix A: \n",
            "[[2 4 6]\n",
            " [5 7 8]\n",
            " [4 2 9]]\n",
            "\n",
            "Matrix B: \n",
            "[[ 7  4  9]\n",
            " [15  6  8]\n",
            " [14 22  5]]\n",
            "\n",
            "Matrix C: \n",
            "[[ 5  6  8]\n",
            " [12  4  7]\n",
            " [ 8  9  8]]\n",
            "\n",
            "A@(B+C)\n",
            "\n",
            "[[264 246 172]\n",
            " [425 368 294]\n",
            " [300 339 215]]\n",
            "\n",
            "A@B + A@C\n",
            "\n",
            "[[264 246 172]\n",
            " [425 368 294]\n",
            " [300 339 215]]\n",
            "\n",
            "Is the First Distributive Property True? \n",
            "\n",
            "True\n"
          ]
        }
      ]
    },
    {
      "cell_type": "code",
      "source": [
        "# Distributive Property #2 (Fourth Property)\n",
        "print(\"The Fourth Property states (B+C)@A = B@A + C@A\")\n",
        "print()\n",
        "\n",
        "print(\"Matrix A: \\n{}\".format(A))\n",
        "print()\n",
        "print(\"Matrix B: \\n{}\".format(B))\n",
        "print()\n",
        "print(\"Matrix C: \\n{}\".format(C))\n",
        "print()\n",
        "\n",
        "x = (B+C)@A\n",
        "print(\"(B+C)@A\\n\\n{}\".format(x))\n",
        "print()\n",
        "y = B@A + C@A\n",
        "print(\"B@A + C@A\\n\\n{}\".format(y))\n",
        "print()\n",
        "\n",
        "a = np.array_equiv(x,y)\n",
        "print(\"Is the Second Distributive Property True? \\n\")\n",
        "print(a)"
      ],
      "metadata": {
        "id": "CT_GTieCf2qc",
        "colab": {
          "base_uri": "https://localhost:8080/"
        },
        "outputId": "451c0b38-1323-42ea-a595-98511fc488ee"
      },
      "execution_count": 221,
      "outputs": [
        {
          "output_type": "stream",
          "name": "stdout",
          "text": [
            "The Fourth Property states (B+C)@A = B@A + C@A\n",
            "\n",
            "Matrix A: \n",
            "[[2 4 6]\n",
            " [5 7 8]\n",
            " [4 2 9]]\n",
            "\n",
            "Matrix B: \n",
            "[[ 7  4  9]\n",
            " [15  6  8]\n",
            " [14 22  5]]\n",
            "\n",
            "Matrix C: \n",
            "[[ 5  6  8]\n",
            " [12  4  7]\n",
            " [ 8  9  8]]\n",
            "\n",
            "(B+C)@A\n",
            "\n",
            "[[142 152 305]\n",
            " [164 208 377]\n",
            " [251 331 497]]\n",
            "\n",
            "B@A + C@A\n",
            "\n",
            "[[142 152 305]\n",
            " [164 208 377]\n",
            " [251 331 497]]\n",
            "\n",
            "Is the Second Distributive Property True? \n",
            "\n",
            "True\n"
          ]
        }
      ]
    },
    {
      "cell_type": "code",
      "source": [
        "# Identity Property (Fifth Property)\n",
        "print(\"The Fifth Property states A@I = A\")\n",
        "print()\n",
        "\n",
        "I = np.array([\n",
        "    [1,0,0],\n",
        "    [0,1,0],\n",
        "    [0,0,1]\n",
        "])\n",
        "print(\"I:\\n{}\".format(I))\n",
        "print()\n",
        "print(\"Matrix A: \\n{}\".format(A))\n",
        "print()\n",
        "\n",
        "x = A@I \n",
        "print(\"A@I \\n{}\".format(x))\n",
        "print()\n",
        "y = A\n",
        "\n",
        "a = np.array_equiv(x,y)\n",
        "print(\"Is the Identity Property Correct?\\n\")\n",
        "print(a)"
      ],
      "metadata": {
        "id": "G04aVS3LXgFd",
        "colab": {
          "base_uri": "https://localhost:8080/"
        },
        "outputId": "9f93437f-32d5-4da1-9cd4-32e0dff8e613"
      },
      "execution_count": 222,
      "outputs": [
        {
          "output_type": "stream",
          "name": "stdout",
          "text": [
            "The Fifth Property states A@I = A\n",
            "\n",
            "I:\n",
            "[[1 0 0]\n",
            " [0 1 0]\n",
            " [0 0 1]]\n",
            "\n",
            "Matrix A: \n",
            "[[2 4 6]\n",
            " [5 7 8]\n",
            " [4 2 9]]\n",
            "\n",
            "A@I \n",
            "[[2 4 6]\n",
            " [5 7 8]\n",
            " [4 2 9]]\n",
            "\n",
            "Is the Identity Property Correct?\n",
            "\n",
            "True\n"
          ]
        }
      ]
    },
    {
      "cell_type": "code",
      "source": [
        "# Null Property (Sixth Property)\n",
        "print(\"The Sixth Property states A@0 = 0\")\n",
        "print()\n",
        "\n",
        "Z = np.zeros((3,3))\n",
        "print(\"Z:\\n{}\".format(Z))\n",
        "print()\n",
        "print(\"Matrix A: \\n{}\".format(A))\n",
        "print()\n",
        "\n",
        "x = A@Z \n",
        "print(\"A@Z \\n{}\".format(x))\n",
        "print()\n",
        "y = A\n",
        "\n",
        "a = np.array_equiv(x,y)\n",
        "print(\"Does A@Z possess any values other than an array of zeroes?\\n\")\n",
        "print(a)"
      ],
      "metadata": {
        "id": "We_eZEqGXf6T",
        "colab": {
          "base_uri": "https://localhost:8080/"
        },
        "outputId": "5bb36bd3-8c98-4dea-8122-ba78186e1ea8"
      },
      "execution_count": 223,
      "outputs": [
        {
          "output_type": "stream",
          "name": "stdout",
          "text": [
            "The Sixth Property states A@0 = 0\n",
            "\n",
            "Z:\n",
            "[[0. 0. 0.]\n",
            " [0. 0. 0.]\n",
            " [0. 0. 0.]]\n",
            "\n",
            "Matrix A: \n",
            "[[2 4 6]\n",
            " [5 7 8]\n",
            " [4 2 9]]\n",
            "\n",
            "A@Z \n",
            "[[0. 0. 0.]\n",
            " [0. 0. 0.]\n",
            " [0. 0. 0.]]\n",
            "\n",
            "Does A@Z possess any values other than an array of zeroes?\n",
            "\n",
            "False\n"
          ]
        }
      ]
    },
    {
      "cell_type": "markdown",
      "source": [
        "## Conclusion"
      ],
      "metadata": {
        "id": "ja720cSDXjae"
      }
    },
    {
      "cell_type": "markdown",
      "source": [
        "  The fundamentals of matrix operations are the ones being focused on in this laboratory report. Transposition, Dot Product, Determinants, and Inverses of matrices are thoroughly discussed as well as the methods used to perform the operations. The importance of these operations has been known as the report continues. Transpositions are important in finding regressions like variances and covariances for the interpretation of data. Dot products are also used in interpreting data that has been gathered by researchers. Finding the determinants is useful in solving linear equations, capturing the transformations of the change in area and volume of a certain material, and changing the variables of an integral. It has been observed that there is no division of matrices and the authors of this laboratory report think that this is where the importance of the inverses of matrices comes in. Moreover, inverses of matrices can also help solve systems of linear equations. With these observations and realizations, the importance of the said operations of matrices has been known. The collection and analysis of a series of matrices lay the groundwork for systematic change in patient care and medical education, as well as providing a rich supply of data for operational and improvement research.\n"
      ],
      "metadata": {
        "id": "FXaQ7ms-XmJq"
      }
    }
  ]
}